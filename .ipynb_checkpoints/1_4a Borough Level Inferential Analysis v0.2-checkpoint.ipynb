{
 "cells": [
  {
   "cell_type": "markdown",
   "metadata": {},
   "source": [
    "# Borough level inferential analysis\n",
    "In other notebooks we have analysed correlations between crime and factors at LSOA level and in this notebook we extend the process to data we only capture at Borough Level. The objective is to capture and clean a series of socioeconomic and crime effectiveness data and then analyse how strongly that data correlates with the serious violent crime data produced previously in the notebook '1_1_Crime Context - England and Wales v1.0'. We want to understand whether crime effectiveness in Boroughs is more highly correlated with crime than a Borough's socio economic characteristics.\n",
    "\n",
    "The data sources we will use are all official data sources though in one instance we need to manually enter the data as it was provided in PDF form (the police force numbers by Borough).\n",
    "\n",
    "## Socio economic and crime effectiveness data and sources\n",
    "### Socio economic factors\n",
    "The socio economic factors we will consider, and the sources we will use, are described below:\n",
    "- School exclusions: https://explore-education-statistics.service.gov.uk/find-statistics/permanent-and-fixed-period-exclusions-in-england#dataDownloads-1\n",
    "- Child mental health: https://fingertips.phe.org.uk/profile-group/mental-health/profile/cypmh/data#page/0/gid/1938133090/pat/6/par/E12000007/ati/102/are/E09000002/iid/93587/age/221/sex/4/cid/4/tbm/1\n",
    "- Rates of looked after children:  https://www.gov.uk/government/statistics/children-looked-after-in-england-including-adoption-2018-to-2019\n",
    "- Child income poverty - we will aggregate to borough level the child income poverty data previously analysed at LSOA level because we know this has one of the biggest correlations with serious violent crime.\n",
    "\n",
    "### Police effectiveness\n",
    "- Police force numbers: Police force numbers (broken down by borough, as result of FOI request) - https://www.met.police.uk/cy-GB/SysSiteAssets/foi-media/metropolitan-police/disclosure_2018/july_2018/information-rights-unit---police-officers-numbers-by-london-borough-for-2016-2017-and-2018\n",
    "- Crime cleanup rates: https://data.police.uk/data/\n",
    "\n",
    "## Serious violent crime data\n",
    "As discussed previously, we will use the Home Office data produced at police force area as we know this is official data. Wwe will use the dataset which includes sexual offences, namely london_csp.csv\n",
    "\n",
    "## Method\n",
    "\n",
    "### 1. Load data\n",
    "Load data check for NaN values and clean as necessary. Then min max scale numeric fields that aren't percentages - for those fields just divide by 100.\n",
    "\n",
    "### 2. Distributional analysis\n",
    "Use histograms and QQplots to review the distribution for each feature to check for normality, skewness and evidence of bi or multi modality within the data. Repeat and assess using log distributions for features which aren't normally distributed. Analyse outliers and drill into specific outliers to assess whether erroneous or important data.   \n",
    "\n",
    "### 3. Define strategy for outliers and distribution\n",
    "We will discuss our approach transforming the data based on our findings so that it is made appropriate for the subsequent inferential statistics.\n",
    "\n",
    "### 4. Produce pearson and spearman correlations for each factor versus serious violent crime\n",
    "Identify which factors have the highest correlation and discuss\n",
    "\n",
    "## Outcomes\n",
    "We will assess the results of the correlation and conclude whether socioeconomic or police effectiveness correlate more highly with serious violent crime."
   ]
  },
  {
   "cell_type": "markdown",
   "metadata": {},
   "source": [
    "## 1. Load data\n",
    "### 1.1. Serious violent crime and child income deprivation\n",
    "We'll start with loading data we've already processed"
   ]
  },
  {
   "cell_type": "code",
   "execution_count": 101,
   "metadata": {},
   "outputs": [],
   "source": [
    "import pandas as pd\n",
    "from matplotlib import pyplot as plt\n",
    "import altair as alt\n",
    "import seaborn as sns\n",
    "import statsmodels.api as sm\n",
    "import scipy.stats as stats\n",
    "import numpy as np"
   ]
  },
  {
   "cell_type": "markdown",
   "metadata": {},
   "source": [
    "#### 1.1.1 Load child income deprivation\n",
    "And then check for NaN values"
   ]
  },
  {
   "cell_type": "code",
   "execution_count": 69,
   "metadata": {},
   "outputs": [
    {
     "data": {
      "text/plain": [
       "(4835, 28)"
      ]
     },
     "metadata": {},
     "output_type": "display_data"
    },
    {
     "data": {
      "text/plain": [
       "(4835, 4)"
      ]
     },
     "metadata": {},
     "output_type": "display_data"
    },
    {
     "data": {
      "text/html": [
       "<div>\n",
       "<style scoped>\n",
       "    .dataframe tbody tr th:only-of-type {\n",
       "        vertical-align: middle;\n",
       "    }\n",
       "\n",
       "    .dataframe tbody tr th {\n",
       "        vertical-align: top;\n",
       "    }\n",
       "\n",
       "    .dataframe thead th {\n",
       "        text-align: right;\n",
       "    }\n",
       "</style>\n",
       "<table border=\"1\" class=\"dataframe\">\n",
       "  <thead>\n",
       "    <tr style=\"text-align: right;\">\n",
       "      <th></th>\n",
       "      <th>lsoa_code</th>\n",
       "      <th>lad_code</th>\n",
       "      <th>lad_name</th>\n",
       "      <th>child_income_deprivation_score</th>\n",
       "    </tr>\n",
       "  </thead>\n",
       "  <tbody>\n",
       "    <tr>\n",
       "      <th>0</th>\n",
       "      <td>E01000001</td>\n",
       "      <td>E09000001</td>\n",
       "      <td>City of London</td>\n",
       "      <td>0.006</td>\n",
       "    </tr>\n",
       "    <tr>\n",
       "      <th>1</th>\n",
       "      <td>E01000002</td>\n",
       "      <td>E09000001</td>\n",
       "      <td>City of London</td>\n",
       "      <td>0.037</td>\n",
       "    </tr>\n",
       "    <tr>\n",
       "      <th>2</th>\n",
       "      <td>E01000003</td>\n",
       "      <td>E09000001</td>\n",
       "      <td>City of London</td>\n",
       "      <td>0.052</td>\n",
       "    </tr>\n",
       "    <tr>\n",
       "      <th>3</th>\n",
       "      <td>E01000005</td>\n",
       "      <td>E09000001</td>\n",
       "      <td>City of London</td>\n",
       "      <td>0.209</td>\n",
       "    </tr>\n",
       "    <tr>\n",
       "      <th>4</th>\n",
       "      <td>E01000006</td>\n",
       "      <td>E09000002</td>\n",
       "      <td>Barking and Dagenham</td>\n",
       "      <td>0.155</td>\n",
       "    </tr>\n",
       "  </tbody>\n",
       "</table>\n",
       "</div>"
      ],
      "text/plain": [
       "   lsoa_code   lad_code              lad_name  child_income_deprivation_score\n",
       "0  E01000001  E09000001        City of London                           0.006\n",
       "1  E01000002  E09000001        City of London                           0.037\n",
       "2  E01000003  E09000001        City of London                           0.052\n",
       "3  E01000005  E09000001        City of London                           0.209\n",
       "4  E01000006  E09000002  Barking and Dagenham                           0.155"
      ]
     },
     "execution_count": 69,
     "metadata": {},
     "output_type": "execute_result"
    }
   ],
   "source": [
    "lsoa_socio = pd.read_csv(\"./DataSources/Income and Deprivation/socio_economic_features.csv\")\n",
    "display(lsoa_socio.shape)\n",
    "\n",
    "lsoa_child_income_deprivation = lsoa_socio[['lsoa_code', 'lad_code', 'lad_name', 'child_income_deprivation_score']].copy()\n",
    "display(lsoa_child_income_deprivation.shape)\n",
    "lsoa_child_income_deprivation.head()"
   ]
  },
  {
   "cell_type": "code",
   "execution_count": 70,
   "metadata": {},
   "outputs": [
    {
     "data": {
      "text/plain": [
       "(4835, 4)"
      ]
     },
     "metadata": {},
     "output_type": "display_data"
    },
    {
     "data": {
      "text/html": [
       "<div>\n",
       "<style scoped>\n",
       "    .dataframe tbody tr th:only-of-type {\n",
       "        vertical-align: middle;\n",
       "    }\n",
       "\n",
       "    .dataframe tbody tr th {\n",
       "        vertical-align: top;\n",
       "    }\n",
       "\n",
       "    .dataframe thead th {\n",
       "        text-align: right;\n",
       "    }\n",
       "</style>\n",
       "<table border=\"1\" class=\"dataframe\">\n",
       "  <thead>\n",
       "    <tr style=\"text-align: right;\">\n",
       "      <th></th>\n",
       "      <th>lsoa_code</th>\n",
       "      <th>lad_code</th>\n",
       "      <th>lad_name</th>\n",
       "      <th>child_income_deprivation_score</th>\n",
       "    </tr>\n",
       "  </thead>\n",
       "  <tbody>\n",
       "  </tbody>\n",
       "</table>\n",
       "</div>"
      ],
      "text/plain": [
       "Empty DataFrame\n",
       "Columns: [lsoa_code, lad_code, lad_name, child_income_deprivation_score]\n",
       "Index: []"
      ]
     },
     "execution_count": 70,
     "metadata": {},
     "output_type": "execute_result"
    }
   ],
   "source": [
    "lsoa_child_income_deprivation = lsoa_child_income_deprivation.dropna(how='all') # only drops a row when every column is NA\n",
    "display(lsoa_child_income_deprivation.shape)\n",
    "\n",
    "# Now check for NaN values\n",
    "nan_values = lsoa_child_income_deprivation[lsoa_child_income_deprivation.isna().any(axis=1)]\n",
    "nan_values"
   ]
  },
  {
   "cell_type": "markdown",
   "metadata": {},
   "source": [
    "##### Comments\n",
    "No NaN values so now aggregate to borough level"
   ]
  },
  {
   "cell_type": "code",
   "execution_count": 71,
   "metadata": {},
   "outputs": [
    {
     "data": {
      "text/plain": [
       "(33, 3)"
      ]
     },
     "metadata": {},
     "output_type": "display_data"
    },
    {
     "data": {
      "text/html": [
       "<div>\n",
       "<style scoped>\n",
       "    .dataframe tbody tr th:only-of-type {\n",
       "        vertical-align: middle;\n",
       "    }\n",
       "\n",
       "    .dataframe tbody tr th {\n",
       "        vertical-align: top;\n",
       "    }\n",
       "\n",
       "    .dataframe thead th {\n",
       "        text-align: right;\n",
       "    }\n",
       "</style>\n",
       "<table border=\"1\" class=\"dataframe\">\n",
       "  <thead>\n",
       "    <tr style=\"text-align: right;\">\n",
       "      <th></th>\n",
       "      <th>lad_code</th>\n",
       "      <th>lad_name</th>\n",
       "      <th>child_income_deprivation_score</th>\n",
       "    </tr>\n",
       "  </thead>\n",
       "  <tbody>\n",
       "    <tr>\n",
       "      <th>0</th>\n",
       "      <td>E09000001</td>\n",
       "      <td>City of London</td>\n",
       "      <td>0.0235</td>\n",
       "    </tr>\n",
       "    <tr>\n",
       "      <th>1</th>\n",
       "      <td>E09000002</td>\n",
       "      <td>Barking and Dagenham</td>\n",
       "      <td>0.2365</td>\n",
       "    </tr>\n",
       "    <tr>\n",
       "      <th>2</th>\n",
       "      <td>E09000003</td>\n",
       "      <td>Barnet</td>\n",
       "      <td>0.1000</td>\n",
       "    </tr>\n",
       "    <tr>\n",
       "      <th>3</th>\n",
       "      <td>E09000004</td>\n",
       "      <td>Bexley</td>\n",
       "      <td>0.1315</td>\n",
       "    </tr>\n",
       "    <tr>\n",
       "      <th>4</th>\n",
       "      <td>E09000005</td>\n",
       "      <td>Brent</td>\n",
       "      <td>0.1560</td>\n",
       "    </tr>\n",
       "  </tbody>\n",
       "</table>\n",
       "</div>"
      ],
      "text/plain": [
       "    lad_code              lad_name  child_income_deprivation_score\n",
       "0  E09000001        City of London                          0.0235\n",
       "1  E09000002  Barking and Dagenham                          0.2365\n",
       "2  E09000003                Barnet                          0.1000\n",
       "3  E09000004                Bexley                          0.1315\n",
       "4  E09000005                 Brent                          0.1560"
      ]
     },
     "execution_count": 71,
     "metadata": {},
     "output_type": "execute_result"
    }
   ],
   "source": [
    "borough_child_income_deprivation = lsoa_child_income_deprivation.groupby(['lad_code', 'lad_name']).median().reset_index()\n",
    "display(borough_child_income_deprivation.shape)\n",
    "borough_child_income_deprivation.head()"
   ]
  },
  {
   "cell_type": "markdown",
   "metadata": {},
   "source": [
    "#### 1.1.1.2 Load and aggregate population data\n",
    "Load mid year estimates for 2019. I need this to prorata the crime data but it's at LSOA level so I need to merge with child income to get the associated borough code and then aggregate."
   ]
  },
  {
   "cell_type": "code",
   "execution_count": 79,
   "metadata": {},
   "outputs": [
    {
     "data": {
      "text/html": [
       "<div>\n",
       "<style scoped>\n",
       "    .dataframe tbody tr th:only-of-type {\n",
       "        vertical-align: middle;\n",
       "    }\n",
       "\n",
       "    .dataframe tbody tr th {\n",
       "        vertical-align: top;\n",
       "    }\n",
       "\n",
       "    .dataframe thead th {\n",
       "        text-align: right;\n",
       "    }\n",
       "</style>\n",
       "<table border=\"1\" class=\"dataframe\">\n",
       "  <thead>\n",
       "    <tr style=\"text-align: right;\">\n",
       "      <th></th>\n",
       "      <th>LSOA Code</th>\n",
       "      <th>LSOA Name</th>\n",
       "      <th>All Ages</th>\n",
       "    </tr>\n",
       "  </thead>\n",
       "  <tbody>\n",
       "    <tr>\n",
       "      <th>0</th>\n",
       "      <td>E01011949</td>\n",
       "      <td>Hartlepool 009A</td>\n",
       "      <td>1954</td>\n",
       "    </tr>\n",
       "    <tr>\n",
       "      <th>1</th>\n",
       "      <td>E01011950</td>\n",
       "      <td>Hartlepool 008A</td>\n",
       "      <td>1257</td>\n",
       "    </tr>\n",
       "    <tr>\n",
       "      <th>2</th>\n",
       "      <td>E01011951</td>\n",
       "      <td>Hartlepool 007A</td>\n",
       "      <td>1209</td>\n",
       "    </tr>\n",
       "    <tr>\n",
       "      <th>3</th>\n",
       "      <td>E01011952</td>\n",
       "      <td>Hartlepool 002A</td>\n",
       "      <td>1740</td>\n",
       "    </tr>\n",
       "    <tr>\n",
       "      <th>4</th>\n",
       "      <td>E01011953</td>\n",
       "      <td>Hartlepool 002B</td>\n",
       "      <td>2033</td>\n",
       "    </tr>\n",
       "  </tbody>\n",
       "</table>\n",
       "</div>"
      ],
      "text/plain": [
       "   LSOA Code        LSOA Name  All Ages\n",
       "0  E01011949  Hartlepool 009A      1954\n",
       "1  E01011950  Hartlepool 008A      1257\n",
       "2  E01011951  Hartlepool 007A      1209\n",
       "3  E01011952  Hartlepool 002A      1740\n",
       "4  E01011953  Hartlepool 002B      2033"
      ]
     },
     "execution_count": 79,
     "metadata": {},
     "output_type": "execute_result"
    }
   ],
   "source": [
    "# load population data\n",
    "population_data = pd.read_excel(\".\\DataSources\\Population\\SAPE22DT2-mid-2019-lsoa-syoa-estimates-unformatted.xlsx\",sheet_name='Mid-2019 Persons', skiprows=4,\n",
    "                           usecols=\"A, B, G\")\n",
    "\n",
    "population_data.head()"
   ]
  },
  {
   "cell_type": "code",
   "execution_count": 80,
   "metadata": {},
   "outputs": [
    {
     "data": {
      "text/plain": [
       "(4835, 7)"
      ]
     },
     "metadata": {},
     "output_type": "display_data"
    },
    {
     "data": {
      "text/plain": [
       "(33, 3)"
      ]
     },
     "metadata": {},
     "output_type": "display_data"
    },
    {
     "data": {
      "text/html": [
       "<div>\n",
       "<style scoped>\n",
       "    .dataframe tbody tr th:only-of-type {\n",
       "        vertical-align: middle;\n",
       "    }\n",
       "\n",
       "    .dataframe tbody tr th {\n",
       "        vertical-align: top;\n",
       "    }\n",
       "\n",
       "    .dataframe thead th {\n",
       "        text-align: right;\n",
       "    }\n",
       "</style>\n",
       "<table border=\"1\" class=\"dataframe\">\n",
       "  <thead>\n",
       "    <tr style=\"text-align: right;\">\n",
       "      <th></th>\n",
       "      <th>lad_code</th>\n",
       "      <th>lad_name</th>\n",
       "      <th>All Ages</th>\n",
       "    </tr>\n",
       "  </thead>\n",
       "  <tbody>\n",
       "    <tr>\n",
       "      <th>0</th>\n",
       "      <td>E09000001</td>\n",
       "      <td>City of London</td>\n",
       "      <td>9721</td>\n",
       "    </tr>\n",
       "    <tr>\n",
       "      <th>1</th>\n",
       "      <td>E09000002</td>\n",
       "      <td>Barking and Dagenham</td>\n",
       "      <td>212906</td>\n",
       "    </tr>\n",
       "    <tr>\n",
       "      <th>2</th>\n",
       "      <td>E09000003</td>\n",
       "      <td>Barnet</td>\n",
       "      <td>395869</td>\n",
       "    </tr>\n",
       "    <tr>\n",
       "      <th>3</th>\n",
       "      <td>E09000004</td>\n",
       "      <td>Bexley</td>\n",
       "      <td>248287</td>\n",
       "    </tr>\n",
       "    <tr>\n",
       "      <th>4</th>\n",
       "      <td>E09000005</td>\n",
       "      <td>Brent</td>\n",
       "      <td>329771</td>\n",
       "    </tr>\n",
       "  </tbody>\n",
       "</table>\n",
       "</div>"
      ],
      "text/plain": [
       "    lad_code              lad_name  All Ages\n",
       "0  E09000001        City of London      9721\n",
       "1  E09000002  Barking and Dagenham    212906\n",
       "2  E09000003                Barnet    395869\n",
       "3  E09000004                Bexley    248287\n",
       "4  E09000005                 Brent    329771"
      ]
     },
     "execution_count": 80,
     "metadata": {},
     "output_type": "execute_result"
    }
   ],
   "source": [
    "population_data_london = pd.merge(lsoa_child_income_deprivation, population_data, how='inner', \n",
    "                                  left_on='lsoa_code', right_on='LSOA Code')\n",
    "\n",
    "display(population_data_london.shape)\n",
    "\n",
    "borough_population = population_data_london.groupby(['lad_code', 'lad_name']).sum().reset_index()\n",
    "\n",
    "borough_population.drop(['child_income_deprivation_score'], axis=1, inplace=True)\n",
    "\n",
    "display(borough_population.shape)\n",
    "\n",
    "borough_population.head()"
   ]
  },
  {
   "cell_type": "markdown",
   "metadata": {},
   "source": [
    "#### 1.1.2 Load serious violent crime\n",
    "I also need to load population data so I can pro rata crime per 1000 head of population\n",
    "And then check for NaN values"
   ]
  },
  {
   "cell_type": "code",
   "execution_count": 84,
   "metadata": {},
   "outputs": [
    {
     "data": {
      "text/plain": [
       "(32, 3)"
      ]
     },
     "metadata": {},
     "output_type": "display_data"
    },
    {
     "data": {
      "text/html": [
       "<div>\n",
       "<style scoped>\n",
       "    .dataframe tbody tr th:only-of-type {\n",
       "        vertical-align: middle;\n",
       "    }\n",
       "\n",
       "    .dataframe tbody tr th {\n",
       "        vertical-align: top;\n",
       "    }\n",
       "\n",
       "    .dataframe thead th {\n",
       "        text-align: right;\n",
       "    }\n",
       "</style>\n",
       "<table border=\"1\" class=\"dataframe\">\n",
       "  <thead>\n",
       "    <tr style=\"text-align: right;\">\n",
       "      <th></th>\n",
       "      <th>csp_name</th>\n",
       "      <th>total</th>\n",
       "      <th>year</th>\n",
       "    </tr>\n",
       "  </thead>\n",
       "  <tbody>\n",
       "    <tr>\n",
       "      <th>64</th>\n",
       "      <td>Barking and Dagenham</td>\n",
       "      <td>3897</td>\n",
       "      <td>2019</td>\n",
       "    </tr>\n",
       "    <tr>\n",
       "      <th>65</th>\n",
       "      <td>Barnet</td>\n",
       "      <td>4322</td>\n",
       "      <td>2019</td>\n",
       "    </tr>\n",
       "    <tr>\n",
       "      <th>66</th>\n",
       "      <td>Bexley</td>\n",
       "      <td>2708</td>\n",
       "      <td>2019</td>\n",
       "    </tr>\n",
       "    <tr>\n",
       "      <th>67</th>\n",
       "      <td>Brent</td>\n",
       "      <td>5093</td>\n",
       "      <td>2019</td>\n",
       "    </tr>\n",
       "    <tr>\n",
       "      <th>68</th>\n",
       "      <td>Bromley</td>\n",
       "      <td>3209</td>\n",
       "      <td>2019</td>\n",
       "    </tr>\n",
       "  </tbody>\n",
       "</table>\n",
       "</div>"
      ],
      "text/plain": [
       "                csp_name  total  year\n",
       "64  Barking and Dagenham   3897  2019\n",
       "65                Barnet   4322  2019\n",
       "66                Bexley   2708  2019\n",
       "67                 Brent   5093  2019\n",
       "68               Bromley   3209  2019"
      ]
     },
     "execution_count": 84,
     "metadata": {},
     "output_type": "execute_result"
    }
   ],
   "source": [
    "borough_serious_crime = pd.read_csv('.\\DataSources\\England and Wales Crime Data\\london_csp.csv')\n",
    "borough_serious_crime_2019 = borough_serious_crime[borough_serious_crime.year == 2019].copy()\n",
    "display(borough_serious_crime_2019.shape)\n",
    "borough_serious_crime_2019.head()"
   ]
  },
  {
   "cell_type": "code",
   "execution_count": 86,
   "metadata": {},
   "outputs": [
    {
     "data": {
      "text/plain": [
       "(32, 3)"
      ]
     },
     "metadata": {},
     "output_type": "display_data"
    },
    {
     "data": {
      "text/html": [
       "<div>\n",
       "<style scoped>\n",
       "    .dataframe tbody tr th:only-of-type {\n",
       "        vertical-align: middle;\n",
       "    }\n",
       "\n",
       "    .dataframe tbody tr th {\n",
       "        vertical-align: top;\n",
       "    }\n",
       "\n",
       "    .dataframe thead th {\n",
       "        text-align: right;\n",
       "    }\n",
       "</style>\n",
       "<table border=\"1\" class=\"dataframe\">\n",
       "  <thead>\n",
       "    <tr style=\"text-align: right;\">\n",
       "      <th></th>\n",
       "      <th>csp_name</th>\n",
       "      <th>total</th>\n",
       "      <th>year</th>\n",
       "    </tr>\n",
       "  </thead>\n",
       "  <tbody>\n",
       "  </tbody>\n",
       "</table>\n",
       "</div>"
      ],
      "text/plain": [
       "Empty DataFrame\n",
       "Columns: [csp_name, total, year]\n",
       "Index: []"
      ]
     },
     "execution_count": 86,
     "metadata": {},
     "output_type": "execute_result"
    }
   ],
   "source": [
    "borough_serious_crime_2019 = borough_serious_crime_2019.dropna(how='all') # only drops a row when every column is NA\n",
    "display(borough_serious_crime_2019.shape)\n",
    "\n",
    "# Now check for NaN values\n",
    "nan_values = borough_serious_crime_2019[borough_serious_crime_2019.isna().any(axis=1)]\n",
    "nan_values"
   ]
  },
  {
   "cell_type": "markdown",
   "metadata": {},
   "source": [
    "##### Comments\n",
    "No NaN values and we have data for 2019 only\n",
    "\n",
    "Now merge with population data and pro rata per 1000 head of population"
   ]
  },
  {
   "cell_type": "code",
   "execution_count": 89,
   "metadata": {},
   "outputs": [
    {
     "data": {
      "text/plain": [
       "(32, 2)"
      ]
     },
     "metadata": {},
     "output_type": "display_data"
    },
    {
     "data": {
      "text/html": [
       "<div>\n",
       "<style scoped>\n",
       "    .dataframe tbody tr th:only-of-type {\n",
       "        vertical-align: middle;\n",
       "    }\n",
       "\n",
       "    .dataframe tbody tr th {\n",
       "        vertical-align: top;\n",
       "    }\n",
       "\n",
       "    .dataframe thead th {\n",
       "        text-align: right;\n",
       "    }\n",
       "</style>\n",
       "<table border=\"1\" class=\"dataframe\">\n",
       "  <thead>\n",
       "    <tr style=\"text-align: right;\">\n",
       "      <th></th>\n",
       "      <th>csp_name</th>\n",
       "      <th>crime_per_1000</th>\n",
       "    </tr>\n",
       "  </thead>\n",
       "  <tbody>\n",
       "    <tr>\n",
       "      <th>0</th>\n",
       "      <td>Barking and Dagenham</td>\n",
       "      <td>18.303852</td>\n",
       "    </tr>\n",
       "    <tr>\n",
       "      <th>1</th>\n",
       "      <td>Barnet</td>\n",
       "      <td>10.917753</td>\n",
       "    </tr>\n",
       "    <tr>\n",
       "      <th>2</th>\n",
       "      <td>Bexley</td>\n",
       "      <td>10.906733</td>\n",
       "    </tr>\n",
       "    <tr>\n",
       "      <th>3</th>\n",
       "      <td>Brent</td>\n",
       "      <td>15.444051</td>\n",
       "    </tr>\n",
       "    <tr>\n",
       "      <th>4</th>\n",
       "      <td>Bromley</td>\n",
       "      <td>9.655890</td>\n",
       "    </tr>\n",
       "  </tbody>\n",
       "</table>\n",
       "</div>"
      ],
      "text/plain": [
       "               csp_name  crime_per_1000\n",
       "0  Barking and Dagenham       18.303852\n",
       "1                Barnet       10.917753\n",
       "2                Bexley       10.906733\n",
       "3                 Brent       15.444051\n",
       "4               Bromley        9.655890"
      ]
     },
     "execution_count": 89,
     "metadata": {},
     "output_type": "execute_result"
    }
   ],
   "source": [
    "borough_serious_crime_new = pd.merge(borough_serious_crime_2019, borough_population, how='inner', \n",
    "                                        left_on='csp_name', right_on='lad_name')\n",
    "\n",
    "borough_serious_crime_new['crime_per_1000'] = 1000 * (borough_serious_crime_new.total / borough_serious_crime_new['All Ages'])\n",
    "borough_serious_crime_new.drop(['lad_code', 'lad_name', 'year', 'total', 'All Ages'], axis=1, inplace=True)\n",
    "\n",
    "display(borough_serious_crime_new.shape)\n",
    "borough_serious_crime_new.head()"
   ]
  },
  {
   "cell_type": "markdown",
   "metadata": {},
   "source": [
    "### 1.2 Load child mental health\n",
    "We want to get the rate of children and young people with mental disorders  – aged 5 to 17, which means we filter for:\n",
    "- London Region\n",
    "- Ages 5-17\n",
    "- Time period 2017/18 (this is the latest date for which we have aggregated data)\n",
    "\n",
    "\n",
    "Check for NaN values AFTER having aggregated"
   ]
  },
  {
   "cell_type": "code",
   "execution_count": 90,
   "metadata": {},
   "outputs": [
    {
     "name": "stdout",
     "output_type": "stream",
     "text": [
      "Shape for pre filtered file: (525, 11)\n",
      "Shape for post filtered file: (33, 4)\n"
     ]
    },
    {
     "data": {
      "text/html": [
       "<div>\n",
       "<style scoped>\n",
       "    .dataframe tbody tr th:only-of-type {\n",
       "        vertical-align: middle;\n",
       "    }\n",
       "\n",
       "    .dataframe tbody tr th {\n",
       "        vertical-align: top;\n",
       "    }\n",
       "\n",
       "    .dataframe thead th {\n",
       "        text-align: right;\n",
       "    }\n",
       "</style>\n",
       "<table border=\"1\" class=\"dataframe\">\n",
       "  <thead>\n",
       "    <tr style=\"text-align: right;\">\n",
       "      <th></th>\n",
       "      <th>indicator_name</th>\n",
       "      <th>area_code</th>\n",
       "      <th>area_name</th>\n",
       "      <th>mental_health_rate</th>\n",
       "    </tr>\n",
       "  </thead>\n",
       "  <tbody>\n",
       "    <tr>\n",
       "      <th>2</th>\n",
       "      <td>Estimated number of children and young people ...</td>\n",
       "      <td>E09000002</td>\n",
       "      <td>Barking and Dagenham</td>\n",
       "      <td>0.119101</td>\n",
       "    </tr>\n",
       "    <tr>\n",
       "      <th>3</th>\n",
       "      <td>Estimated number of children and young people ...</td>\n",
       "      <td>E09000003</td>\n",
       "      <td>Barnet</td>\n",
       "      <td>0.120642</td>\n",
       "    </tr>\n",
       "    <tr>\n",
       "      <th>4</th>\n",
       "      <td>Estimated number of children and young people ...</td>\n",
       "      <td>E09000004</td>\n",
       "      <td>Bexley</td>\n",
       "      <td>0.121609</td>\n",
       "    </tr>\n",
       "    <tr>\n",
       "      <th>5</th>\n",
       "      <td>Estimated number of children and young people ...</td>\n",
       "      <td>E09000005</td>\n",
       "      <td>Brent</td>\n",
       "      <td>0.120984</td>\n",
       "    </tr>\n",
       "    <tr>\n",
       "      <th>6</th>\n",
       "      <td>Estimated number of children and young people ...</td>\n",
       "      <td>E09000006</td>\n",
       "      <td>Bromley</td>\n",
       "      <td>0.121004</td>\n",
       "    </tr>\n",
       "  </tbody>\n",
       "</table>\n",
       "</div>"
      ],
      "text/plain": [
       "                                      indicator_name  area_code  \\\n",
       "2  Estimated number of children and young people ...  E09000002   \n",
       "3  Estimated number of children and young people ...  E09000003   \n",
       "4  Estimated number of children and young people ...  E09000004   \n",
       "5  Estimated number of children and young people ...  E09000005   \n",
       "6  Estimated number of children and young people ...  E09000006   \n",
       "\n",
       "              area_name  mental_health_rate  \n",
       "2  Barking and Dagenham            0.119101  \n",
       "3                Barnet            0.120642  \n",
       "4                Bexley            0.121609  \n",
       "5                 Brent            0.120984  \n",
       "6               Bromley            0.121004  "
      ]
     },
     "execution_count": 90,
     "metadata": {},
     "output_type": "execute_result"
    }
   ],
   "source": [
    "column_names = ['indicator_name', 'parent_code', 'parent_name', 'area_code', \n",
    "                'area_name', 'area_type', 'sex', 'age', 'time_period', 'value', 'denominator']\n",
    "\n",
    "\n",
    "child_mental_health = pd.read_excel(\"./DataSources/Income and Deprivation/child mental health.xlsx\",\n",
    "                                   sheet_name='Overview', usecols = \"B:I,L:M,S\", names=column_names)\n",
    "\n",
    "print(\"Shape for pre filtered file: {}\".format(child_mental_health.shape))\n",
    "\n",
    "child_mental_health_boroughs = child_mental_health[(child_mental_health.parent_name == 'London region') &\n",
    "                                                  (child_mental_health.age == '5-17 yrs') &\n",
    "                                                  (child_mental_health.time_period == '2017/18')].copy()\n",
    "\n",
    "child_mental_health_boroughs['mental_health_rate'] = child_mental_health_boroughs.value / child_mental_health_boroughs.denominator\n",
    "\n",
    "child_mental_health_boroughs.drop(['parent_code', 'parent_name', \n",
    "                                   'sex', 'age', 'time_period', \n",
    "                                   'area_type', 'value', 'denominator'], axis=1, inplace=True)\n",
    "\n",
    "print(\"Shape for post filtered file: {}\".format(child_mental_health_boroughs.shape))\n",
    "\n",
    "child_mental_health_boroughs.head()"
   ]
  },
  {
   "cell_type": "code",
   "execution_count": 91,
   "metadata": {},
   "outputs": [
    {
     "data": {
      "text/html": [
       "<div>\n",
       "<style scoped>\n",
       "    .dataframe tbody tr th:only-of-type {\n",
       "        vertical-align: middle;\n",
       "    }\n",
       "\n",
       "    .dataframe tbody tr th {\n",
       "        vertical-align: top;\n",
       "    }\n",
       "\n",
       "    .dataframe thead th {\n",
       "        text-align: right;\n",
       "    }\n",
       "</style>\n",
       "<table border=\"1\" class=\"dataframe\">\n",
       "  <thead>\n",
       "    <tr style=\"text-align: right;\">\n",
       "      <th></th>\n",
       "      <th>indicator_name</th>\n",
       "      <th>area_code</th>\n",
       "      <th>area_name</th>\n",
       "      <th>mental_health_rate</th>\n",
       "    </tr>\n",
       "  </thead>\n",
       "  <tbody>\n",
       "  </tbody>\n",
       "</table>\n",
       "</div>"
      ],
      "text/plain": [
       "Empty DataFrame\n",
       "Columns: [indicator_name, area_code, area_name, mental_health_rate]\n",
       "Index: []"
      ]
     },
     "execution_count": 91,
     "metadata": {},
     "output_type": "execute_result"
    }
   ],
   "source": [
    "# Now check for NaN values\n",
    "nan_values = child_mental_health_boroughs[child_mental_health_boroughs.isna().any(axis=1)]\n",
    "nan_values"
   ]
  },
  {
   "attachments": {},
   "cell_type": "markdown",
   "metadata": {},
   "source": [
    "#### Comments\n",
    "Data all good"
   ]
  },
  {
   "cell_type": "markdown",
   "metadata": {},
   "source": [
    "### 1.3 Load looked after children\n",
    "The file contains Children looked after at 31 March, 2015 to 2019 and we will use the data up to March 2019. The original number number is rates per 10,000 under 18 years old.\n"
   ]
  },
  {
   "cell_type": "code",
   "execution_count": 92,
   "metadata": {},
   "outputs": [
    {
     "name": "stdout",
     "output_type": "stream",
     "text": [
      "Shape for pre filtered file: (181, 3)\n"
     ]
    },
    {
     "data": {
      "text/html": [
       "<div>\n",
       "<style scoped>\n",
       "    .dataframe tbody tr th:only-of-type {\n",
       "        vertical-align: middle;\n",
       "    }\n",
       "\n",
       "    .dataframe tbody tr th {\n",
       "        vertical-align: top;\n",
       "    }\n",
       "\n",
       "    .dataframe thead th {\n",
       "        text-align: right;\n",
       "    }\n",
       "</style>\n",
       "<table border=\"1\" class=\"dataframe\">\n",
       "  <thead>\n",
       "    <tr style=\"text-align: right;\">\n",
       "      <th></th>\n",
       "      <th>borough_code</th>\n",
       "      <th>borough_name</th>\n",
       "      <th>looked_after_rate</th>\n",
       "    </tr>\n",
       "  </thead>\n",
       "  <tbody>\n",
       "    <tr>\n",
       "      <th>0</th>\n",
       "      <td>Back to Contents</td>\n",
       "      <td>NaN</td>\n",
       "      <td>NaN</td>\n",
       "    </tr>\n",
       "    <tr>\n",
       "      <th>1</th>\n",
       "      <td>E06000005</td>\n",
       "      <td>Darlington</td>\n",
       "      <td>118</td>\n",
       "    </tr>\n",
       "    <tr>\n",
       "      <th>2</th>\n",
       "      <td>E06000047</td>\n",
       "      <td>Durham</td>\n",
       "      <td>83</td>\n",
       "    </tr>\n",
       "    <tr>\n",
       "      <th>3</th>\n",
       "      <td>E08000037</td>\n",
       "      <td>Gateshead</td>\n",
       "      <td>96</td>\n",
       "    </tr>\n",
       "    <tr>\n",
       "      <th>4</th>\n",
       "      <td>E06000001</td>\n",
       "      <td>Hartlepool</td>\n",
       "      <td>142</td>\n",
       "    </tr>\n",
       "  </tbody>\n",
       "</table>\n",
       "</div>"
      ],
      "text/plain": [
       "       borough_code borough_name looked_after_rate\n",
       "0  Back to Contents          NaN               NaN\n",
       "1         E06000005   Darlington               118\n",
       "2         E06000047       Durham                83\n",
       "3         E08000037    Gateshead                96\n",
       "4         E06000001   Hartlepool               142"
      ]
     },
     "execution_count": 92,
     "metadata": {},
     "output_type": "execute_result"
    }
   ],
   "source": [
    "column_names = ['borough_code', 'borough_name', 'looked_after_rate']\n",
    "\n",
    "looked_after_children_england = pd.read_excel(\"./DataSources/Income and Deprivation/Children_looked_after_in_England_2019_LA_Tables.xlsx\",\n",
    "                                   sheet_name='LAA1', usecols = \"A, C, M\", header=None, names=column_names,\n",
    "                                     skiprows = range(1, 12))\n",
    "\n",
    "print(\"Shape for pre filtered file: {}\".format(looked_after_children_england.shape))\n",
    "\n",
    "looked_after_children_england.head()"
   ]
  },
  {
   "cell_type": "markdown",
   "metadata": {},
   "source": [
    "#### Comments\n",
    "This file contains data for all of England and so join with mental health data to just get London data"
   ]
  },
  {
   "cell_type": "code",
   "execution_count": 93,
   "metadata": {},
   "outputs": [
    {
     "name": "stdout",
     "output_type": "stream",
     "text": [
      "Shape for joined file: (33, 4)\n"
     ]
    },
    {
     "data": {
      "text/html": [
       "<div>\n",
       "<style scoped>\n",
       "    .dataframe tbody tr th:only-of-type {\n",
       "        vertical-align: middle;\n",
       "    }\n",
       "\n",
       "    .dataframe tbody tr th {\n",
       "        vertical-align: top;\n",
       "    }\n",
       "\n",
       "    .dataframe thead th {\n",
       "        text-align: right;\n",
       "    }\n",
       "</style>\n",
       "<table border=\"1\" class=\"dataframe\">\n",
       "  <thead>\n",
       "    <tr style=\"text-align: right;\">\n",
       "      <th></th>\n",
       "      <th>area_code</th>\n",
       "      <th>area_name</th>\n",
       "      <th>mental_health_rate</th>\n",
       "      <th>looked_after_rate</th>\n",
       "    </tr>\n",
       "  </thead>\n",
       "  <tbody>\n",
       "    <tr>\n",
       "      <th>0</th>\n",
       "      <td>E09000002</td>\n",
       "      <td>Barking and Dagenham</td>\n",
       "      <td>0.119101</td>\n",
       "      <td>66</td>\n",
       "    </tr>\n",
       "    <tr>\n",
       "      <th>1</th>\n",
       "      <td>E09000003</td>\n",
       "      <td>Barnet</td>\n",
       "      <td>0.120642</td>\n",
       "      <td>34</td>\n",
       "    </tr>\n",
       "    <tr>\n",
       "      <th>2</th>\n",
       "      <td>E09000004</td>\n",
       "      <td>Bexley</td>\n",
       "      <td>0.121609</td>\n",
       "      <td>40</td>\n",
       "    </tr>\n",
       "    <tr>\n",
       "      <th>3</th>\n",
       "      <td>E09000005</td>\n",
       "      <td>Brent</td>\n",
       "      <td>0.120984</td>\n",
       "      <td>38</td>\n",
       "    </tr>\n",
       "    <tr>\n",
       "      <th>4</th>\n",
       "      <td>E09000006</td>\n",
       "      <td>Bromley</td>\n",
       "      <td>0.121004</td>\n",
       "      <td>46</td>\n",
       "    </tr>\n",
       "  </tbody>\n",
       "</table>\n",
       "</div>"
      ],
      "text/plain": [
       "   area_code             area_name  mental_health_rate looked_after_rate\n",
       "0  E09000002  Barking and Dagenham            0.119101                66\n",
       "1  E09000003                Barnet            0.120642                34\n",
       "2  E09000004                Bexley            0.121609                40\n",
       "3  E09000005                 Brent            0.120984                38\n",
       "4  E09000006               Bromley            0.121004                46"
      ]
     },
     "execution_count": 93,
     "metadata": {},
     "output_type": "execute_result"
    }
   ],
   "source": [
    "mental_heath_and_looked_after_children = pd.merge(child_mental_health_boroughs, looked_after_children_england, \n",
    "                                       how='inner', left_on='area_code', right_on='borough_code')\n",
    "\n",
    "mental_heath_and_looked_after_children.drop(['indicator_name', 'borough_code', \n",
    "                                   'borough_name'], axis=1, inplace=True)\n",
    "\n",
    "print(\"Shape for joined file: {}\".format(mental_heath_and_looked_after_children.shape))\n",
    "\n",
    "mental_heath_and_looked_after_children.head()"
   ]
  },
  {
   "cell_type": "code",
   "execution_count": 94,
   "metadata": {},
   "outputs": [
    {
     "data": {
      "text/html": [
       "<div>\n",
       "<style scoped>\n",
       "    .dataframe tbody tr th:only-of-type {\n",
       "        vertical-align: middle;\n",
       "    }\n",
       "\n",
       "    .dataframe tbody tr th {\n",
       "        vertical-align: top;\n",
       "    }\n",
       "\n",
       "    .dataframe thead th {\n",
       "        text-align: right;\n",
       "    }\n",
       "</style>\n",
       "<table border=\"1\" class=\"dataframe\">\n",
       "  <thead>\n",
       "    <tr style=\"text-align: right;\">\n",
       "      <th></th>\n",
       "      <th>area_code</th>\n",
       "      <th>area_name</th>\n",
       "      <th>mental_health_rate</th>\n",
       "      <th>looked_after_rate</th>\n",
       "    </tr>\n",
       "  </thead>\n",
       "  <tbody>\n",
       "  </tbody>\n",
       "</table>\n",
       "</div>"
      ],
      "text/plain": [
       "Empty DataFrame\n",
       "Columns: [area_code, area_name, mental_health_rate, looked_after_rate]\n",
       "Index: []"
      ]
     },
     "execution_count": 94,
     "metadata": {},
     "output_type": "execute_result"
    }
   ],
   "source": [
    "# Now check for NaN values\n",
    "nan_values = mental_heath_and_looked_after_children[mental_heath_and_looked_after_children.isna().any(axis=1)]\n",
    "nan_values"
   ]
  },
  {
   "cell_type": "markdown",
   "metadata": {},
   "source": [
    "### 1.4 load excluded children\n",
    "The rate is exclusions per 10,000 pupils and we will filter on: \n",
    "- the latest period, which is 2018/19\n",
    "- school type = 'Total"
   ]
  },
  {
   "cell_type": "code",
   "execution_count": 95,
   "metadata": {},
   "outputs": [
    {
     "name": "stdout",
     "output_type": "stream",
     "text": [
      "Shape for pre filtered file: (3834, 5)\n",
      "Shape for post filtered file: (327, 3)\n"
     ]
    },
    {
     "data": {
      "text/html": [
       "<div>\n",
       "<style scoped>\n",
       "    .dataframe tbody tr th:only-of-type {\n",
       "        vertical-align: middle;\n",
       "    }\n",
       "\n",
       "    .dataframe tbody tr th {\n",
       "        vertical-align: top;\n",
       "    }\n",
       "\n",
       "    .dataframe thead th {\n",
       "        text-align: right;\n",
       "    }\n",
       "</style>\n",
       "<table border=\"1\" class=\"dataframe\">\n",
       "  <thead>\n",
       "    <tr style=\"text-align: right;\">\n",
       "      <th></th>\n",
       "      <th>lad_code</th>\n",
       "      <th>lad_name</th>\n",
       "      <th>exclusion_rate</th>\n",
       "    </tr>\n",
       "  </thead>\n",
       "  <tbody>\n",
       "    <tr>\n",
       "      <th>0</th>\n",
       "      <td>E06000001</td>\n",
       "      <td>Hartlepool</td>\n",
       "      <td>0.18912</td>\n",
       "    </tr>\n",
       "    <tr>\n",
       "      <th>4</th>\n",
       "      <td>E06000002</td>\n",
       "      <td>Middlesbrough</td>\n",
       "      <td>0.17176</td>\n",
       "    </tr>\n",
       "    <tr>\n",
       "      <th>8</th>\n",
       "      <td>E06000003</td>\n",
       "      <td>Redcar and Cleveland</td>\n",
       "      <td>0.30961</td>\n",
       "    </tr>\n",
       "    <tr>\n",
       "      <th>12</th>\n",
       "      <td>E06000004</td>\n",
       "      <td>Stockton-on-Tees</td>\n",
       "      <td>0.17332</td>\n",
       "    </tr>\n",
       "    <tr>\n",
       "      <th>16</th>\n",
       "      <td>E06000005</td>\n",
       "      <td>Darlington</td>\n",
       "      <td>0.21066</td>\n",
       "    </tr>\n",
       "  </tbody>\n",
       "</table>\n",
       "</div>"
      ],
      "text/plain": [
       "     lad_code              lad_name  exclusion_rate\n",
       "0   E06000001            Hartlepool         0.18912\n",
       "4   E06000002         Middlesbrough         0.17176\n",
       "8   E06000003  Redcar and Cleveland         0.30961\n",
       "12  E06000004      Stockton-on-Tees         0.17332\n",
       "16  E06000005            Darlington         0.21066"
      ]
     },
     "execution_count": 95,
     "metadata": {},
     "output_type": "execute_result"
    }
   ],
   "source": [
    "column_names = ['time_period', 'lad_code', 'lad_name', 'school_type', 'exclusion_rate']\n",
    "\n",
    "school_exclusions_england = pd.read_excel(\"./DataSources/Income and Deprivation/exc_local_authority_districts.xlsx\",\n",
    "                                   sheet_name='exc_local_authority_districts (', \n",
    "                                          usecols = \"B, H, I, J, N\", names=column_names)\n",
    "\n",
    "print(\"Shape for pre filtered file: {}\".format(school_exclusions_england.shape))\n",
    "\n",
    "school_exclusions_england_filtered = school_exclusions_england[(school_exclusions_england.school_type == 'Total') &\n",
    "                                                  (school_exclusions_england.time_period == 201819)].copy()\n",
    "\n",
    "school_exclusions_england_filtered.drop(['time_period', 'school_type'], axis=1, inplace=True)\n",
    "\n",
    "print(\"Shape for post filtered file: {}\".format(school_exclusions_england_filtered.shape))\n",
    "\n",
    "school_exclusions_england_filtered.head()"
   ]
  },
  {
   "cell_type": "markdown",
   "metadata": {},
   "source": [
    "#### Comments\n",
    "This file contains data for all of England and so join with mental health data to just get London data"
   ]
  },
  {
   "cell_type": "code",
   "execution_count": 96,
   "metadata": {},
   "outputs": [
    {
     "name": "stdout",
     "output_type": "stream",
     "text": [
      "Shape for joined file: (33, 5)\n"
     ]
    },
    {
     "data": {
      "text/html": [
       "<div>\n",
       "<style scoped>\n",
       "    .dataframe tbody tr th:only-of-type {\n",
       "        vertical-align: middle;\n",
       "    }\n",
       "\n",
       "    .dataframe tbody tr th {\n",
       "        vertical-align: top;\n",
       "    }\n",
       "\n",
       "    .dataframe thead th {\n",
       "        text-align: right;\n",
       "    }\n",
       "</style>\n",
       "<table border=\"1\" class=\"dataframe\">\n",
       "  <thead>\n",
       "    <tr style=\"text-align: right;\">\n",
       "      <th></th>\n",
       "      <th>area_code</th>\n",
       "      <th>area_name</th>\n",
       "      <th>mental_health_rate</th>\n",
       "      <th>looked_after_rate</th>\n",
       "      <th>exclusion_rate</th>\n",
       "    </tr>\n",
       "  </thead>\n",
       "  <tbody>\n",
       "    <tr>\n",
       "      <th>0</th>\n",
       "      <td>E09000002</td>\n",
       "      <td>Barking and Dagenham</td>\n",
       "      <td>0.119101</td>\n",
       "      <td>66</td>\n",
       "      <td>0.05963</td>\n",
       "    </tr>\n",
       "    <tr>\n",
       "      <th>1</th>\n",
       "      <td>E09000003</td>\n",
       "      <td>Barnet</td>\n",
       "      <td>0.120642</td>\n",
       "      <td>34</td>\n",
       "      <td>0.05384</td>\n",
       "    </tr>\n",
       "    <tr>\n",
       "      <th>2</th>\n",
       "      <td>E09000004</td>\n",
       "      <td>Bexley</td>\n",
       "      <td>0.121609</td>\n",
       "      <td>40</td>\n",
       "      <td>0.10019</td>\n",
       "    </tr>\n",
       "    <tr>\n",
       "      <th>3</th>\n",
       "      <td>E09000005</td>\n",
       "      <td>Brent</td>\n",
       "      <td>0.120984</td>\n",
       "      <td>38</td>\n",
       "      <td>0.06071</td>\n",
       "    </tr>\n",
       "    <tr>\n",
       "      <th>4</th>\n",
       "      <td>E09000006</td>\n",
       "      <td>Bromley</td>\n",
       "      <td>0.121004</td>\n",
       "      <td>46</td>\n",
       "      <td>0.09537</td>\n",
       "    </tr>\n",
       "  </tbody>\n",
       "</table>\n",
       "</div>"
      ],
      "text/plain": [
       "   area_code             area_name  mental_health_rate looked_after_rate  \\\n",
       "0  E09000002  Barking and Dagenham            0.119101                66   \n",
       "1  E09000003                Barnet            0.120642                34   \n",
       "2  E09000004                Bexley            0.121609                40   \n",
       "3  E09000005                 Brent            0.120984                38   \n",
       "4  E09000006               Bromley            0.121004                46   \n",
       "\n",
       "   exclusion_rate  \n",
       "0         0.05963  \n",
       "1         0.05384  \n",
       "2         0.10019  \n",
       "3         0.06071  \n",
       "4         0.09537  "
      ]
     },
     "execution_count": 96,
     "metadata": {},
     "output_type": "execute_result"
    }
   ],
   "source": [
    "child_well_being = pd.merge(mental_heath_and_looked_after_children, school_exclusions_england_filtered, \n",
    "                                       how='inner', left_on='area_code', right_on='lad_code')\n",
    "\n",
    "child_well_being.drop(['lad_code', 'lad_name'], axis=1, inplace=True)\n",
    "\n",
    "print(\"Shape for joined file: {}\".format(child_well_being.shape))\n",
    "\n",
    "child_well_being.head()"
   ]
  },
  {
   "cell_type": "code",
   "execution_count": 97,
   "metadata": {},
   "outputs": [
    {
     "data": {
      "text/html": [
       "<div>\n",
       "<style scoped>\n",
       "    .dataframe tbody tr th:only-of-type {\n",
       "        vertical-align: middle;\n",
       "    }\n",
       "\n",
       "    .dataframe tbody tr th {\n",
       "        vertical-align: top;\n",
       "    }\n",
       "\n",
       "    .dataframe thead th {\n",
       "        text-align: right;\n",
       "    }\n",
       "</style>\n",
       "<table border=\"1\" class=\"dataframe\">\n",
       "  <thead>\n",
       "    <tr style=\"text-align: right;\">\n",
       "      <th></th>\n",
       "      <th>area_code</th>\n",
       "      <th>area_name</th>\n",
       "      <th>mental_health_rate</th>\n",
       "      <th>looked_after_rate</th>\n",
       "      <th>exclusion_rate</th>\n",
       "    </tr>\n",
       "  </thead>\n",
       "  <tbody>\n",
       "  </tbody>\n",
       "</table>\n",
       "</div>"
      ],
      "text/plain": [
       "Empty DataFrame\n",
       "Columns: [area_code, area_name, mental_health_rate, looked_after_rate, exclusion_rate]\n",
       "Index: []"
      ]
     },
     "execution_count": 97,
     "metadata": {},
     "output_type": "execute_result"
    }
   ],
   "source": [
    "# Now check for NaN values\n",
    "nan_values = child_well_being[child_well_being.isna().any(axis=1)]\n",
    "nan_values"
   ]
  },
  {
   "cell_type": "markdown",
   "metadata": {},
   "source": [
    "### 1.5 Merge with child income deprivation"
   ]
  },
  {
   "cell_type": "code",
   "execution_count": 98,
   "metadata": {},
   "outputs": [
    {
     "name": "stdout",
     "output_type": "stream",
     "text": [
      "Shape for merged file: (33, 6)\n"
     ]
    },
    {
     "data": {
      "text/html": [
       "<div>\n",
       "<style scoped>\n",
       "    .dataframe tbody tr th:only-of-type {\n",
       "        vertical-align: middle;\n",
       "    }\n",
       "\n",
       "    .dataframe tbody tr th {\n",
       "        vertical-align: top;\n",
       "    }\n",
       "\n",
       "    .dataframe thead th {\n",
       "        text-align: right;\n",
       "    }\n",
       "</style>\n",
       "<table border=\"1\" class=\"dataframe\">\n",
       "  <thead>\n",
       "    <tr style=\"text-align: right;\">\n",
       "      <th></th>\n",
       "      <th>area_code</th>\n",
       "      <th>area_name</th>\n",
       "      <th>mental_health_rate</th>\n",
       "      <th>looked_after_rate</th>\n",
       "      <th>exclusion_rate</th>\n",
       "      <th>child_income_deprivation_score</th>\n",
       "    </tr>\n",
       "  </thead>\n",
       "  <tbody>\n",
       "    <tr>\n",
       "      <th>0</th>\n",
       "      <td>E09000002</td>\n",
       "      <td>Barking and Dagenham</td>\n",
       "      <td>0.119101</td>\n",
       "      <td>66</td>\n",
       "      <td>0.05963</td>\n",
       "      <td>0.2365</td>\n",
       "    </tr>\n",
       "    <tr>\n",
       "      <th>1</th>\n",
       "      <td>E09000003</td>\n",
       "      <td>Barnet</td>\n",
       "      <td>0.120642</td>\n",
       "      <td>34</td>\n",
       "      <td>0.05384</td>\n",
       "      <td>0.1000</td>\n",
       "    </tr>\n",
       "    <tr>\n",
       "      <th>2</th>\n",
       "      <td>E09000004</td>\n",
       "      <td>Bexley</td>\n",
       "      <td>0.121609</td>\n",
       "      <td>40</td>\n",
       "      <td>0.10019</td>\n",
       "      <td>0.1315</td>\n",
       "    </tr>\n",
       "    <tr>\n",
       "      <th>3</th>\n",
       "      <td>E09000005</td>\n",
       "      <td>Brent</td>\n",
       "      <td>0.120984</td>\n",
       "      <td>38</td>\n",
       "      <td>0.06071</td>\n",
       "      <td>0.1560</td>\n",
       "    </tr>\n",
       "    <tr>\n",
       "      <th>4</th>\n",
       "      <td>E09000006</td>\n",
       "      <td>Bromley</td>\n",
       "      <td>0.121004</td>\n",
       "      <td>46</td>\n",
       "      <td>0.09537</td>\n",
       "      <td>0.0820</td>\n",
       "    </tr>\n",
       "  </tbody>\n",
       "</table>\n",
       "</div>"
      ],
      "text/plain": [
       "   area_code             area_name  mental_health_rate looked_after_rate  \\\n",
       "0  E09000002  Barking and Dagenham            0.119101                66   \n",
       "1  E09000003                Barnet            0.120642                34   \n",
       "2  E09000004                Bexley            0.121609                40   \n",
       "3  E09000005                 Brent            0.120984                38   \n",
       "4  E09000006               Bromley            0.121004                46   \n",
       "\n",
       "   exclusion_rate  child_income_deprivation_score  \n",
       "0         0.05963                          0.2365  \n",
       "1         0.05384                          0.1000  \n",
       "2         0.10019                          0.1315  \n",
       "3         0.06071                          0.1560  \n",
       "4         0.09537                          0.0820  "
      ]
     },
     "execution_count": 98,
     "metadata": {},
     "output_type": "execute_result"
    }
   ],
   "source": [
    "child_well_being = pd.merge(child_well_being, borough_child_income_deprivation, how='inner', \n",
    "                           left_on='area_code', right_on='lad_code')\n",
    "\n",
    "child_well_being.drop(['lad_code', 'lad_name'], axis=1, inplace=True)\n",
    "print(\"Shape for merged file: {}\".format(child_well_being.shape))\n",
    "\n",
    "child_well_being.head()"
   ]
  },
  {
   "cell_type": "markdown",
   "metadata": {},
   "source": [
    "### 1.6 Load police force headcount\n",
    "This was taken from a PDF file and so was manually input. These figures are from March 2017 because we wanted consistent data and 2018 data was not available for a number of boroughs (Camden, Redbridge, Havering, Barking & Dagenham and Islington)\n",
    "\n",
    "We also know that we have missing data for a number of boroughs and for these boroughs we will use the median value. This is the best we can do because the data is not readily available (Barnet, Bexley, Brent, Bromley, Greenwich, Harrow, Hounslow and Richmond upon Thames)"
   ]
  },
  {
   "cell_type": "code",
   "execution_count": 99,
   "metadata": {},
   "outputs": [
    {
     "data": {
      "text/html": [
       "<div>\n",
       "<style scoped>\n",
       "    .dataframe tbody tr th:only-of-type {\n",
       "        vertical-align: middle;\n",
       "    }\n",
       "\n",
       "    .dataframe tbody tr th {\n",
       "        vertical-align: top;\n",
       "    }\n",
       "\n",
       "    .dataframe thead th {\n",
       "        text-align: right;\n",
       "    }\n",
       "</style>\n",
       "<table border=\"1\" class=\"dataframe\">\n",
       "  <thead>\n",
       "    <tr style=\"text-align: right;\">\n",
       "      <th></th>\n",
       "      <th>area_code</th>\n",
       "      <th>area_name</th>\n",
       "      <th>police_headcount</th>\n",
       "    </tr>\n",
       "  </thead>\n",
       "  <tbody>\n",
       "    <tr>\n",
       "      <th>0</th>\n",
       "      <td>E09000002</td>\n",
       "      <td>Barking and Dagenham</td>\n",
       "      <td>429.27</td>\n",
       "    </tr>\n",
       "    <tr>\n",
       "      <th>1</th>\n",
       "      <td>E09000003</td>\n",
       "      <td>Barnet</td>\n",
       "      <td>564.20</td>\n",
       "    </tr>\n",
       "    <tr>\n",
       "      <th>2</th>\n",
       "      <td>E09000004</td>\n",
       "      <td>Bexley</td>\n",
       "      <td>564.20</td>\n",
       "    </tr>\n",
       "    <tr>\n",
       "      <th>3</th>\n",
       "      <td>E09000005</td>\n",
       "      <td>Brent</td>\n",
       "      <td>564.20</td>\n",
       "    </tr>\n",
       "    <tr>\n",
       "      <th>4</th>\n",
       "      <td>E09000006</td>\n",
       "      <td>Bromley</td>\n",
       "      <td>564.20</td>\n",
       "    </tr>\n",
       "    <tr>\n",
       "      <th>5</th>\n",
       "      <td>E09000007</td>\n",
       "      <td>Camden</td>\n",
       "      <td>622.08</td>\n",
       "    </tr>\n",
       "    <tr>\n",
       "      <th>6</th>\n",
       "      <td>E09000001</td>\n",
       "      <td>City of London</td>\n",
       "      <td>564.20</td>\n",
       "    </tr>\n",
       "    <tr>\n",
       "      <th>7</th>\n",
       "      <td>E09000008</td>\n",
       "      <td>Croydon</td>\n",
       "      <td>667.12</td>\n",
       "    </tr>\n",
       "    <tr>\n",
       "      <th>8</th>\n",
       "      <td>E09000009</td>\n",
       "      <td>Ealing</td>\n",
       "      <td>619.74</td>\n",
       "    </tr>\n",
       "    <tr>\n",
       "      <th>9</th>\n",
       "      <td>E09000010</td>\n",
       "      <td>Enfield</td>\n",
       "      <td>544.89</td>\n",
       "    </tr>\n",
       "    <tr>\n",
       "      <th>10</th>\n",
       "      <td>E09000011</td>\n",
       "      <td>Greenwich</td>\n",
       "      <td>564.20</td>\n",
       "    </tr>\n",
       "    <tr>\n",
       "      <th>11</th>\n",
       "      <td>E09000012</td>\n",
       "      <td>Hackney</td>\n",
       "      <td>580.90</td>\n",
       "    </tr>\n",
       "    <tr>\n",
       "      <th>12</th>\n",
       "      <td>E09000013</td>\n",
       "      <td>Hammersmith and Fulham</td>\n",
       "      <td>473.72</td>\n",
       "    </tr>\n",
       "    <tr>\n",
       "      <th>13</th>\n",
       "      <td>E09000014</td>\n",
       "      <td>Haringey</td>\n",
       "      <td>575.74</td>\n",
       "    </tr>\n",
       "    <tr>\n",
       "      <th>14</th>\n",
       "      <td>E09000015</td>\n",
       "      <td>Harrow</td>\n",
       "      <td>564.20</td>\n",
       "    </tr>\n",
       "    <tr>\n",
       "      <th>15</th>\n",
       "      <td>E09000016</td>\n",
       "      <td>Havering</td>\n",
       "      <td>361.84</td>\n",
       "    </tr>\n",
       "    <tr>\n",
       "      <th>16</th>\n",
       "      <td>E09000017</td>\n",
       "      <td>Hillingdon</td>\n",
       "      <td>482.53</td>\n",
       "    </tr>\n",
       "    <tr>\n",
       "      <th>17</th>\n",
       "      <td>E09000018</td>\n",
       "      <td>Hounslow</td>\n",
       "      <td>564.20</td>\n",
       "    </tr>\n",
       "    <tr>\n",
       "      <th>18</th>\n",
       "      <td>E09000019</td>\n",
       "      <td>Islington</td>\n",
       "      <td>564.20</td>\n",
       "    </tr>\n",
       "    <tr>\n",
       "      <th>19</th>\n",
       "      <td>E09000020</td>\n",
       "      <td>Kensington and Chelsea</td>\n",
       "      <td>503.55</td>\n",
       "    </tr>\n",
       "    <tr>\n",
       "      <th>20</th>\n",
       "      <td>E09000021</td>\n",
       "      <td>Kingston upon Thames</td>\n",
       "      <td>564.20</td>\n",
       "    </tr>\n",
       "    <tr>\n",
       "      <th>21</th>\n",
       "      <td>E09000022</td>\n",
       "      <td>Lambeth</td>\n",
       "      <td>757.71</td>\n",
       "    </tr>\n",
       "    <tr>\n",
       "      <th>22</th>\n",
       "      <td>E09000023</td>\n",
       "      <td>Lewisham</td>\n",
       "      <td>604.56</td>\n",
       "    </tr>\n",
       "    <tr>\n",
       "      <th>23</th>\n",
       "      <td>E09000024</td>\n",
       "      <td>Merton</td>\n",
       "      <td>331.22</td>\n",
       "    </tr>\n",
       "    <tr>\n",
       "      <th>24</th>\n",
       "      <td>E09000025</td>\n",
       "      <td>Newham</td>\n",
       "      <td>724.50</td>\n",
       "    </tr>\n",
       "    <tr>\n",
       "      <th>25</th>\n",
       "      <td>E09000026</td>\n",
       "      <td>Redbridge</td>\n",
       "      <td>468.77</td>\n",
       "    </tr>\n",
       "    <tr>\n",
       "      <th>26</th>\n",
       "      <td>E09000027</td>\n",
       "      <td>Richmond upon Thames</td>\n",
       "      <td>564.20</td>\n",
       "    </tr>\n",
       "    <tr>\n",
       "      <th>27</th>\n",
       "      <td>E09000028</td>\n",
       "      <td>Southwark</td>\n",
       "      <td>722.15</td>\n",
       "    </tr>\n",
       "    <tr>\n",
       "      <th>28</th>\n",
       "      <td>E09000029</td>\n",
       "      <td>Sutton</td>\n",
       "      <td>298.49</td>\n",
       "    </tr>\n",
       "    <tr>\n",
       "      <th>29</th>\n",
       "      <td>E09000030</td>\n",
       "      <td>Tower Hamlets</td>\n",
       "      <td>629.45</td>\n",
       "    </tr>\n",
       "    <tr>\n",
       "      <th>30</th>\n",
       "      <td>E09000031</td>\n",
       "      <td>Waltham Forest</td>\n",
       "      <td>537.53</td>\n",
       "    </tr>\n",
       "    <tr>\n",
       "      <th>31</th>\n",
       "      <td>E09000032</td>\n",
       "      <td>Wandsworth</td>\n",
       "      <td>498.06</td>\n",
       "    </tr>\n",
       "    <tr>\n",
       "      <th>32</th>\n",
       "      <td>E09000033</td>\n",
       "      <td>Westminster</td>\n",
       "      <td>1202.20</td>\n",
       "    </tr>\n",
       "  </tbody>\n",
       "</table>\n",
       "</div>"
      ],
      "text/plain": [
       "    area_code               area_name  police_headcount\n",
       "0   E09000002    Barking and Dagenham            429.27\n",
       "1   E09000003                  Barnet            564.20\n",
       "2   E09000004                  Bexley            564.20\n",
       "3   E09000005                   Brent            564.20\n",
       "4   E09000006                 Bromley            564.20\n",
       "5   E09000007                  Camden            622.08\n",
       "6   E09000001          City of London            564.20\n",
       "7   E09000008                 Croydon            667.12\n",
       "8   E09000009                  Ealing            619.74\n",
       "9   E09000010                 Enfield            544.89\n",
       "10  E09000011               Greenwich            564.20\n",
       "11  E09000012                 Hackney            580.90\n",
       "12  E09000013  Hammersmith and Fulham            473.72\n",
       "13  E09000014                Haringey            575.74\n",
       "14  E09000015                  Harrow            564.20\n",
       "15  E09000016                Havering            361.84\n",
       "16  E09000017              Hillingdon            482.53\n",
       "17  E09000018                Hounslow            564.20\n",
       "18  E09000019               Islington            564.20\n",
       "19  E09000020  Kensington and Chelsea            503.55\n",
       "20  E09000021    Kingston upon Thames            564.20\n",
       "21  E09000022                 Lambeth            757.71\n",
       "22  E09000023                Lewisham            604.56\n",
       "23  E09000024                  Merton            331.22\n",
       "24  E09000025                  Newham            724.50\n",
       "25  E09000026               Redbridge            468.77\n",
       "26  E09000027    Richmond upon Thames            564.20\n",
       "27  E09000028               Southwark            722.15\n",
       "28  E09000029                  Sutton            298.49\n",
       "29  E09000030           Tower Hamlets            629.45\n",
       "30  E09000031          Waltham Forest            537.53\n",
       "31  E09000032              Wandsworth            498.06\n",
       "32  E09000033             Westminster           1202.20"
      ]
     },
     "execution_count": 99,
     "metadata": {},
     "output_type": "execute_result"
    }
   ],
   "source": [
    "police_headcount_boroughs = pd.read_csv('.\\DataSources\\Crime and outcomes\\police_headcount_boroughs.csv')\n",
    "\n",
    "median_headcount = police_headcount_boroughs.police_headcount.median() \n",
    "\n",
    "police_headcount_boroughs['police_headcount'] = police_headcount_boroughs['police_headcount'].fillna(median_headcount)\n",
    "police_headcount_boroughs"
   ]
  },
  {
   "cell_type": "markdown",
   "metadata": {},
   "source": [
    "### 1.7 Crime clear up rates\n"
   ]
  },
  {
   "cell_type": "code",
   "execution_count": null,
   "metadata": {},
   "outputs": [],
   "source": []
  },
  {
   "cell_type": "markdown",
   "metadata": {},
   "source": [
    "### 1.8 Merge all data"
   ]
  },
  {
   "cell_type": "code",
   "execution_count": 128,
   "metadata": {},
   "outputs": [
    {
     "name": "stdout",
     "output_type": "stream",
     "text": [
      "Shape for merged file: (32, 8)\n"
     ]
    },
    {
     "data": {
      "text/html": [
       "<div>\n",
       "<style scoped>\n",
       "    .dataframe tbody tr th:only-of-type {\n",
       "        vertical-align: middle;\n",
       "    }\n",
       "\n",
       "    .dataframe tbody tr th {\n",
       "        vertical-align: top;\n",
       "    }\n",
       "\n",
       "    .dataframe thead th {\n",
       "        text-align: right;\n",
       "    }\n",
       "</style>\n",
       "<table border=\"1\" class=\"dataframe\">\n",
       "  <thead>\n",
       "    <tr style=\"text-align: right;\">\n",
       "      <th></th>\n",
       "      <th>area_code</th>\n",
       "      <th>area_name</th>\n",
       "      <th>mental_health_rate</th>\n",
       "      <th>looked_after_rate</th>\n",
       "      <th>exclusion_rate</th>\n",
       "      <th>child_income_deprivation_score</th>\n",
       "      <th>crime_per_1000</th>\n",
       "      <th>police_headcount</th>\n",
       "    </tr>\n",
       "  </thead>\n",
       "  <tbody>\n",
       "    <tr>\n",
       "      <th>0</th>\n",
       "      <td>E09000002</td>\n",
       "      <td>Barking and Dagenham</td>\n",
       "      <td>0.119101</td>\n",
       "      <td>66</td>\n",
       "      <td>0.05963</td>\n",
       "      <td>0.2365</td>\n",
       "      <td>18.303852</td>\n",
       "      <td>429.27</td>\n",
       "    </tr>\n",
       "    <tr>\n",
       "      <th>1</th>\n",
       "      <td>E09000003</td>\n",
       "      <td>Barnet</td>\n",
       "      <td>0.120642</td>\n",
       "      <td>34</td>\n",
       "      <td>0.05384</td>\n",
       "      <td>0.1000</td>\n",
       "      <td>10.917753</td>\n",
       "      <td>564.20</td>\n",
       "    </tr>\n",
       "    <tr>\n",
       "      <th>2</th>\n",
       "      <td>E09000004</td>\n",
       "      <td>Bexley</td>\n",
       "      <td>0.121609</td>\n",
       "      <td>40</td>\n",
       "      <td>0.10019</td>\n",
       "      <td>0.1315</td>\n",
       "      <td>10.906733</td>\n",
       "      <td>564.20</td>\n",
       "    </tr>\n",
       "    <tr>\n",
       "      <th>3</th>\n",
       "      <td>E09000005</td>\n",
       "      <td>Brent</td>\n",
       "      <td>0.120984</td>\n",
       "      <td>38</td>\n",
       "      <td>0.06071</td>\n",
       "      <td>0.1560</td>\n",
       "      <td>15.444051</td>\n",
       "      <td>564.20</td>\n",
       "    </tr>\n",
       "    <tr>\n",
       "      <th>4</th>\n",
       "      <td>E09000006</td>\n",
       "      <td>Bromley</td>\n",
       "      <td>0.121004</td>\n",
       "      <td>46</td>\n",
       "      <td>0.09537</td>\n",
       "      <td>0.0820</td>\n",
       "      <td>9.655890</td>\n",
       "      <td>564.20</td>\n",
       "    </tr>\n",
       "  </tbody>\n",
       "</table>\n",
       "</div>"
      ],
      "text/plain": [
       "   area_code             area_name  mental_health_rate looked_after_rate  \\\n",
       "0  E09000002  Barking and Dagenham            0.119101                66   \n",
       "1  E09000003                Barnet            0.120642                34   \n",
       "2  E09000004                Bexley            0.121609                40   \n",
       "3  E09000005                 Brent            0.120984                38   \n",
       "4  E09000006               Bromley            0.121004                46   \n",
       "\n",
       "   exclusion_rate  child_income_deprivation_score  crime_per_1000  \\\n",
       "0         0.05963                          0.2365       18.303852   \n",
       "1         0.05384                          0.1000       10.917753   \n",
       "2         0.10019                          0.1315       10.906733   \n",
       "3         0.06071                          0.1560       15.444051   \n",
       "4         0.09537                          0.0820        9.655890   \n",
       "\n",
       "   police_headcount  \n",
       "0            429.27  \n",
       "1            564.20  \n",
       "2            564.20  \n",
       "3            564.20  \n",
       "4            564.20  "
      ]
     },
     "execution_count": 128,
     "metadata": {},
     "output_type": "execute_result"
    }
   ],
   "source": [
    "london_crime_socio = pd.merge(child_well_being, borough_serious_crime_new, how='inner',\n",
    "                             left_on='area_name', right_on='csp_name')\n",
    "\n",
    "london_crime_socio = pd.merge(london_crime_socio, police_headcount_boroughs, how='inner',\n",
    "                             left_on='area_code', right_on='area_code')\n",
    "\n",
    "london_crime_socio.drop(['csp_name', 'area_name_y'], axis=1, inplace=True)\n",
    "london_crime_socio.rename(columns = {'area_name_x':'area_name'}, inplace = True)\n",
    "\n",
    "print(\"Shape for merged file: {}\".format(london_crime_socio.shape))\n",
    "\n",
    "london_crime_socio.head()"
   ]
  },
  {
   "cell_type": "markdown",
   "metadata": {},
   "source": [
    "## 2. Distributional analysis\n",
    "### 2.1 first do a simple min max scale on looked_after and crime per 1000"
   ]
  },
  {
   "cell_type": "code",
   "execution_count": 129,
   "metadata": {},
   "outputs": [
    {
     "data": {
      "text/html": [
       "<div>\n",
       "<style scoped>\n",
       "    .dataframe tbody tr th:only-of-type {\n",
       "        vertical-align: middle;\n",
       "    }\n",
       "\n",
       "    .dataframe tbody tr th {\n",
       "        vertical-align: top;\n",
       "    }\n",
       "\n",
       "    .dataframe thead th {\n",
       "        text-align: right;\n",
       "    }\n",
       "</style>\n",
       "<table border=\"1\" class=\"dataframe\">\n",
       "  <thead>\n",
       "    <tr style=\"text-align: right;\">\n",
       "      <th></th>\n",
       "      <th>area_code</th>\n",
       "      <th>area_name</th>\n",
       "      <th>mental_health_rate</th>\n",
       "      <th>exclusion_rate</th>\n",
       "      <th>child_income_deprivation_score</th>\n",
       "      <th>looked_after_rate_scaled</th>\n",
       "      <th>crime_rate_scaled</th>\n",
       "      <th>police_headcount_scaled</th>\n",
       "    </tr>\n",
       "  </thead>\n",
       "  <tbody>\n",
       "    <tr>\n",
       "      <th>0</th>\n",
       "      <td>E09000002</td>\n",
       "      <td>Barking and Dagenham</td>\n",
       "      <td>0.119101</td>\n",
       "      <td>0.05963</td>\n",
       "      <td>0.2365</td>\n",
       "      <td>0.672131</td>\n",
       "      <td>0.371870</td>\n",
       "      <td>0.144715</td>\n",
       "    </tr>\n",
       "    <tr>\n",
       "      <th>1</th>\n",
       "      <td>E09000003</td>\n",
       "      <td>Barnet</td>\n",
       "      <td>0.120642</td>\n",
       "      <td>0.05384</td>\n",
       "      <td>0.1000</td>\n",
       "      <td>0.147541</td>\n",
       "      <td>0.108421</td>\n",
       "      <td>0.294021</td>\n",
       "    </tr>\n",
       "    <tr>\n",
       "      <th>2</th>\n",
       "      <td>E09000004</td>\n",
       "      <td>Bexley</td>\n",
       "      <td>0.121609</td>\n",
       "      <td>0.10019</td>\n",
       "      <td>0.1315</td>\n",
       "      <td>0.245902</td>\n",
       "      <td>0.108028</td>\n",
       "      <td>0.294021</td>\n",
       "    </tr>\n",
       "    <tr>\n",
       "      <th>3</th>\n",
       "      <td>E09000005</td>\n",
       "      <td>Brent</td>\n",
       "      <td>0.120984</td>\n",
       "      <td>0.06071</td>\n",
       "      <td>0.1560</td>\n",
       "      <td>0.213115</td>\n",
       "      <td>0.269866</td>\n",
       "      <td>0.294021</td>\n",
       "    </tr>\n",
       "    <tr>\n",
       "      <th>4</th>\n",
       "      <td>E09000006</td>\n",
       "      <td>Bromley</td>\n",
       "      <td>0.121004</td>\n",
       "      <td>0.09537</td>\n",
       "      <td>0.0820</td>\n",
       "      <td>0.344262</td>\n",
       "      <td>0.063413</td>\n",
       "      <td>0.294021</td>\n",
       "    </tr>\n",
       "  </tbody>\n",
       "</table>\n",
       "</div>"
      ],
      "text/plain": [
       "   area_code             area_name  mental_health_rate  exclusion_rate  \\\n",
       "0  E09000002  Barking and Dagenham            0.119101         0.05963   \n",
       "1  E09000003                Barnet            0.120642         0.05384   \n",
       "2  E09000004                Bexley            0.121609         0.10019   \n",
       "3  E09000005                 Brent            0.120984         0.06071   \n",
       "4  E09000006               Bromley            0.121004         0.09537   \n",
       "\n",
       "   child_income_deprivation_score  looked_after_rate_scaled  \\\n",
       "0                          0.2365                  0.672131   \n",
       "1                          0.1000                  0.147541   \n",
       "2                          0.1315                  0.245902   \n",
       "3                          0.1560                  0.213115   \n",
       "4                          0.0820                  0.344262   \n",
       "\n",
       "   crime_rate_scaled  police_headcount_scaled  \n",
       "0           0.371870                 0.144715  \n",
       "1           0.108421                 0.294021  \n",
       "2           0.108028                 0.294021  \n",
       "3           0.269866                 0.294021  \n",
       "4           0.063413                 0.294021  "
      ]
     },
     "execution_count": 129,
     "metadata": {},
     "output_type": "execute_result"
    }
   ],
   "source": [
    "def myMinMax(value, min_val, max_val):\n",
    "    return (value-min_val)/(max_val-min_val)\n",
    "\n",
    "crime_min = london_crime_socio.crime_per_1000.min()\n",
    "crime_max = london_crime_socio.crime_per_1000.max()\n",
    "looked_after_min = london_crime_socio.looked_after_rate.min()\n",
    "looked_after_max = london_crime_socio.looked_after_rate.max()\n",
    "head_min = london_crime_socio.police_headcount.min()\n",
    "head_max = london_crime_socio.police_headcount.max()\n",
    "\n",
    "london_crime_socio['looked_after_rate_scaled'] =  london_crime_socio.apply(lambda x: myMinMax(x['looked_after_rate'],\n",
    "                                                                                             looked_after_min,\n",
    "                                                                                             looked_after_max), axis=1)\n",
    "\n",
    "london_crime_socio['crime_rate_scaled'] =  london_crime_socio.apply(lambda x: myMinMax(x['crime_per_1000'],\n",
    "                                                                                             crime_min,\n",
    "                                                                                             crime_max), axis=1)\n",
    "\n",
    "london_crime_socio['police_headcount_scaled'] =  london_crime_socio.apply(lambda x: myMinMax(x['police_headcount'],\n",
    "                                                                                             head_min,\n",
    "                                                                                             head_max), axis=1)\n",
    "\n",
    "london_crime_socio.drop(['looked_after_rate', 'crime_per_1000', 'police_headcount'], axis=1, inplace=True)\n",
    "\n",
    "london_crime_socio.head()"
   ]
  },
  {
   "cell_type": "markdown",
   "metadata": {},
   "source": [
    "### 2.2 Perform distributional analysis\n",
    "#### 2.2.1 First tidy the dataframe"
   ]
  },
  {
   "cell_type": "code",
   "execution_count": 151,
   "metadata": {},
   "outputs": [
    {
     "data": {
      "text/html": [
       "<div>\n",
       "<style scoped>\n",
       "    .dataframe tbody tr th:only-of-type {\n",
       "        vertical-align: middle;\n",
       "    }\n",
       "\n",
       "    .dataframe tbody tr th {\n",
       "        vertical-align: top;\n",
       "    }\n",
       "\n",
       "    .dataframe thead th {\n",
       "        text-align: right;\n",
       "    }\n",
       "</style>\n",
       "<table border=\"1\" class=\"dataframe\">\n",
       "  <thead>\n",
       "    <tr style=\"text-align: right;\">\n",
       "      <th></th>\n",
       "      <th>area_code</th>\n",
       "      <th>area_name</th>\n",
       "      <th>feature</th>\n",
       "      <th>value</th>\n",
       "    </tr>\n",
       "  </thead>\n",
       "  <tbody>\n",
       "    <tr>\n",
       "      <th>0</th>\n",
       "      <td>E09000002</td>\n",
       "      <td>Barking and Dagenham</td>\n",
       "      <td>mental_health_rate</td>\n",
       "      <td>0.119101</td>\n",
       "    </tr>\n",
       "    <tr>\n",
       "      <th>1</th>\n",
       "      <td>E09000003</td>\n",
       "      <td>Barnet</td>\n",
       "      <td>mental_health_rate</td>\n",
       "      <td>0.120642</td>\n",
       "    </tr>\n",
       "    <tr>\n",
       "      <th>2</th>\n",
       "      <td>E09000004</td>\n",
       "      <td>Bexley</td>\n",
       "      <td>mental_health_rate</td>\n",
       "      <td>0.121609</td>\n",
       "    </tr>\n",
       "    <tr>\n",
       "      <th>3</th>\n",
       "      <td>E09000005</td>\n",
       "      <td>Brent</td>\n",
       "      <td>mental_health_rate</td>\n",
       "      <td>0.120984</td>\n",
       "    </tr>\n",
       "    <tr>\n",
       "      <th>4</th>\n",
       "      <td>E09000006</td>\n",
       "      <td>Bromley</td>\n",
       "      <td>mental_health_rate</td>\n",
       "      <td>0.121004</td>\n",
       "    </tr>\n",
       "  </tbody>\n",
       "</table>\n",
       "</div>"
      ],
      "text/plain": [
       "   area_code             area_name             feature     value\n",
       "0  E09000002  Barking and Dagenham  mental_health_rate  0.119101\n",
       "1  E09000003                Barnet  mental_health_rate  0.120642\n",
       "2  E09000004                Bexley  mental_health_rate  0.121609\n",
       "3  E09000005                 Brent  mental_health_rate  0.120984\n",
       "4  E09000006               Bromley  mental_health_rate  0.121004"
      ]
     },
     "execution_count": 151,
     "metadata": {},
     "output_type": "execute_result"
    }
   ],
   "source": [
    "value_fields = ['mental_health_rate', 'exclusion_rate', \n",
    "                'child_income_deprivation_score', 'looked_after_rate_scaled', 'crime_rate_scaled', 'police_headcount_scaled']\n",
    "\n",
    "london_crime_socio_tidy = pd.melt(london_crime_socio, id_vars=['area_code', 'area_name'], \n",
    "                        value_vars=value_fields, var_name = 'feature', value_name='value')\n",
    "\n",
    "london_crime_socio_tidy.head()"
   ]
  },
  {
   "cell_type": "markdown",
   "metadata": {},
   "source": [
    "#### 2.2.2 Distributional analysis\n",
    "We will perform the following broad steps\n",
    "1. Assess distribution\n",
    "    - Use histograms to review the distribution for each feature to check for normality, skewness and evidence of bi or multi modality within the data\n",
    "    - if we identify skewness, then plot historograms for log distributions to see whether that addresses the skewness\n",
    "    - if we identify multi modes within the data then review further as part of our outlier analysis \n",
    "2. Analyse outliers\n",
    "    - use boxplots to get an overview of distributions and outliers and also create reports of all values falling outside mean +/- 2.5 standard deviations to assess the extent of the outliers. \n",
    "    - fix outliers which have arisen erroneously, but look at different strategies (e.g. using 'robust' statistics) if the outliers actually reveal important informaton about our locations and distributions\n",
    "3. Define strategy for outliers and distribution\n",
    "    - We will discuss our approach to subsequent inferential statistics based on our findings"
   ]
  },
  {
   "cell_type": "code",
   "execution_count": 152,
   "metadata": {},
   "outputs": [
    {
     "data": {
      "image/png": "[encoded data removed]",
      "text/plain": [
       "<Figure size 1440x576 with 12 Axes>"
      ]
     },
     "metadata": {
      "needs_background": "light"
     },
     "output_type": "display_data"
    }
   ],
   "source": [
    "def display_distributions():\n",
    "\n",
    "    f, axes = plt.subplots(2, 6, figsize=(20,8))\n",
    "    f.suptitle('Histograms and QQPlots for socio economic and crime features at borough level')\n",
    "    sns.distplot(np.array(london_crime_socio_tidy['value'][london_crime_socio_tidy.feature=='mental_health_rate']), bins=50, ax=axes[0,0])\n",
    "    axes[0,0].set_title('mental_health_rate')\n",
    "    sm.qqplot(np.array(london_crime_socio_tidy['value'][london_crime_socio_tidy.feature=='mental_health_rate']), line='r', ax=axes[1,0])\n",
    "    axes[1,0].set_title('QQ:mental_health_rate')\n",
    "\n",
    "    sns.distplot(np.array(london_crime_socio_tidy['value'][london_crime_socio_tidy.feature=='exclusion_rate']), bins=50, ax=axes[0,1])\n",
    "    axes[0,1].set_title('exclusion_rate')\n",
    "    sm.qqplot(np.array(london_crime_socio_tidy['value'][london_crime_socio_tidy.feature=='exclusion_rate']), line='r', ax=axes[1,1])\n",
    "    axes[1,1].set_title('QQ:exclusion_rate')\n",
    "\n",
    "    sns.distplot(np.array(london_crime_socio_tidy['value'][london_crime_socio_tidy.feature=='child_income_deprivation_score']), bins=50, ax=axes[0,2])\n",
    "    axes[0,2].set_title('child_income_deprivation_score')\n",
    "    sm.qqplot(np.array(london_crime_socio_tidy['value'][london_crime_socio_tidy.feature=='child_income_deprivation_score']), line='r', ax=axes[1,2])\n",
    "    axes[1,2].set_title('QQ:child_income_deprivation_score')\n",
    "\n",
    "    sns.distplot(np.array(london_crime_socio_tidy['value'][london_crime_socio_tidy.feature=='looked_after_rate_scaled']), bins=50, ax=axes[0,3])\n",
    "    axes[0,3].set_title('looked_after_rate_scaled')\n",
    "    sm.qqplot(np.array(london_crime_socio_tidy['value'][london_crime_socio_tidy.feature=='looked_after_rate_scaled']), line='r', ax=axes[1,3])\n",
    "    axes[1,3].set_title('QQ:looked_after_rate_scaled')\n",
    "\n",
    "    sns.distplot(np.array(london_crime_socio_tidy['value'][london_crime_socio_tidy.feature=='crime_rate_scaled']), bins=50, ax=axes[0,4])\n",
    "    axes[0,4].set_title('crime_rate_scaled')\n",
    "    sm.qqplot(np.array(london_crime_socio_tidy['value'][london_crime_socio_tidy.feature=='crime_rate_scaled']), line='r', ax=axes[1,4])\n",
    "    axes[1,4].set_title('QQ:crime_rate_scaled')\n",
    "\n",
    "    sns.distplot(np.array(london_crime_socio_tidy['value'][london_crime_socio_tidy.feature=='police_headcount_scaled']), bins=50, ax=axes[0,5])\n",
    "    axes[0,5].set_title('police_headcount_scaled')\n",
    "    sm.qqplot(np.array(london_crime_socio_tidy['value'][london_crime_socio_tidy.feature=='police_headcount_scaled']), line='r', ax=axes[1,5])\n",
    "    axes[1,5].set_title('QQ:police_headcount_scaled')\n",
    "\n",
    "    plt.show()\n",
    "    \n",
    "display_distributions()"
   ]
  },
  {
   "cell_type": "code",
   "execution_count": 153,
   "metadata": {},
   "outputs": [
    {
     "data": {
      "application/vnd.plotly.v1+json": {
       "config": {
        "plotlyServerURL": "https://plot.ly"
       },
       "data": [
        {
         "alignmentgroup": "True",
         "hovertemplate": "feature=%{x}<br>value=%{y}<extra></extra>",
         "legendgroup": "",
         "marker": {
          "color": "#636efa"
         },
         "name": "",
         "notched": false,
         "offsetgroup": "",
         "orientation": "v",
         "showlegend": false,
         "type": "box",
         "x": [
          "mental_health_rate",
          "mental_health_rate",
          "mental_health_rate",
          "mental_health_rate",
          "mental_health_rate",
          "mental_health_rate",
          "mental_health_rate",
          "mental_health_rate",
          "mental_health_rate",
          "mental_health_rate",
          "mental_health_rate",
          "mental_health_rate",
          "mental_health_rate",
          "mental_health_rate",
          "mental_health_rate",
          "mental_health_rate",
          "mental_health_rate",
          "mental_health_rate",
          "mental_health_rate",
          "mental_health_rate",
          "mental_health_rate",
          "mental_health_rate",
          "mental_health_rate",
          "mental_health_rate",
          "mental_health_rate",
          "mental_health_rate",
          "mental_health_rate",
          "mental_health_rate",
          "mental_health_rate",
          "mental_health_rate",
          "mental_health_rate",
          "mental_health_rate",
          "exclusion_rate",
          "exclusion_rate",
          "exclusion_rate",
          "exclusion_rate",
          "exclusion_rate",
          "exclusion_rate",
          "exclusion_rate",
          "exclusion_rate",
          "exclusion_rate",
          "exclusion_rate",
          "exclusion_rate",
          "exclusion_rate",
          "exclusion_rate",
          "exclusion_rate",
          "exclusion_rate",
          "exclusion_rate",
          "exclusion_rate",
          "exclusion_rate",
          "exclusion_rate",
          "exclusion_rate",
          "exclusion_rate",
          "exclusion_rate",
          "exclusion_rate",
          "exclusion_rate",
          "exclusion_rate",
          "exclusion_rate",
          "exclusion_rate",
          "exclusion_rate",
          "exclusion_rate",
          "exclusion_rate",
          "exclusion_rate",
          "exclusion_rate",
          "child_income_deprivation_score",
          "child_income_deprivation_score",
          "child_income_deprivation_score",
          "child_income_deprivation_score",
          "child_income_deprivation_score",
          "child_income_deprivation_score",
          "child_income_deprivation_score",
          "child_income_deprivation_score",
          "child_income_deprivation_score",
          "child_income_deprivation_score",
          "child_income_deprivation_score",
          "child_income_deprivation_score",
          "child_income_deprivation_score",
          "child_income_deprivation_score",
          "child_income_deprivation_score",
          "child_income_deprivation_score",
          "child_income_deprivation_score",
          "child_income_deprivation_score",
          "child_income_deprivation_score",
          "child_income_deprivation_score",
          "child_income_deprivation_score",
          "child_income_deprivation_score",
          "child_income_deprivation_score",
          "child_income_deprivation_score",
          "child_income_deprivation_score",
          "child_income_deprivation_score",
          "child_income_deprivation_score",
          "child_income_deprivation_score",
          "child_income_deprivation_score",
          "child_income_deprivation_score",
          "child_income_deprivation_score",
          "child_income_deprivation_score",
          "looked_after_rate_scaled",
          "looked_after_rate_scaled",
          "looked_after_rate_scaled",
          "looked_after_rate_scaled",
          "looked_after_rate_scaled",
          "looked_after_rate_scaled",
          "looked_after_rate_scaled",
          "looked_after_rate_scaled",
          "looked_after_rate_scaled",
          "looked_after_rate_scaled",
          "looked_after_rate_scaled",
          "looked_after_rate_scaled",
          "looked_after_rate_scaled",
          "looked_after_rate_scaled",
          "looked_after_rate_scaled",
          "looked_after_rate_scaled",
          "looked_after_rate_scaled",
          "looked_after_rate_scaled",
          "looked_after_rate_scaled",
          "looked_after_rate_scaled",
          "looked_after_rate_scaled",
          "looked_after_rate_scaled",
          "looked_after_rate_scaled",
          "looked_after_rate_scaled",
          "looked_after_rate_scaled",
          "looked_after_rate_scaled",
          "looked_after_rate_scaled",
          "looked_after_rate_scaled",
          "looked_after_rate_scaled",
          "looked_after_rate_scaled",
          "looked_after_rate_scaled",
          "looked_after_rate_scaled",
          "crime_rate_scaled",
          "crime_rate_scaled",
          "crime_rate_scaled",
          "crime_rate_scaled",
          "crime_rate_scaled",
          "crime_rate_scaled",
          "crime_rate_scaled",
          "crime_rate_scaled",
          "crime_rate_scaled",
          "crime_rate_scaled",
          "crime_rate_scaled",
          "crime_rate_scaled",
          "crime_rate_scaled",
          "crime_rate_scaled",
          "crime_rate_scaled",
          "crime_rate_scaled",
          "crime_rate_scaled",
          "crime_rate_scaled",
          "crime_rate_scaled",
          "crime_rate_scaled",
          "crime_rate_scaled",
          "crime_rate_scaled",
          "crime_rate_scaled",
          "crime_rate_scaled",
          "crime_rate_scaled",
          "crime_rate_scaled",
          "crime_rate_scaled",
          "crime_rate_scaled",
          "crime_rate_scaled",
          "crime_rate_scaled",
          "crime_rate_scaled",
          "crime_rate_scaled",
          "police_headcount_scaled",
          "police_headcount_scaled",
          "police_headcount_scaled",
          "police_headcount_scaled",
          "police_headcount_scaled",
          "police_headcount_scaled",
          "police_headcount_scaled",
          "police_headcount_scaled",
          "police_headcount_scaled",
          "police_headcount_scaled",
          "police_headcount_scaled",
          "police_headcount_scaled",
          "police_headcount_scaled",
          "police_headcount_scaled",
          "police_headcount_scaled",
          "police_headcount_scaled",
          "police_headcount_scaled",
          "police_headcount_scaled",
          "police_headcount_scaled",
          "police_headcount_scaled",
          "police_headcount_scaled",
          "police_headcount_scaled",
          "police_headcount_scaled",
          "police_headcount_scaled",
          "police_headcount_scaled",
          "police_headcount_scaled",
          "police_headcount_scaled",
          "police_headcount_scaled",
          "police_headcount_scaled",
          "police_headcount_scaled",
          "police_headcount_scaled",
          "police_headcount_scaled"
         ],
         "x0": " ",
         "xaxis": "x",
         "y": [
          0.11910064415608576,
          0.12064211094156994,
          0.12160884853548261,
          0.12098428169335515,
          0.1210035433595311,
          0.12057948287154369,
          0.12096906228816752,
          0.12035289828072604,
          0.12099263276304965,
          0.11998517009174713,
          0.12020343728605491,
          0.11880233098333265,
          0.12182921070330514,
          0.12119298713601914,
          0.12188211524323775,
          0.12071117387572607,
          0.11960082194952536,
          0.12023481581471351,
          0.12052247068177302,
          0.12015677919203098,
          0.12048903058845474,
          0.11995173577837792,
          0.11960383703656878,
          0.12063912083676437,
          0.12150805310902815,
          0.11976107031736155,
          0.11972466224798504,
          0.12065604841113695,
          0.12022387039560486,
          0.1201516022049926,
          0.11800176033829966,
          0.12004061206572181,
          0.05963,
          0.05384,
          0.10019,
          0.06071,
          0.09537,
          0.08087,
          0.0624,
          0.10753,
          0.03598,
          0.06245,
          0.12676,
          0.05384,
          0.05703,
          0.08886,
          0.04314,
          0.06524,
          0.05872,
          0.09627,
          0.14599,
          0.02731,
          0.05718,
          0.05507,
          0.08008,
          0.07383,
          0.08809,
          0.05428,
          0.08324,
          0.07333,
          0.01343,
          0.07141,
          0.04698,
          0.13283,
          0.2365,
          0.1,
          0.1315,
          0.156,
          0.08199999999999999,
          0.19699999999999998,
          0.1605,
          0.1535,
          0.209,
          0.19899999999999998,
          0.2515,
          0.16,
          0.20800000000000002,
          0.11,
          0.126,
          0.13699999999999998,
          0.156,
          0.27699999999999997,
          0.081,
          0.0875,
          0.225,
          0.22399999999999998,
          0.10950000000000001,
          0.187,
          0.121,
          0.055,
          0.2475,
          0.086,
          0.259,
          0.17300000000000001,
          0.126,
          0.1585,
          0.6721311475409836,
          0.14754098360655737,
          0.2459016393442623,
          0.21311475409836064,
          0.3442622950819672,
          0.19672131147540983,
          1,
          0.29508196721311475,
          0.32786885245901637,
          0.7377049180327869,
          0.639344262295082,
          0.6721311475409836,
          0.7540983606557377,
          0.06557377049180328,
          0.29508196721311475,
          0.3114754098360656,
          0.29508196721311475,
          0.8032786885245902,
          0.11475409836065574,
          0.13114754098360656,
          0.5081967213114754,
          0.7540983606557377,
          0.13114754098360656,
          0.3114754098360656,
          0.09836065573770492,
          0,
          0.7377049180327869,
          0.39344262295081966,
          0.3442622950819672,
          0.29508196721311475,
          0.3770491803278688,
          0.3114754098360656,
          0.3718699238005821,
          0.10842128800636977,
          0.108028219044419,
          0.2698660296244944,
          0.06341295745194199,
          0.36466163788946965,
          0.24520528828905072,
          0.2210429086262712,
          0.2825679497334239,
          0.28584675348373395,
          0.4439905004966691,
          0.33915180711331294,
          0.5229252709921205,
          0.08795670218308309,
          0.11230694446299704,
          0.15452700257674895,
          0.2213384482819394,
          0.3989254947607532,
          0.3774071330015223,
          0.10018726963338503,
          0.35582330503672255,
          0.2967546761579783,
          0.08026637689518457,
          0.3370523540268592,
          0.13561006185282976,
          0,
          0.43957296290442227,
          0.06626792287111724,
          0.29871093435471674,
          0.15593471897957434,
          0.13305296541000158,
          1,
          0.14471456551327302,
          0.2940213121465957,
          0.2940213121465957,
          0.2940213121465957,
          0.2940213121465957,
          0.3580684069004437,
          0.4079074039238251,
          0.35547908067853623,
          0.27265383806752164,
          0.2940213121465957,
          0.3125006915935421,
          0.1939006982328402,
          0.30679089530933595,
          0.2940213121465957,
          0.07009992143497357,
          0.203649400803355,
          0.2940213121465957,
          0.2940213121465957,
          0.22690907481382303,
          0.2940213121465957,
          0.5081497383010036,
          0.3386816567261621,
          0.03621737061668015,
          0.4714012238439322,
          0.1884232773788051,
          0.2940213121465957,
          0.4688008321253499,
          0,
          0.3662236779497848,
          0.2645096325148554,
          0.22083411713934778,
          1
         ],
         "y0": " ",
         "yaxis": "y"
        }
       ],
       "layout": {
        "boxmode": "group",
        "legend": {
         "tracegroupgap": 0
        },
        "margin": {
         "t": 60
        },
        "template": {
         "data": {
          "bar": [
           {
            "error_x": {
             "color": "#2a3f5f"
            },
            "error_y": {
             "color": "#2a3f5f"
            },
            "marker": {
             "line": {
              "color": "#E5ECF6",
              "width": 0.5
             }
            },
            "type": "bar"
           }
          ],
          "barpolar": [
           {
            "marker": {
             "line": {
              "color": "#E5ECF6",
              "width": 0.5
             }
            },
            "type": "barpolar"
           }
          ],
          "carpet": [
           {
            "aaxis": {
             "endlinecolor": "#2a3f5f",
             "gridcolor": "white",
             "linecolor": "white",
             "minorgridcolor": "white",
             "startlinecolor": "#2a3f5f"
            },
            "baxis": {
             "endlinecolor": "#2a3f5f",
             "gridcolor": "white",
             "linecolor": "white",
             "minorgridcolor": "white",
             "startlinecolor": "#2a3f5f"
            },
            "type": "carpet"
           }
          ],
          "choropleth": [
           {
            "colorbar": {
             "outlinewidth": 0,
             "ticks": ""
            },
            "type": "choropleth"
           }
          ],
          "contour": [
           {
            "colorbar": {
             "outlinewidth": 0,
             "ticks": ""
            },
            "colorscale": [
             [
              0,
              "#0d0887"
             ],
             [
              0.1111111111111111,
              "#46039f"
             ],
             [
              0.2222222222222222,
              "#7201a8"
             ],
             [
              0.3333333333333333,
              "#9c179e"
             ],
             [
              0.4444444444444444,
              "#bd3786"
             ],
             [
              0.5555555555555556,
              "#d8576b"
             ],
             [
              0.6666666666666666,
              "#ed7953"
             ],
             [
              0.7777777777777778,
              "#fb9f3a"
             ],
             [
              0.8888888888888888,
              "#fdca26"
             ],
             [
              1,
              "#f0f921"
             ]
            ],
            "type": "contour"
           }
          ],
          "contourcarpet": [
           {
            "colorbar": {
             "outlinewidth": 0,
             "ticks": ""
            },
            "type": "contourcarpet"
           }
          ],
          "heatmap": [
           {
            "colorbar": {
             "outlinewidth": 0,
             "ticks": ""
            },
            "colorscale": [
             [
              0,
              "#0d0887"
             ],
             [
              0.1111111111111111,
              "#46039f"
             ],
             [
              0.2222222222222222,
              "#7201a8"
             ],
             [
              0.3333333333333333,
              "#9c179e"
             ],
             [
              0.4444444444444444,
              "#bd3786"
             ],
             [
              0.5555555555555556,
              "#d8576b"
             ],
             [
              0.6666666666666666,
              "#ed7953"
             ],
             [
              0.7777777777777778,
              "#fb9f3a"
             ],
             [
              0.8888888888888888,
              "#fdca26"
             ],
             [
              1,
              "#f0f921"
             ]
            ],
            "type": "heatmap"
           }
          ],
          "heatmapgl": [
           {
            "colorbar": {
             "outlinewidth": 0,
             "ticks": ""
            },
            "colorscale": [
             [
              0,
              "#0d0887"
             ],
             [
              0.1111111111111111,
              "#46039f"
             ],
             [
              0.2222222222222222,
              "#7201a8"
             ],
             [
              0.3333333333333333,
              "#9c179e"
             ],
             [
              0.4444444444444444,
              "#bd3786"
             ],
             [
              0.5555555555555556,
              "#d8576b"
             ],
             [
              0.6666666666666666,
              "#ed7953"
             ],
             [
              0.7777777777777778,
              "#fb9f3a"
             ],
             [
              0.8888888888888888,
              "#fdca26"
             ],
             [
              1,
              "#f0f921"
             ]
            ],
            "type": "heatmapgl"
           }
          ],
          "histogram": [
           {
            "marker": {
             "colorbar": {
              "outlinewidth": 0,
              "ticks": ""
             }
            },
            "type": "histogram"
           }
          ],
          "histogram2d": [
           {
            "colorbar": {
             "outlinewidth": 0,
             "ticks": ""
            },
            "colorscale": [
             [
              0,
              "#0d0887"
             ],
             [
              0.1111111111111111,
              "#46039f"
             ],
             [
              0.2222222222222222,
              "#7201a8"
             ],
             [
              0.3333333333333333,
              "#9c179e"
             ],
             [
              0.4444444444444444,
              "#bd3786"
             ],
             [
              0.5555555555555556,
              "#d8576b"
             ],
             [
              0.6666666666666666,
              "#ed7953"
             ],
             [
              0.7777777777777778,
              "#fb9f3a"
             ],
             [
              0.8888888888888888,
              "#fdca26"
             ],
             [
              1,
              "#f0f921"
             ]
            ],
            "type": "histogram2d"
           }
          ],
          "histogram2dcontour": [
           {
            "colorbar": {
             "outlinewidth": 0,
             "ticks": ""
            },
            "colorscale": [
             [
              0,
              "#0d0887"
             ],
             [
              0.1111111111111111,
              "#46039f"
             ],
             [
              0.2222222222222222,
              "#7201a8"
             ],
             [
              0.3333333333333333,
              "#9c179e"
             ],
             [
              0.4444444444444444,
              "#bd3786"
             ],
             [
              0.5555555555555556,
              "#d8576b"
             ],
             [
              0.6666666666666666,
              "#ed7953"
             ],
             [
              0.7777777777777778,
              "#fb9f3a"
             ],
             [
              0.8888888888888888,
              "#fdca26"
             ],
             [
              1,
              "#f0f921"
             ]
            ],
            "type": "histogram2dcontour"
           }
          ],
          "mesh3d": [
           {
            "colorbar": {
             "outlinewidth": 0,
             "ticks": ""
            },
            "type": "mesh3d"
           }
          ],
          "parcoords": [
           {
            "line": {
             "colorbar": {
              "outlinewidth": 0,
              "ticks": ""
             }
            },
            "type": "parcoords"
           }
          ],
          "pie": [
           {
            "automargin": true,
            "type": "pie"
           }
          ],
          "scatter": [
           {
            "marker": {
             "colorbar": {
              "outlinewidth": 0,
              "ticks": ""
             }
            },
            "type": "scatter"
           }
          ],
          "scatter3d": [
           {
            "line": {
             "colorbar": {
              "outlinewidth": 0,
              "ticks": ""
             }
            },
            "marker": {
             "colorbar": {
              "outlinewidth": 0,
              "ticks": ""
             }
            },
            "type": "scatter3d"
           }
          ],
          "scattercarpet": [
           {
            "marker": {
             "colorbar": {
              "outlinewidth": 0,
              "ticks": ""
             }
            },
            "type": "scattercarpet"
           }
          ],
          "scattergeo": [
           {
            "marker": {
             "colorbar": {
              "outlinewidth": 0,
              "ticks": ""
             }
            },
            "type": "scattergeo"
           }
          ],
          "scattergl": [
           {
            "marker": {
             "colorbar": {
              "outlinewidth": 0,
              "ticks": ""
             }
            },
            "type": "scattergl"
           }
          ],
          "scattermapbox": [
           {
            "marker": {
             "colorbar": {
              "outlinewidth": 0,
              "ticks": ""
             }
            },
            "type": "scattermapbox"
           }
          ],
          "scatterpolar": [
           {
            "marker": {
             "colorbar": {
              "outlinewidth": 0,
              "ticks": ""
             }
            },
            "type": "scatterpolar"
           }
          ],
          "scatterpolargl": [
           {
            "marker": {
             "colorbar": {
              "outlinewidth": 0,
              "ticks": ""
             }
            },
            "type": "scatterpolargl"
           }
          ],
          "scatterternary": [
           {
            "marker": {
             "colorbar": {
              "outlinewidth": 0,
              "ticks": ""
             }
            },
            "type": "scatterternary"
           }
          ],
          "surface": [
           {
            "colorbar": {
             "outlinewidth": 0,
             "ticks": ""
            },
            "colorscale": [
             [
              0,
              "#0d0887"
             ],
             [
              0.1111111111111111,
              "#46039f"
             ],
             [
              0.2222222222222222,
              "#7201a8"
             ],
             [
              0.3333333333333333,
              "#9c179e"
             ],
             [
              0.4444444444444444,
              "#bd3786"
             ],
             [
              0.5555555555555556,
              "#d8576b"
             ],
             [
              0.6666666666666666,
              "#ed7953"
             ],
             [
              0.7777777777777778,
              "#fb9f3a"
             ],
             [
              0.8888888888888888,
              "#fdca26"
             ],
             [
              1,
              "#f0f921"
             ]
            ],
            "type": "surface"
           }
          ],
          "table": [
           {
            "cells": {
             "fill": {
              "color": "#EBF0F8"
             },
             "line": {
              "color": "white"
             }
            },
            "header": {
             "fill": {
              "color": "#C8D4E3"
             },
             "line": {
              "color": "white"
             }
            },
            "type": "table"
           }
          ]
         },
         "layout": {
          "annotationdefaults": {
           "arrowcolor": "#2a3f5f",
           "arrowhead": 0,
           "arrowwidth": 1
          },
          "coloraxis": {
           "colorbar": {
            "outlinewidth": 0,
            "ticks": ""
           }
          },
          "colorscale": {
           "diverging": [
            [
             0,
             "#8e0152"
            ],
            [
             0.1,
             "#c51b7d"
            ],
            [
             0.2,
             "#de77ae"
            ],
            [
             0.3,
             "#f1b6da"
            ],
            [
             0.4,
             "#fde0ef"
            ],
            [
             0.5,
             "#f7f7f7"
            ],
            [
             0.6,
             "#e6f5d0"
            ],
            [
             0.7,
             "#b8e186"
            ],
            [
             0.8,
             "#7fbc41"
            ],
            [
             0.9,
             "#4d9221"
            ],
            [
             1,
             "#276419"
            ]
           ],
           "sequential": [
            [
             0,
             "#0d0887"
            ],
            [
             0.1111111111111111,
             "#46039f"
            ],
            [
             0.2222222222222222,
             "#7201a8"
            ],
            [
             0.3333333333333333,
             "#9c179e"
            ],
            [
             0.4444444444444444,
             "#bd3786"
            ],
            [
             0.5555555555555556,
             "#d8576b"
            ],
            [
             0.6666666666666666,
             "#ed7953"
            ],
            [
             0.7777777777777778,
             "#fb9f3a"
            ],
            [
             0.8888888888888888,
             "#fdca26"
            ],
            [
             1,
             "#f0f921"
            ]
           ],
           "sequentialminus": [
            [
             0,
             "#0d0887"
            ],
            [
             0.1111111111111111,
             "#46039f"
            ],
            [
             0.2222222222222222,
             "#7201a8"
            ],
            [
             0.3333333333333333,
             "#9c179e"
            ],
            [
             0.4444444444444444,
             "#bd3786"
            ],
            [
             0.5555555555555556,
             "#d8576b"
            ],
            [
             0.6666666666666666,
             "#ed7953"
            ],
            [
             0.7777777777777778,
             "#fb9f3a"
            ],
            [
             0.8888888888888888,
             "#fdca26"
            ],
            [
             1,
             "#f0f921"
            ]
           ]
          },
          "colorway": [
           "#636efa",
           "#EF553B",
           "#00cc96",
           "#ab63fa",
           "#FFA15A",
           "#19d3f3",
           "#FF6692",
           "#B6E880",
           "#FF97FF",
           "#FECB52"
          ],
          "font": {
           "color": "#2a3f5f"
          },
          "geo": {
           "bgcolor": "white",
           "lakecolor": "white",
           "landcolor": "#E5ECF6",
           "showlakes": true,
           "showland": true,
           "subunitcolor": "white"
          },
          "hoverlabel": {
           "align": "left"
          },
          "hovermode": "closest",
          "mapbox": {
           "style": "light"
          },
          "paper_bgcolor": "white",
          "plot_bgcolor": "#E5ECF6",
          "polar": {
           "angularaxis": {
            "gridcolor": "white",
            "linecolor": "white",
            "ticks": ""
           },
           "bgcolor": "#E5ECF6",
           "radialaxis": {
            "gridcolor": "white",
            "linecolor": "white",
            "ticks": ""
           }
          },
          "scene": {
           "xaxis": {
            "backgroundcolor": "#E5ECF6",
            "gridcolor": "white",
            "gridwidth": 2,
            "linecolor": "white",
            "showbackground": true,
            "ticks": "",
            "zerolinecolor": "white"
           },
           "yaxis": {
            "backgroundcolor": "#E5ECF6",
            "gridcolor": "white",
            "gridwidth": 2,
            "linecolor": "white",
            "showbackground": true,
            "ticks": "",
            "zerolinecolor": "white"
           },
           "zaxis": {
            "backgroundcolor": "#E5ECF6",
            "gridcolor": "white",
            "gridwidth": 2,
            "linecolor": "white",
            "showbackground": true,
            "ticks": "",
            "zerolinecolor": "white"
           }
          },
          "shapedefaults": {
           "line": {
            "color": "#2a3f5f"
           }
          },
          "ternary": {
           "aaxis": {
            "gridcolor": "white",
            "linecolor": "white",
            "ticks": ""
           },
           "baxis": {
            "gridcolor": "white",
            "linecolor": "white",
            "ticks": ""
           },
           "bgcolor": "#E5ECF6",
           "caxis": {
            "gridcolor": "white",
            "linecolor": "white",
            "ticks": ""
           }
          },
          "title": {
           "x": 0.05
          },
          "xaxis": {
           "automargin": true,
           "gridcolor": "white",
           "linecolor": "white",
           "ticks": "",
           "title": {
            "standoff": 15
           },
           "zerolinecolor": "white",
           "zerolinewidth": 2
          },
          "yaxis": {
           "automargin": true,
           "gridcolor": "white",
           "linecolor": "white",
           "ticks": "",
           "title": {
            "standoff": 15
           },
           "zerolinecolor": "white",
           "zerolinewidth": 2
          }
         }
        },
        "xaxis": {
         "anchor": "y",
         "domain": [
          0,
          1
         ],
         "title": {
          "text": "feature"
         }
        },
        "yaxis": {
         "anchor": "x",
         "domain": [
          0,
          1
         ],
         "title": {
          "text": "value"
         }
        }
       }
      },
      "text/html": [
       "<div>                            <div id=\"315d3075-a92c-4358-81e3-f73889f8acf5\" class=\"plotly-graph-div\" style=\"height:525px; width:100%;\"></div>            <script type=\"text/javascript\">                require([\"plotly\"], function(Plotly) {                    window.PLOTLYENV=window.PLOTLYENV || {};                                    if (document.getElementById(\"315d3075-a92c-4358-81e3-f73889f8acf5\")) {                    Plotly.newPlot(                        \"315d3075-a92c-4358-81e3-f73889f8acf5\",                        [{\"alignmentgroup\": \"True\", \"hovertemplate\": \"feature=%{x}<br>value=%{y}<extra></extra>\", \"legendgroup\": \"\", \"marker\": {\"color\": \"#636efa\"}, \"name\": \"\", \"notched\": false, \"offsetgroup\": \"\", \"orientation\": \"v\", \"showlegend\": false, \"type\": \"box\", \"x\": [\"mental_health_rate\", \"mental_health_rate\", \"mental_health_rate\", \"mental_health_rate\", \"mental_health_rate\", \"mental_health_rate\", \"mental_health_rate\", \"mental_health_rate\", \"mental_health_rate\", \"mental_health_rate\", \"mental_health_rate\", \"mental_health_rate\", \"mental_health_rate\", \"mental_health_rate\", \"mental_health_rate\", \"mental_health_rate\", \"mental_health_rate\", \"mental_health_rate\", \"mental_health_rate\", \"mental_health_rate\", \"mental_health_rate\", \"mental_health_rate\", \"mental_health_rate\", \"mental_health_rate\", \"mental_health_rate\", \"mental_health_rate\", \"mental_health_rate\", \"mental_health_rate\", \"mental_health_rate\", \"mental_health_rate\", \"mental_health_rate\", \"mental_health_rate\", \"exclusion_rate\", \"exclusion_rate\", \"exclusion_rate\", \"exclusion_rate\", \"exclusion_rate\", \"exclusion_rate\", \"exclusion_rate\", \"exclusion_rate\", \"exclusion_rate\", \"exclusion_rate\", \"exclusion_rate\", \"exclusion_rate\", \"exclusion_rate\", \"exclusion_rate\", \"exclusion_rate\", \"exclusion_rate\", \"exclusion_rate\", \"exclusion_rate\", \"exclusion_rate\", \"exclusion_rate\", \"exclusion_rate\", \"exclusion_rate\", \"exclusion_rate\", \"exclusion_rate\", \"exclusion_rate\", \"exclusion_rate\", \"exclusion_rate\", \"exclusion_rate\", \"exclusion_rate\", \"exclusion_rate\", \"exclusion_rate\", \"exclusion_rate\", \"child_income_deprivation_score\", \"child_income_deprivation_score\", \"child_income_deprivation_score\", \"child_income_deprivation_score\", \"child_income_deprivation_score\", \"child_income_deprivation_score\", \"child_income_deprivation_score\", \"child_income_deprivation_score\", \"child_income_deprivation_score\", \"child_income_deprivation_score\", \"child_income_deprivation_score\", \"child_income_deprivation_score\", \"child_income_deprivation_score\", \"child_income_deprivation_score\", \"child_income_deprivation_score\", \"child_income_deprivation_score\", \"child_income_deprivation_score\", \"child_income_deprivation_score\", \"child_income_deprivation_score\", \"child_income_deprivation_score\", \"child_income_deprivation_score\", \"child_income_deprivation_score\", \"child_income_deprivation_score\", \"child_income_deprivation_score\", \"child_income_deprivation_score\", \"child_income_deprivation_score\", \"child_income_deprivation_score\", \"child_income_deprivation_score\", \"child_income_deprivation_score\", \"child_income_deprivation_score\", \"child_income_deprivation_score\", \"child_income_deprivation_score\", \"looked_after_rate_scaled\", \"looked_after_rate_scaled\", \"looked_after_rate_scaled\", \"looked_after_rate_scaled\", \"looked_after_rate_scaled\", \"looked_after_rate_scaled\", \"looked_after_rate_scaled\", \"looked_after_rate_scaled\", \"looked_after_rate_scaled\", \"looked_after_rate_scaled\", \"looked_after_rate_scaled\", \"looked_after_rate_scaled\", \"looked_after_rate_scaled\", \"looked_after_rate_scaled\", \"looked_after_rate_scaled\", \"looked_after_rate_scaled\", \"looked_after_rate_scaled\", \"looked_after_rate_scaled\", \"looked_after_rate_scaled\", \"looked_after_rate_scaled\", \"looked_after_rate_scaled\", \"looked_after_rate_scaled\", \"looked_after_rate_scaled\", \"looked_after_rate_scaled\", \"looked_after_rate_scaled\", \"looked_after_rate_scaled\", \"looked_after_rate_scaled\", \"looked_after_rate_scaled\", \"looked_after_rate_scaled\", \"looked_after_rate_scaled\", \"looked_after_rate_scaled\", \"looked_after_rate_scaled\", \"crime_rate_scaled\", \"crime_rate_scaled\", \"crime_rate_scaled\", \"crime_rate_scaled\", \"crime_rate_scaled\", \"crime_rate_scaled\", \"crime_rate_scaled\", \"crime_rate_scaled\", \"crime_rate_scaled\", \"crime_rate_scaled\", \"crime_rate_scaled\", \"crime_rate_scaled\", \"crime_rate_scaled\", \"crime_rate_scaled\", \"crime_rate_scaled\", \"crime_rate_scaled\", \"crime_rate_scaled\", \"crime_rate_scaled\", \"crime_rate_scaled\", \"crime_rate_scaled\", \"crime_rate_scaled\", \"crime_rate_scaled\", \"crime_rate_scaled\", \"crime_rate_scaled\", \"crime_rate_scaled\", \"crime_rate_scaled\", \"crime_rate_scaled\", \"crime_rate_scaled\", \"crime_rate_scaled\", \"crime_rate_scaled\", \"crime_rate_scaled\", \"crime_rate_scaled\", \"police_headcount_scaled\", \"police_headcount_scaled\", \"police_headcount_scaled\", \"police_headcount_scaled\", \"police_headcount_scaled\", \"police_headcount_scaled\", \"police_headcount_scaled\", \"police_headcount_scaled\", \"police_headcount_scaled\", \"police_headcount_scaled\", \"police_headcount_scaled\", \"police_headcount_scaled\", \"police_headcount_scaled\", \"police_headcount_scaled\", \"police_headcount_scaled\", \"police_headcount_scaled\", \"police_headcount_scaled\", \"police_headcount_scaled\", \"police_headcount_scaled\", \"police_headcount_scaled\", \"police_headcount_scaled\", \"police_headcount_scaled\", \"police_headcount_scaled\", \"police_headcount_scaled\", \"police_headcount_scaled\", \"police_headcount_scaled\", \"police_headcount_scaled\", \"police_headcount_scaled\", \"police_headcount_scaled\", \"police_headcount_scaled\", \"police_headcount_scaled\", \"police_headcount_scaled\"], \"x0\": \" \", \"xaxis\": \"x\", \"y\": [0.11910064415608576, 0.12064211094156994, 0.12160884853548261, 0.12098428169335515, 0.1210035433595311, 0.12057948287154369, 0.12096906228816752, 0.12035289828072604, 0.12099263276304965, 0.11998517009174713, 0.12020343728605491, 0.11880233098333265, 0.12182921070330514, 0.12119298713601914, 0.12188211524323775, 0.12071117387572607, 0.11960082194952536, 0.12023481581471351, 0.12052247068177302, 0.12015677919203098, 0.12048903058845474, 0.11995173577837792, 0.11960383703656878, 0.12063912083676437, 0.12150805310902815, 0.11976107031736155, 0.11972466224798504, 0.12065604841113695, 0.12022387039560486, 0.1201516022049926, 0.11800176033829966, 0.12004061206572181, 0.05963, 0.05384, 0.10019, 0.06071, 0.09537, 0.08087, 0.0624, 0.10753, 0.03598, 0.06245, 0.12676, 0.05384, 0.05703, 0.08886, 0.04314, 0.06524, 0.05872, 0.09627, 0.14599, 0.02731, 0.05718, 0.05507, 0.08008, 0.07383, 0.08809, 0.05428, 0.08324, 0.07333, 0.01343, 0.07141, 0.04698, 0.13283, 0.2365, 0.1, 0.1315, 0.156, 0.08199999999999999, 0.19699999999999998, 0.1605, 0.1535, 0.209, 0.19899999999999998, 0.2515, 0.16, 0.20800000000000002, 0.11, 0.126, 0.13699999999999998, 0.156, 0.27699999999999997, 0.081, 0.0875, 0.225, 0.22399999999999998, 0.10950000000000001, 0.187, 0.121, 0.055, 0.2475, 0.086, 0.259, 0.17300000000000001, 0.126, 0.1585, 0.6721311475409836, 0.14754098360655737, 0.2459016393442623, 0.21311475409836064, 0.3442622950819672, 0.19672131147540983, 1.0, 0.29508196721311475, 0.32786885245901637, 0.7377049180327869, 0.639344262295082, 0.6721311475409836, 0.7540983606557377, 0.06557377049180328, 0.29508196721311475, 0.3114754098360656, 0.29508196721311475, 0.8032786885245902, 0.11475409836065574, 0.13114754098360656, 0.5081967213114754, 0.7540983606557377, 0.13114754098360656, 0.3114754098360656, 0.09836065573770492, 0.0, 0.7377049180327869, 0.39344262295081966, 0.3442622950819672, 0.29508196721311475, 0.3770491803278688, 0.3114754098360656, 0.3718699238005821, 0.10842128800636977, 0.108028219044419, 0.2698660296244944, 0.06341295745194199, 0.36466163788946965, 0.24520528828905072, 0.2210429086262712, 0.2825679497334239, 0.28584675348373395, 0.4439905004966691, 0.33915180711331294, 0.5229252709921205, 0.08795670218308309, 0.11230694446299704, 0.15452700257674895, 0.2213384482819394, 0.3989254947607532, 0.3774071330015223, 0.10018726963338503, 0.35582330503672255, 0.2967546761579783, 0.08026637689518457, 0.3370523540268592, 0.13561006185282976, 0.0, 0.43957296290442227, 0.06626792287111724, 0.29871093435471674, 0.15593471897957434, 0.13305296541000158, 1.0, 0.14471456551327302, 0.2940213121465957, 0.2940213121465957, 0.2940213121465957, 0.2940213121465957, 0.3580684069004437, 0.4079074039238251, 0.35547908067853623, 0.27265383806752164, 0.2940213121465957, 0.3125006915935421, 0.1939006982328402, 0.30679089530933595, 0.2940213121465957, 0.07009992143497357, 0.203649400803355, 0.2940213121465957, 0.2940213121465957, 0.22690907481382303, 0.2940213121465957, 0.5081497383010036, 0.3386816567261621, 0.03621737061668015, 0.4714012238439322, 0.1884232773788051, 0.2940213121465957, 0.4688008321253499, 0.0, 0.3662236779497848, 0.2645096325148554, 0.22083411713934778, 1.0], \"y0\": \" \", \"yaxis\": \"y\"}],                        {\"boxmode\": \"group\", \"legend\": {\"tracegroupgap\": 0}, \"margin\": {\"t\": 60}, \"template\": {\"data\": {\"bar\": [{\"error_x\": {\"color\": \"#2a3f5f\"}, \"error_y\": {\"color\": \"#2a3f5f\"}, \"marker\": {\"line\": {\"color\": \"#E5ECF6\", \"width\": 0.5}}, \"type\": \"bar\"}], \"barpolar\": [{\"marker\": {\"line\": {\"color\": \"#E5ECF6\", \"width\": 0.5}}, \"type\": \"barpolar\"}], \"carpet\": [{\"aaxis\": {\"endlinecolor\": \"#2a3f5f\", \"gridcolor\": \"white\", \"linecolor\": \"white\", \"minorgridcolor\": \"white\", \"startlinecolor\": \"#2a3f5f\"}, \"baxis\": {\"endlinecolor\": \"#2a3f5f\", \"gridcolor\": \"white\", \"linecolor\": \"white\", \"minorgridcolor\": \"white\", \"startlinecolor\": \"#2a3f5f\"}, \"type\": \"carpet\"}], \"choropleth\": [{\"colorbar\": {\"outlinewidth\": 0, \"ticks\": \"\"}, \"type\": \"choropleth\"}], \"contour\": [{\"colorbar\": {\"outlinewidth\": 0, \"ticks\": \"\"}, \"colorscale\": [[0.0, \"#0d0887\"], [0.1111111111111111, \"#46039f\"], [0.2222222222222222, \"#7201a8\"], [0.3333333333333333, \"#9c179e\"], [0.4444444444444444, \"#bd3786\"], [0.5555555555555556, \"#d8576b\"], [0.6666666666666666, \"#ed7953\"], [0.7777777777777778, \"#fb9f3a\"], [0.8888888888888888, \"#fdca26\"], [1.0, \"#f0f921\"]], \"type\": \"contour\"}], \"contourcarpet\": [{\"colorbar\": {\"outlinewidth\": 0, \"ticks\": \"\"}, \"type\": \"contourcarpet\"}], \"heatmap\": [{\"colorbar\": {\"outlinewidth\": 0, \"ticks\": \"\"}, \"colorscale\": [[0.0, \"#0d0887\"], [0.1111111111111111, \"#46039f\"], [0.2222222222222222, \"#7201a8\"], [0.3333333333333333, \"#9c179e\"], [0.4444444444444444, \"#bd3786\"], [0.5555555555555556, \"#d8576b\"], [0.6666666666666666, \"#ed7953\"], [0.7777777777777778, \"#fb9f3a\"], [0.8888888888888888, \"#fdca26\"], [1.0, \"#f0f921\"]], \"type\": \"heatmap\"}], \"heatmapgl\": [{\"colorbar\": {\"outlinewidth\": 0, \"ticks\": \"\"}, \"colorscale\": [[0.0, \"#0d0887\"], [0.1111111111111111, \"#46039f\"], [0.2222222222222222, \"#7201a8\"], [0.3333333333333333, \"#9c179e\"], [0.4444444444444444, \"#bd3786\"], [0.5555555555555556, \"#d8576b\"], [0.6666666666666666, \"#ed7953\"], [0.7777777777777778, \"#fb9f3a\"], [0.8888888888888888, \"#fdca26\"], [1.0, \"#f0f921\"]], \"type\": \"heatmapgl\"}], \"histogram\": [{\"marker\": {\"colorbar\": {\"outlinewidth\": 0, \"ticks\": \"\"}}, \"type\": \"histogram\"}], \"histogram2d\": [{\"colorbar\": {\"outlinewidth\": 0, \"ticks\": \"\"}, \"colorscale\": [[0.0, \"#0d0887\"], [0.1111111111111111, \"#46039f\"], [0.2222222222222222, \"#7201a8\"], [0.3333333333333333, \"#9c179e\"], [0.4444444444444444, \"#bd3786\"], [0.5555555555555556, \"#d8576b\"], [0.6666666666666666, \"#ed7953\"], [0.7777777777777778, \"#fb9f3a\"], [0.8888888888888888, \"#fdca26\"], [1.0, \"#f0f921\"]], \"type\": \"histogram2d\"}], \"histogram2dcontour\": [{\"colorbar\": {\"outlinewidth\": 0, \"ticks\": \"\"}, \"colorscale\": [[0.0, \"#0d0887\"], [0.1111111111111111, \"#46039f\"], [0.2222222222222222, \"#7201a8\"], [0.3333333333333333, \"#9c179e\"], [0.4444444444444444, \"#bd3786\"], [0.5555555555555556, \"#d8576b\"], [0.6666666666666666, \"#ed7953\"], [0.7777777777777778, \"#fb9f3a\"], [0.8888888888888888, \"#fdca26\"], [1.0, \"#f0f921\"]], \"type\": \"histogram2dcontour\"}], \"mesh3d\": [{\"colorbar\": {\"outlinewidth\": 0, \"ticks\": \"\"}, \"type\": \"mesh3d\"}], \"parcoords\": [{\"line\": {\"colorbar\": {\"outlinewidth\": 0, \"ticks\": \"\"}}, \"type\": \"parcoords\"}], \"pie\": [{\"automargin\": true, \"type\": \"pie\"}], \"scatter\": [{\"marker\": {\"colorbar\": {\"outlinewidth\": 0, \"ticks\": \"\"}}, \"type\": \"scatter\"}], \"scatter3d\": [{\"line\": {\"colorbar\": {\"outlinewidth\": 0, \"ticks\": \"\"}}, \"marker\": {\"colorbar\": {\"outlinewidth\": 0, \"ticks\": \"\"}}, \"type\": \"scatter3d\"}], \"scattercarpet\": [{\"marker\": {\"colorbar\": {\"outlinewidth\": 0, \"ticks\": \"\"}}, \"type\": \"scattercarpet\"}], \"scattergeo\": [{\"marker\": {\"colorbar\": {\"outlinewidth\": 0, \"ticks\": \"\"}}, \"type\": \"scattergeo\"}], \"scattergl\": [{\"marker\": {\"colorbar\": {\"outlinewidth\": 0, \"ticks\": \"\"}}, \"type\": \"scattergl\"}], \"scattermapbox\": [{\"marker\": {\"colorbar\": {\"outlinewidth\": 0, \"ticks\": \"\"}}, \"type\": \"scattermapbox\"}], \"scatterpolar\": [{\"marker\": {\"colorbar\": {\"outlinewidth\": 0, \"ticks\": \"\"}}, \"type\": \"scatterpolar\"}], \"scatterpolargl\": [{\"marker\": {\"colorbar\": {\"outlinewidth\": 0, \"ticks\": \"\"}}, \"type\": \"scatterpolargl\"}], \"scatterternary\": [{\"marker\": {\"colorbar\": {\"outlinewidth\": 0, \"ticks\": \"\"}}, \"type\": \"scatterternary\"}], \"surface\": [{\"colorbar\": {\"outlinewidth\": 0, \"ticks\": \"\"}, \"colorscale\": [[0.0, \"#0d0887\"], [0.1111111111111111, \"#46039f\"], [0.2222222222222222, \"#7201a8\"], [0.3333333333333333, \"#9c179e\"], [0.4444444444444444, \"#bd3786\"], [0.5555555555555556, \"#d8576b\"], [0.6666666666666666, \"#ed7953\"], [0.7777777777777778, \"#fb9f3a\"], [0.8888888888888888, \"#fdca26\"], [1.0, \"#f0f921\"]], \"type\": \"surface\"}], \"table\": [{\"cells\": {\"fill\": {\"color\": \"#EBF0F8\"}, \"line\": {\"color\": \"white\"}}, \"header\": {\"fill\": {\"color\": \"#C8D4E3\"}, \"line\": {\"color\": \"white\"}}, \"type\": \"table\"}]}, \"layout\": {\"annotationdefaults\": {\"arrowcolor\": \"#2a3f5f\", \"arrowhead\": 0, \"arrowwidth\": 1}, \"coloraxis\": {\"colorbar\": {\"outlinewidth\": 0, \"ticks\": \"\"}}, \"colorscale\": {\"diverging\": [[0, \"#8e0152\"], [0.1, \"#c51b7d\"], [0.2, \"#de77ae\"], [0.3, \"#f1b6da\"], [0.4, \"#fde0ef\"], [0.5, \"#f7f7f7\"], [0.6, \"#e6f5d0\"], [0.7, \"#b8e186\"], [0.8, \"#7fbc41\"], [0.9, \"#4d9221\"], [1, \"#276419\"]], \"sequential\": [[0.0, \"#0d0887\"], [0.1111111111111111, \"#46039f\"], [0.2222222222222222, \"#7201a8\"], [0.3333333333333333, \"#9c179e\"], [0.4444444444444444, \"#bd3786\"], [0.5555555555555556, \"#d8576b\"], [0.6666666666666666, \"#ed7953\"], [0.7777777777777778, \"#fb9f3a\"], [0.8888888888888888, \"#fdca26\"], [1.0, \"#f0f921\"]], \"sequentialminus\": [[0.0, \"#0d0887\"], [0.1111111111111111, \"#46039f\"], [0.2222222222222222, \"#7201a8\"], [0.3333333333333333, \"#9c179e\"], [0.4444444444444444, \"#bd3786\"], [0.5555555555555556, \"#d8576b\"], [0.6666666666666666, \"#ed7953\"], [0.7777777777777778, \"#fb9f3a\"], [0.8888888888888888, \"#fdca26\"], [1.0, \"#f0f921\"]]}, \"colorway\": [\"#636efa\", \"#EF553B\", \"#00cc96\", \"#ab63fa\", \"#FFA15A\", \"#19d3f3\", \"#FF6692\", \"#B6E880\", \"#FF97FF\", \"#FECB52\"], \"font\": {\"color\": \"#2a3f5f\"}, \"geo\": {\"bgcolor\": \"white\", \"lakecolor\": \"white\", \"landcolor\": \"#E5ECF6\", \"showlakes\": true, \"showland\": true, \"subunitcolor\": \"white\"}, \"hoverlabel\": {\"align\": \"left\"}, \"hovermode\": \"closest\", \"mapbox\": {\"style\": \"light\"}, \"paper_bgcolor\": \"white\", \"plot_bgcolor\": \"#E5ECF6\", \"polar\": {\"angularaxis\": {\"gridcolor\": \"white\", \"linecolor\": \"white\", \"ticks\": \"\"}, \"bgcolor\": \"#E5ECF6\", \"radialaxis\": {\"gridcolor\": \"white\", \"linecolor\": \"white\", \"ticks\": \"\"}}, \"scene\": {\"xaxis\": {\"backgroundcolor\": \"#E5ECF6\", \"gridcolor\": \"white\", \"gridwidth\": 2, \"linecolor\": \"white\", \"showbackground\": true, \"ticks\": \"\", \"zerolinecolor\": \"white\"}, \"yaxis\": {\"backgroundcolor\": \"#E5ECF6\", \"gridcolor\": \"white\", \"gridwidth\": 2, \"linecolor\": \"white\", \"showbackground\": true, \"ticks\": \"\", \"zerolinecolor\": \"white\"}, \"zaxis\": {\"backgroundcolor\": \"#E5ECF6\", \"gridcolor\": \"white\", \"gridwidth\": 2, \"linecolor\": \"white\", \"showbackground\": true, \"ticks\": \"\", \"zerolinecolor\": \"white\"}}, \"shapedefaults\": {\"line\": {\"color\": \"#2a3f5f\"}}, \"ternary\": {\"aaxis\": {\"gridcolor\": \"white\", \"linecolor\": \"white\", \"ticks\": \"\"}, \"baxis\": {\"gridcolor\": \"white\", \"linecolor\": \"white\", \"ticks\": \"\"}, \"bgcolor\": \"#E5ECF6\", \"caxis\": {\"gridcolor\": \"white\", \"linecolor\": \"white\", \"ticks\": \"\"}}, \"title\": {\"x\": 0.05}, \"xaxis\": {\"automargin\": true, \"gridcolor\": \"white\", \"linecolor\": \"white\", \"ticks\": \"\", \"title\": {\"standoff\": 15}, \"zerolinecolor\": \"white\", \"zerolinewidth\": 2}, \"yaxis\": {\"automargin\": true, \"gridcolor\": \"white\", \"linecolor\": \"white\", \"ticks\": \"\", \"title\": {\"standoff\": 15}, \"zerolinecolor\": \"white\", \"zerolinewidth\": 2}}}, \"xaxis\": {\"anchor\": \"y\", \"domain\": [0.0, 1.0], \"title\": {\"text\": \"feature\"}}, \"yaxis\": {\"anchor\": \"x\", \"domain\": [0.0, 1.0], \"title\": {\"text\": \"value\"}}},                        {\"responsive\": true}                    ).then(function(){\n",
       "                            \n",
       "var gd = document.getElementById('315d3075-a92c-4358-81e3-f73889f8acf5');\n",
       "var x = new MutationObserver(function (mutations, observer) {{\n",
       "        var display = window.getComputedStyle(gd).display;\n",
       "        if (!display || display === 'none') {{\n",
       "            console.log([gd, 'removed!']);\n",
       "            Plotly.purge(gd);\n",
       "            observer.disconnect();\n",
       "        }}\n",
       "}});\n",
       "\n",
       "// Listen for the removal of the full notebook cells\n",
       "var notebookContainer = gd.closest('#notebook-container');\n",
       "if (notebookContainer) {{\n",
       "    x.observe(notebookContainer, {childList: true});\n",
       "}}\n",
       "\n",
       "// Listen for the clearing of the current output cell\n",
       "var outputEl = gd.closest('.output');\n",
       "if (outputEl) {{\n",
       "    x.observe(outputEl, {childList: true});\n",
       "}}\n",
       "\n",
       "                        })                };                });            </script>        </div>"
      ]
     },
     "metadata": {},
     "output_type": "display_data"
    }
   ],
   "source": [
    "import plotly.express as px\n",
    "fig = px.box(london_crime_socio_tidy, x=\"feature\", y=\"value\")\n",
    "fig.show()"
   ]
  },
  {
   "cell_type": "code",
   "execution_count": 154,
   "metadata": {},
   "outputs": [
    {
     "data": {
      "text/html": [
       "\n",
       "<div id=\"altair-viz-3865ffb188f842d9a539bcc093f6263e\"></div>\n",
       "<script type=\"text/javascript\">\n",
       "  (function(spec, embedOpt){\n",
       "    let outputDiv = document.currentScript.previousElementSibling;\n",
       "    if (outputDiv.id !== \"altair-viz-3865ffb188f842d9a539bcc093f6263e\") {\n",
       "      outputDiv = document.getElementById(\"altair-viz-3865ffb188f842d9a539bcc093f6263e\");\n",
       "    }\n",
       "    const paths = {\n",
       "      \"vega\": \"https://cdn.jsdelivr.net/npm//vega@5?noext\",\n",
       "      \"vega-lib\": \"https://cdn.jsdelivr.net/npm//vega-lib?noext\",\n",
       "      \"vega-lite\": \"https://cdn.jsdelivr.net/npm//vega-lite@4.8.1?noext\",\n",
       "      \"vega-embed\": \"https://cdn.jsdelivr.net/npm//vega-embed@6?noext\",\n",
       "    };\n",
       "\n",
       "    function loadScript(lib) {\n",
       "      return new Promise(function(resolve, reject) {\n",
       "        var s = document.createElement('script');\n",
       "        s.src = paths[lib];\n",
       "        s.async = true;\n",
       "        s.onload = () => resolve(paths[lib]);\n",
       "        s.onerror = () => reject(`Error loading script: ${paths[lib]}`);\n",
       "        document.getElementsByTagName(\"head\")[0].appendChild(s);\n",
       "      });\n",
       "    }\n",
       "\n",
       "    function showError(err) {\n",
       "      outputDiv.innerHTML = `<div class=\"error\" style=\"color:red;\">${err}</div>`;\n",
       "      throw err;\n",
       "    }\n",
       "\n",
       "    function displayChart(vegaEmbed) {\n",
       "      vegaEmbed(outputDiv, spec, embedOpt)\n",
       "        .catch(err => showError(`Javascript Error: ${err.message}<br>This usually means there's a typo in your chart specification. See the javascript console for the full traceback.`));\n",
       "    }\n",
       "\n",
       "    if(typeof define === \"function\" && define.amd) {\n",
       "      requirejs.config({paths});\n",
       "      require([\"vega-embed\"], displayChart, err => showError(`Error loading script: ${err.message}`));\n",
       "    } else if (typeof vegaEmbed === \"function\") {\n",
       "      displayChart(vegaEmbed);\n",
       "    } else {\n",
       "      loadScript(\"vega\")\n",
       "        .then(() => loadScript(\"vega-lite\"))\n",
       "        .then(() => loadScript(\"vega-embed\"))\n",
       "        .catch(showError)\n",
       "        .then(() => displayChart(vegaEmbed));\n",
       "    }\n",
       "  })({\"config\": {\"view\": {\"continuousWidth\": 400, \"continuousHeight\": 300, \"strokeWidth\": 0}, \"axis\": {\"domain\": false, \"grid\": false}}, \"data\": {\"name\": \"data-fbb3b3c73f3421773f2f3a6a55c2fa37\"}, \"mark\": {\"type\": \"circle\", \"size\": 60}, \"encoding\": {\"tooltip\": [{\"type\": \"nominal\", \"field\": \"area_name\"}, {\"type\": \"quantitative\", \"field\": \"value\"}], \"x\": {\"type\": \"quantitative\", \"axis\": {\"ticks\": false, \"title\": \"value\"}, \"field\": \"value\"}, \"y\": {\"type\": \"nominal\", \"axis\": {\"ticks\": false, \"title\": null}, \"field\": \"feature\"}}, \"height\": 200, \"selection\": {\"selector009\": {\"type\": \"interval\", \"bind\": \"scales\", \"encodings\": [\"x\", \"y\"]}}, \"title\": \"distribution\", \"width\": 600, \"$schema\": \"https://vega.github.io/schema/vega-lite/v4.8.1.json\", \"datasets\": {\"data-fbb3b3c73f3421773f2f3a6a55c2fa37\": [{\"area_code\": \"E09000002\", \"area_name\": \"Barking and Dagenham\", \"feature\": \"mental_health_rate\", \"value\": 0.11910064415608576}, {\"area_code\": \"E09000003\", \"area_name\": \"Barnet\", \"feature\": \"mental_health_rate\", \"value\": 0.12064211094156994}, {\"area_code\": \"E09000004\", \"area_name\": \"Bexley\", \"feature\": \"mental_health_rate\", \"value\": 0.12160884853548261}, {\"area_code\": \"E09000005\", \"area_name\": \"Brent\", \"feature\": \"mental_health_rate\", \"value\": 0.12098428169335515}, {\"area_code\": \"E09000006\", \"area_name\": \"Bromley\", \"feature\": \"mental_health_rate\", \"value\": 0.1210035433595311}, {\"area_code\": \"E09000007\", \"area_name\": \"Camden\", \"feature\": \"mental_health_rate\", \"value\": 0.12057948287154369}, {\"area_code\": \"E09000008\", \"area_name\": \"Croydon\", \"feature\": \"mental_health_rate\", \"value\": 0.12096906228816752}, {\"area_code\": \"E09000009\", \"area_name\": \"Ealing\", \"feature\": \"mental_health_rate\", \"value\": 0.12035289828072604}, {\"area_code\": \"E09000010\", \"area_name\": \"Enfield\", \"feature\": \"mental_health_rate\", \"value\": 0.12099263276304965}, {\"area_code\": \"E09000011\", \"area_name\": \"Greenwich\", \"feature\": \"mental_health_rate\", \"value\": 0.11998517009174713}, {\"area_code\": \"E09000012\", \"area_name\": \"Hackney\", \"feature\": \"mental_health_rate\", \"value\": 0.12020343728605491}, {\"area_code\": \"E09000013\", \"area_name\": \"Hammersmith and Fulham\", \"feature\": \"mental_health_rate\", \"value\": 0.11880233098333265}, {\"area_code\": \"E09000014\", \"area_name\": \"Haringey\", \"feature\": \"mental_health_rate\", \"value\": 0.12182921070330514}, {\"area_code\": \"E09000015\", \"area_name\": \"Harrow\", \"feature\": \"mental_health_rate\", \"value\": 0.12119298713601914}, {\"area_code\": \"E09000016\", \"area_name\": \"Havering\", \"feature\": \"mental_health_rate\", \"value\": 0.12188211524323775}, {\"area_code\": \"E09000017\", \"area_name\": \"Hillingdon\", \"feature\": \"mental_health_rate\", \"value\": 0.12071117387572607}, {\"area_code\": \"E09000018\", \"area_name\": \"Hounslow\", \"feature\": \"mental_health_rate\", \"value\": 0.11960082194952536}, {\"area_code\": \"E09000019\", \"area_name\": \"Islington\", \"feature\": \"mental_health_rate\", \"value\": 0.12023481581471351}, {\"area_code\": \"E09000020\", \"area_name\": \"Kensington and Chelsea\", \"feature\": \"mental_health_rate\", \"value\": 0.12052247068177302}, {\"area_code\": \"E09000021\", \"area_name\": \"Kingston upon Thames\", \"feature\": \"mental_health_rate\", \"value\": 0.12015677919203098}, {\"area_code\": \"E09000022\", \"area_name\": \"Lambeth\", \"feature\": \"mental_health_rate\", \"value\": 0.12048903058845474}, {\"area_code\": \"E09000023\", \"area_name\": \"Lewisham\", \"feature\": \"mental_health_rate\", \"value\": 0.11995173577837792}, {\"area_code\": \"E09000024\", \"area_name\": \"Merton\", \"feature\": \"mental_health_rate\", \"value\": 0.11960383703656878}, {\"area_code\": \"E09000025\", \"area_name\": \"Newham\", \"feature\": \"mental_health_rate\", \"value\": 0.12063912083676437}, {\"area_code\": \"E09000026\", \"area_name\": \"Redbridge\", \"feature\": \"mental_health_rate\", \"value\": 0.12150805310902815}, {\"area_code\": \"E09000027\", \"area_name\": \"Richmond upon Thames\", \"feature\": \"mental_health_rate\", \"value\": 0.11976107031736155}, {\"area_code\": \"E09000028\", \"area_name\": \"Southwark\", \"feature\": \"mental_health_rate\", \"value\": 0.11972466224798504}, {\"area_code\": \"E09000029\", \"area_name\": \"Sutton\", \"feature\": \"mental_health_rate\", \"value\": 0.12065604841113695}, {\"area_code\": \"E09000030\", \"area_name\": \"Tower Hamlets\", \"feature\": \"mental_health_rate\", \"value\": 0.12022387039560486}, {\"area_code\": \"E09000031\", \"area_name\": \"Waltham Forest\", \"feature\": \"mental_health_rate\", \"value\": 0.1201516022049926}, {\"area_code\": \"E09000032\", \"area_name\": \"Wandsworth\", \"feature\": \"mental_health_rate\", \"value\": 0.11800176033829966}, {\"area_code\": \"E09000033\", \"area_name\": \"Westminster\", \"feature\": \"mental_health_rate\", \"value\": 0.12004061206572181}, {\"area_code\": \"E09000002\", \"area_name\": \"Barking and Dagenham\", \"feature\": \"exclusion_rate\", \"value\": 0.05963}, {\"area_code\": \"E09000003\", \"area_name\": \"Barnet\", \"feature\": \"exclusion_rate\", \"value\": 0.05384}, {\"area_code\": \"E09000004\", \"area_name\": \"Bexley\", \"feature\": \"exclusion_rate\", \"value\": 0.10019}, {\"area_code\": \"E09000005\", \"area_name\": \"Brent\", \"feature\": \"exclusion_rate\", \"value\": 0.06071}, {\"area_code\": \"E09000006\", \"area_name\": \"Bromley\", \"feature\": \"exclusion_rate\", \"value\": 0.09537}, {\"area_code\": \"E09000007\", \"area_name\": \"Camden\", \"feature\": \"exclusion_rate\", \"value\": 0.08087}, {\"area_code\": \"E09000008\", \"area_name\": \"Croydon\", \"feature\": \"exclusion_rate\", \"value\": 0.0624}, {\"area_code\": \"E09000009\", \"area_name\": \"Ealing\", \"feature\": \"exclusion_rate\", \"value\": 0.10753}, {\"area_code\": \"E09000010\", \"area_name\": \"Enfield\", \"feature\": \"exclusion_rate\", \"value\": 0.03598}, {\"area_code\": \"E09000011\", \"area_name\": \"Greenwich\", \"feature\": \"exclusion_rate\", \"value\": 0.06245}, {\"area_code\": \"E09000012\", \"area_name\": \"Hackney\", \"feature\": \"exclusion_rate\", \"value\": 0.12676}, {\"area_code\": \"E09000013\", \"area_name\": \"Hammersmith and Fulham\", \"feature\": \"exclusion_rate\", \"value\": 0.05384}, {\"area_code\": \"E09000014\", \"area_name\": \"Haringey\", \"feature\": \"exclusion_rate\", \"value\": 0.05703}, {\"area_code\": \"E09000015\", \"area_name\": \"Harrow\", \"feature\": \"exclusion_rate\", \"value\": 0.08886}, {\"area_code\": \"E09000016\", \"area_name\": \"Havering\", \"feature\": \"exclusion_rate\", \"value\": 0.04314}, {\"area_code\": \"E09000017\", \"area_name\": \"Hillingdon\", \"feature\": \"exclusion_rate\", \"value\": 0.06524}, {\"area_code\": \"E09000018\", \"area_name\": \"Hounslow\", \"feature\": \"exclusion_rate\", \"value\": 0.05872}, {\"area_code\": \"E09000019\", \"area_name\": \"Islington\", \"feature\": \"exclusion_rate\", \"value\": 0.09627}, {\"area_code\": \"E09000020\", \"area_name\": \"Kensington and Chelsea\", \"feature\": \"exclusion_rate\", \"value\": 0.14599}, {\"area_code\": \"E09000021\", \"area_name\": \"Kingston upon Thames\", \"feature\": \"exclusion_rate\", \"value\": 0.02731}, {\"area_code\": \"E09000022\", \"area_name\": \"Lambeth\", \"feature\": \"exclusion_rate\", \"value\": 0.05718}, {\"area_code\": \"E09000023\", \"area_name\": \"Lewisham\", \"feature\": \"exclusion_rate\", \"value\": 0.05507}, {\"area_code\": \"E09000024\", \"area_name\": \"Merton\", \"feature\": \"exclusion_rate\", \"value\": 0.08008}, {\"area_code\": \"E09000025\", \"area_name\": \"Newham\", \"feature\": \"exclusion_rate\", \"value\": 0.07383}, {\"area_code\": \"E09000026\", \"area_name\": \"Redbridge\", \"feature\": \"exclusion_rate\", \"value\": 0.08809}, {\"area_code\": \"E09000027\", \"area_name\": \"Richmond upon Thames\", \"feature\": \"exclusion_rate\", \"value\": 0.05428}, {\"area_code\": \"E09000028\", \"area_name\": \"Southwark\", \"feature\": \"exclusion_rate\", \"value\": 0.08324}, {\"area_code\": \"E09000029\", \"area_name\": \"Sutton\", \"feature\": \"exclusion_rate\", \"value\": 0.07333}, {\"area_code\": \"E09000030\", \"area_name\": \"Tower Hamlets\", \"feature\": \"exclusion_rate\", \"value\": 0.01343}, {\"area_code\": \"E09000031\", \"area_name\": \"Waltham Forest\", \"feature\": \"exclusion_rate\", \"value\": 0.07141}, {\"area_code\": \"E09000032\", \"area_name\": \"Wandsworth\", \"feature\": \"exclusion_rate\", \"value\": 0.04698}, {\"area_code\": \"E09000033\", \"area_name\": \"Westminster\", \"feature\": \"exclusion_rate\", \"value\": 0.13283}, {\"area_code\": \"E09000002\", \"area_name\": \"Barking and Dagenham\", \"feature\": \"child_income_deprivation_score\", \"value\": 0.2365}, {\"area_code\": \"E09000003\", \"area_name\": \"Barnet\", \"feature\": \"child_income_deprivation_score\", \"value\": 0.1}, {\"area_code\": \"E09000004\", \"area_name\": \"Bexley\", \"feature\": \"child_income_deprivation_score\", \"value\": 0.1315}, {\"area_code\": \"E09000005\", \"area_name\": \"Brent\", \"feature\": \"child_income_deprivation_score\", \"value\": 0.156}, {\"area_code\": \"E09000006\", \"area_name\": \"Bromley\", \"feature\": \"child_income_deprivation_score\", \"value\": 0.08199999999999999}, {\"area_code\": \"E09000007\", \"area_name\": \"Camden\", \"feature\": \"child_income_deprivation_score\", \"value\": 0.19699999999999998}, {\"area_code\": \"E09000008\", \"area_name\": \"Croydon\", \"feature\": \"child_income_deprivation_score\", \"value\": 0.1605}, {\"area_code\": \"E09000009\", \"area_name\": \"Ealing\", \"feature\": \"child_income_deprivation_score\", \"value\": 0.1535}, {\"area_code\": \"E09000010\", \"area_name\": \"Enfield\", \"feature\": \"child_income_deprivation_score\", \"value\": 0.209}, {\"area_code\": \"E09000011\", \"area_name\": \"Greenwich\", \"feature\": \"child_income_deprivation_score\", \"value\": 0.19899999999999998}, {\"area_code\": \"E09000012\", \"area_name\": \"Hackney\", \"feature\": \"child_income_deprivation_score\", \"value\": 0.2515}, {\"area_code\": \"E09000013\", \"area_name\": \"Hammersmith and Fulham\", \"feature\": \"child_income_deprivation_score\", \"value\": 0.16}, {\"area_code\": \"E09000014\", \"area_name\": \"Haringey\", \"feature\": \"child_income_deprivation_score\", \"value\": 0.20800000000000002}, {\"area_code\": \"E09000015\", \"area_name\": \"Harrow\", \"feature\": \"child_income_deprivation_score\", \"value\": 0.11}, {\"area_code\": \"E09000016\", \"area_name\": \"Havering\", \"feature\": \"child_income_deprivation_score\", \"value\": 0.126}, {\"area_code\": \"E09000017\", \"area_name\": \"Hillingdon\", \"feature\": \"child_income_deprivation_score\", \"value\": 0.13699999999999998}, {\"area_code\": \"E09000018\", \"area_name\": \"Hounslow\", \"feature\": \"child_income_deprivation_score\", \"value\": 0.156}, {\"area_code\": \"E09000019\", \"area_name\": \"Islington\", \"feature\": \"child_income_deprivation_score\", \"value\": 0.27699999999999997}, {\"area_code\": \"E09000020\", \"area_name\": \"Kensington and Chelsea\", \"feature\": \"child_income_deprivation_score\", \"value\": 0.081}, {\"area_code\": \"E09000021\", \"area_name\": \"Kingston upon Thames\", \"feature\": \"child_income_deprivation_score\", \"value\": 0.0875}, {\"area_code\": \"E09000022\", \"area_name\": \"Lambeth\", \"feature\": \"child_income_deprivation_score\", \"value\": 0.225}, {\"area_code\": \"E09000023\", \"area_name\": \"Lewisham\", \"feature\": \"child_income_deprivation_score\", \"value\": 0.22399999999999998}, {\"area_code\": \"E09000024\", \"area_name\": \"Merton\", \"feature\": \"child_income_deprivation_score\", \"value\": 0.10950000000000001}, {\"area_code\": \"E09000025\", \"area_name\": \"Newham\", \"feature\": \"child_income_deprivation_score\", \"value\": 0.187}, {\"area_code\": \"E09000026\", \"area_name\": \"Redbridge\", \"feature\": \"child_income_deprivation_score\", \"value\": 0.121}, {\"area_code\": \"E09000027\", \"area_name\": \"Richmond upon Thames\", \"feature\": \"child_income_deprivation_score\", \"value\": 0.055}, {\"area_code\": \"E09000028\", \"area_name\": \"Southwark\", \"feature\": \"child_income_deprivation_score\", \"value\": 0.2475}, {\"area_code\": \"E09000029\", \"area_name\": \"Sutton\", \"feature\": \"child_income_deprivation_score\", \"value\": 0.086}, {\"area_code\": \"E09000030\", \"area_name\": \"Tower Hamlets\", \"feature\": \"child_income_deprivation_score\", \"value\": 0.259}, {\"area_code\": \"E09000031\", \"area_name\": \"Waltham Forest\", \"feature\": \"child_income_deprivation_score\", \"value\": 0.17300000000000001}, {\"area_code\": \"E09000032\", \"area_name\": \"Wandsworth\", \"feature\": \"child_income_deprivation_score\", \"value\": 0.126}, {\"area_code\": \"E09000033\", \"area_name\": \"Westminster\", \"feature\": \"child_income_deprivation_score\", \"value\": 0.1585}, {\"area_code\": \"E09000002\", \"area_name\": \"Barking and Dagenham\", \"feature\": \"looked_after_rate_scaled\", \"value\": 0.6721311475409836}, {\"area_code\": \"E09000003\", \"area_name\": \"Barnet\", \"feature\": \"looked_after_rate_scaled\", \"value\": 0.14754098360655737}, {\"area_code\": \"E09000004\", \"area_name\": \"Bexley\", \"feature\": \"looked_after_rate_scaled\", \"value\": 0.2459016393442623}, {\"area_code\": \"E09000005\", \"area_name\": \"Brent\", \"feature\": \"looked_after_rate_scaled\", \"value\": 0.21311475409836064}, {\"area_code\": \"E09000006\", \"area_name\": \"Bromley\", \"feature\": \"looked_after_rate_scaled\", \"value\": 0.3442622950819672}, {\"area_code\": \"E09000007\", \"area_name\": \"Camden\", \"feature\": \"looked_after_rate_scaled\", \"value\": 0.19672131147540983}, {\"area_code\": \"E09000008\", \"area_name\": \"Croydon\", \"feature\": \"looked_after_rate_scaled\", \"value\": 1.0}, {\"area_code\": \"E09000009\", \"area_name\": \"Ealing\", \"feature\": \"looked_after_rate_scaled\", \"value\": 0.29508196721311475}, {\"area_code\": \"E09000010\", \"area_name\": \"Enfield\", \"feature\": \"looked_after_rate_scaled\", \"value\": 0.32786885245901637}, {\"area_code\": \"E09000011\", \"area_name\": \"Greenwich\", \"feature\": \"looked_after_rate_scaled\", \"value\": 0.7377049180327869}, {\"area_code\": \"E09000012\", \"area_name\": \"Hackney\", \"feature\": \"looked_after_rate_scaled\", \"value\": 0.639344262295082}, {\"area_code\": \"E09000013\", \"area_name\": \"Hammersmith and Fulham\", \"feature\": \"looked_after_rate_scaled\", \"value\": 0.6721311475409836}, {\"area_code\": \"E09000014\", \"area_name\": \"Haringey\", \"feature\": \"looked_after_rate_scaled\", \"value\": 0.7540983606557377}, {\"area_code\": \"E09000015\", \"area_name\": \"Harrow\", \"feature\": \"looked_after_rate_scaled\", \"value\": 0.06557377049180328}, {\"area_code\": \"E09000016\", \"area_name\": \"Havering\", \"feature\": \"looked_after_rate_scaled\", \"value\": 0.29508196721311475}, {\"area_code\": \"E09000017\", \"area_name\": \"Hillingdon\", \"feature\": \"looked_after_rate_scaled\", \"value\": 0.3114754098360656}, {\"area_code\": \"E09000018\", \"area_name\": \"Hounslow\", \"feature\": \"looked_after_rate_scaled\", \"value\": 0.29508196721311475}, {\"area_code\": \"E09000019\", \"area_name\": \"Islington\", \"feature\": \"looked_after_rate_scaled\", \"value\": 0.8032786885245902}, {\"area_code\": \"E09000020\", \"area_name\": \"Kensington and Chelsea\", \"feature\": \"looked_after_rate_scaled\", \"value\": 0.11475409836065574}, {\"area_code\": \"E09000021\", \"area_name\": \"Kingston upon Thames\", \"feature\": \"looked_after_rate_scaled\", \"value\": 0.13114754098360656}, {\"area_code\": \"E09000022\", \"area_name\": \"Lambeth\", \"feature\": \"looked_after_rate_scaled\", \"value\": 0.5081967213114754}, {\"area_code\": \"E09000023\", \"area_name\": \"Lewisham\", \"feature\": \"looked_after_rate_scaled\", \"value\": 0.7540983606557377}, {\"area_code\": \"E09000024\", \"area_name\": \"Merton\", \"feature\": \"looked_after_rate_scaled\", \"value\": 0.13114754098360656}, {\"area_code\": \"E09000025\", \"area_name\": \"Newham\", \"feature\": \"looked_after_rate_scaled\", \"value\": 0.3114754098360656}, {\"area_code\": \"E09000026\", \"area_name\": \"Redbridge\", \"feature\": \"looked_after_rate_scaled\", \"value\": 0.09836065573770492}, {\"area_code\": \"E09000027\", \"area_name\": \"Richmond upon Thames\", \"feature\": \"looked_after_rate_scaled\", \"value\": 0.0}, {\"area_code\": \"E09000028\", \"area_name\": \"Southwark\", \"feature\": \"looked_after_rate_scaled\", \"value\": 0.7377049180327869}, {\"area_code\": \"E09000029\", \"area_name\": \"Sutton\", \"feature\": \"looked_after_rate_scaled\", \"value\": 0.39344262295081966}, {\"area_code\": \"E09000030\", \"area_name\": \"Tower Hamlets\", \"feature\": \"looked_after_rate_scaled\", \"value\": 0.3442622950819672}, {\"area_code\": \"E09000031\", \"area_name\": \"Waltham Forest\", \"feature\": \"looked_after_rate_scaled\", \"value\": 0.29508196721311475}, {\"area_code\": \"E09000032\", \"area_name\": \"Wandsworth\", \"feature\": \"looked_after_rate_scaled\", \"value\": 0.3770491803278688}, {\"area_code\": \"E09000033\", \"area_name\": \"Westminster\", \"feature\": \"looked_after_rate_scaled\", \"value\": 0.3114754098360656}, {\"area_code\": \"E09000002\", \"area_name\": \"Barking and Dagenham\", \"feature\": \"crime_rate_scaled\", \"value\": 0.3718699238005821}, {\"area_code\": \"E09000003\", \"area_name\": \"Barnet\", \"feature\": \"crime_rate_scaled\", \"value\": 0.10842128800636977}, {\"area_code\": \"E09000004\", \"area_name\": \"Bexley\", \"feature\": \"crime_rate_scaled\", \"value\": 0.108028219044419}, {\"area_code\": \"E09000005\", \"area_name\": \"Brent\", \"feature\": \"crime_rate_scaled\", \"value\": 0.2698660296244944}, {\"area_code\": \"E09000006\", \"area_name\": \"Bromley\", \"feature\": \"crime_rate_scaled\", \"value\": 0.06341295745194199}, {\"area_code\": \"E09000007\", \"area_name\": \"Camden\", \"feature\": \"crime_rate_scaled\", \"value\": 0.36466163788946965}, {\"area_code\": \"E09000008\", \"area_name\": \"Croydon\", \"feature\": \"crime_rate_scaled\", \"value\": 0.24520528828905072}, {\"area_code\": \"E09000009\", \"area_name\": \"Ealing\", \"feature\": \"crime_rate_scaled\", \"value\": 0.2210429086262712}, {\"area_code\": \"E09000010\", \"area_name\": \"Enfield\", \"feature\": \"crime_rate_scaled\", \"value\": 0.2825679497334239}, {\"area_code\": \"E09000011\", \"area_name\": \"Greenwich\", \"feature\": \"crime_rate_scaled\", \"value\": 0.28584675348373395}, {\"area_code\": \"E09000012\", \"area_name\": \"Hackney\", \"feature\": \"crime_rate_scaled\", \"value\": 0.4439905004966691}, {\"area_code\": \"E09000013\", \"area_name\": \"Hammersmith and Fulham\", \"feature\": \"crime_rate_scaled\", \"value\": 0.33915180711331294}, {\"area_code\": \"E09000014\", \"area_name\": \"Haringey\", \"feature\": \"crime_rate_scaled\", \"value\": 0.5229252709921205}, {\"area_code\": \"E09000015\", \"area_name\": \"Harrow\", \"feature\": \"crime_rate_scaled\", \"value\": 0.08795670218308309}, {\"area_code\": \"E09000016\", \"area_name\": \"Havering\", \"feature\": \"crime_rate_scaled\", \"value\": 0.11230694446299704}, {\"area_code\": \"E09000017\", \"area_name\": \"Hillingdon\", \"feature\": \"crime_rate_scaled\", \"value\": 0.15452700257674895}, {\"area_code\": \"E09000018\", \"area_name\": \"Hounslow\", \"feature\": \"crime_rate_scaled\", \"value\": 0.2213384482819394}, {\"area_code\": \"E09000019\", \"area_name\": \"Islington\", \"feature\": \"crime_rate_scaled\", \"value\": 0.3989254947607532}, {\"area_code\": \"E09000020\", \"area_name\": \"Kensington and Chelsea\", \"feature\": \"crime_rate_scaled\", \"value\": 0.3774071330015223}, {\"area_code\": \"E09000021\", \"area_name\": \"Kingston upon Thames\", \"feature\": \"crime_rate_scaled\", \"value\": 0.10018726963338503}, {\"area_code\": \"E09000022\", \"area_name\": \"Lambeth\", \"feature\": \"crime_rate_scaled\", \"value\": 0.35582330503672255}, {\"area_code\": \"E09000023\", \"area_name\": \"Lewisham\", \"feature\": \"crime_rate_scaled\", \"value\": 0.2967546761579783}, {\"area_code\": \"E09000024\", \"area_name\": \"Merton\", \"feature\": \"crime_rate_scaled\", \"value\": 0.08026637689518457}, {\"area_code\": \"E09000025\", \"area_name\": \"Newham\", \"feature\": \"crime_rate_scaled\", \"value\": 0.3370523540268592}, {\"area_code\": \"E09000026\", \"area_name\": \"Redbridge\", \"feature\": \"crime_rate_scaled\", \"value\": 0.13561006185282976}, {\"area_code\": \"E09000027\", \"area_name\": \"Richmond upon Thames\", \"feature\": \"crime_rate_scaled\", \"value\": 0.0}, {\"area_code\": \"E09000028\", \"area_name\": \"Southwark\", \"feature\": \"crime_rate_scaled\", \"value\": 0.43957296290442227}, {\"area_code\": \"E09000029\", \"area_name\": \"Sutton\", \"feature\": \"crime_rate_scaled\", \"value\": 0.06626792287111724}, {\"area_code\": \"E09000030\", \"area_name\": \"Tower Hamlets\", \"feature\": \"crime_rate_scaled\", \"value\": 0.29871093435471674}, {\"area_code\": \"E09000031\", \"area_name\": \"Waltham Forest\", \"feature\": \"crime_rate_scaled\", \"value\": 0.15593471897957434}, {\"area_code\": \"E09000032\", \"area_name\": \"Wandsworth\", \"feature\": \"crime_rate_scaled\", \"value\": 0.13305296541000158}, {\"area_code\": \"E09000033\", \"area_name\": \"Westminster\", \"feature\": \"crime_rate_scaled\", \"value\": 1.0}, {\"area_code\": \"E09000002\", \"area_name\": \"Barking and Dagenham\", \"feature\": \"police_headcount_scaled\", \"value\": 0.14471456551327302}, {\"area_code\": \"E09000003\", \"area_name\": \"Barnet\", \"feature\": \"police_headcount_scaled\", \"value\": 0.2940213121465957}, {\"area_code\": \"E09000004\", \"area_name\": \"Bexley\", \"feature\": \"police_headcount_scaled\", \"value\": 0.2940213121465957}, {\"area_code\": \"E09000005\", \"area_name\": \"Brent\", \"feature\": \"police_headcount_scaled\", \"value\": 0.2940213121465957}, {\"area_code\": \"E09000006\", \"area_name\": \"Bromley\", \"feature\": \"police_headcount_scaled\", \"value\": 0.2940213121465957}, {\"area_code\": \"E09000007\", \"area_name\": \"Camden\", \"feature\": \"police_headcount_scaled\", \"value\": 0.3580684069004437}, {\"area_code\": \"E09000008\", \"area_name\": \"Croydon\", \"feature\": \"police_headcount_scaled\", \"value\": 0.4079074039238251}, {\"area_code\": \"E09000009\", \"area_name\": \"Ealing\", \"feature\": \"police_headcount_scaled\", \"value\": 0.35547908067853623}, {\"area_code\": \"E09000010\", \"area_name\": \"Enfield\", \"feature\": \"police_headcount_scaled\", \"value\": 0.27265383806752164}, {\"area_code\": \"E09000011\", \"area_name\": \"Greenwich\", \"feature\": \"police_headcount_scaled\", \"value\": 0.2940213121465957}, {\"area_code\": \"E09000012\", \"area_name\": \"Hackney\", \"feature\": \"police_headcount_scaled\", \"value\": 0.3125006915935421}, {\"area_code\": \"E09000013\", \"area_name\": \"Hammersmith and Fulham\", \"feature\": \"police_headcount_scaled\", \"value\": 0.1939006982328402}, {\"area_code\": \"E09000014\", \"area_name\": \"Haringey\", \"feature\": \"police_headcount_scaled\", \"value\": 0.30679089530933595}, {\"area_code\": \"E09000015\", \"area_name\": \"Harrow\", \"feature\": \"police_headcount_scaled\", \"value\": 0.2940213121465957}, {\"area_code\": \"E09000016\", \"area_name\": \"Havering\", \"feature\": \"police_headcount_scaled\", \"value\": 0.07009992143497357}, {\"area_code\": \"E09000017\", \"area_name\": \"Hillingdon\", \"feature\": \"police_headcount_scaled\", \"value\": 0.203649400803355}, {\"area_code\": \"E09000018\", \"area_name\": \"Hounslow\", \"feature\": \"police_headcount_scaled\", \"value\": 0.2940213121465957}, {\"area_code\": \"E09000019\", \"area_name\": \"Islington\", \"feature\": \"police_headcount_scaled\", \"value\": 0.2940213121465957}, {\"area_code\": \"E09000020\", \"area_name\": \"Kensington and Chelsea\", \"feature\": \"police_headcount_scaled\", \"value\": 0.22690907481382303}, {\"area_code\": \"E09000021\", \"area_name\": \"Kingston upon Thames\", \"feature\": \"police_headcount_scaled\", \"value\": 0.2940213121465957}, {\"area_code\": \"E09000022\", \"area_name\": \"Lambeth\", \"feature\": \"police_headcount_scaled\", \"value\": 0.5081497383010036}, {\"area_code\": \"E09000023\", \"area_name\": \"Lewisham\", \"feature\": \"police_headcount_scaled\", \"value\": 0.3386816567261621}, {\"area_code\": \"E09000024\", \"area_name\": \"Merton\", \"feature\": \"police_headcount_scaled\", \"value\": 0.03621737061668015}, {\"area_code\": \"E09000025\", \"area_name\": \"Newham\", \"feature\": \"police_headcount_scaled\", \"value\": 0.4714012238439322}, {\"area_code\": \"E09000026\", \"area_name\": \"Redbridge\", \"feature\": \"police_headcount_scaled\", \"value\": 0.1884232773788051}, {\"area_code\": \"E09000027\", \"area_name\": \"Richmond upon Thames\", \"feature\": \"police_headcount_scaled\", \"value\": 0.2940213121465957}, {\"area_code\": \"E09000028\", \"area_name\": \"Southwark\", \"feature\": \"police_headcount_scaled\", \"value\": 0.4688008321253499}, {\"area_code\": \"E09000029\", \"area_name\": \"Sutton\", \"feature\": \"police_headcount_scaled\", \"value\": 0.0}, {\"area_code\": \"E09000030\", \"area_name\": \"Tower Hamlets\", \"feature\": \"police_headcount_scaled\", \"value\": 0.3662236779497848}, {\"area_code\": \"E09000031\", \"area_name\": \"Waltham Forest\", \"feature\": \"police_headcount_scaled\", \"value\": 0.2645096325148554}, {\"area_code\": \"E09000032\", \"area_name\": \"Wandsworth\", \"feature\": \"police_headcount_scaled\", \"value\": 0.22083411713934778}, {\"area_code\": \"E09000033\", \"area_name\": \"Westminster\", \"feature\": \"police_headcount_scaled\", \"value\": 1.0}]}}, {\"mode\": \"vega-lite\"});\n",
       "</script>"
      ],
      "text/plain": [
       "alt.Chart(...)"
      ]
     },
     "execution_count": 154,
     "metadata": {},
     "output_type": "execute_result"
    }
   ],
   "source": [
    "alt.Chart(london_crime_socio_tidy, title = 'distribution').mark_circle(size=60).encode(\n",
    "    x=alt.X('value:Q', axis=alt.Axis(title='value', ticks=False)),\n",
    "    y=alt.Y('feature:N', axis=alt.Axis(title=None, ticks=False)),  \n",
    "    tooltip=['area_name', 'value']\n",
    ").configure_axis(\n",
    "    grid=False,\n",
    "    domain=False\n",
    ").configure_view(\n",
    "    strokeWidth=0\n",
    ").properties(height=200, \n",
    "             width=600\n",
    ").interactive()"
   ]
  },
  {
   "cell_type": "markdown",
   "metadata": {},
   "source": [
    "## 3. Define outlier strategy\n",
    "There is some bimodality in looked after rate and the biggest outliers are police headcount and crime_rate for Westminster and looked after rates for Croydon. \n",
    "\n",
    "The proposed strategy is to set those to mean + 2.5xStandard Deviation and then proceed to correlation analysis"
   ]
  },
  {
   "cell_type": "code",
   "execution_count": 155,
   "metadata": {},
   "outputs": [],
   "source": [
    "crime_mean = london_crime_socio_tidy['value'][london_crime_socio_tidy.feature == 'crime_rate_scaled'].mean()\n",
    "crime_std = london_crime_socio_tidy['value'][london_crime_socio_tidy.feature == 'crime_rate_scaled'].std()\n",
    "headcount_mean = london_crime_socio_tidy['value'][london_crime_socio_tidy.feature == 'police_headcount_scaled'].mean()\n",
    "headcount_std = london_crime_socio_tidy['value'][london_crime_socio_tidy.feature == 'police_headcount_scaled'].std()\n",
    "looked_after_mean = london_crime_socio_tidy['value'][london_crime_socio_tidy.feature == 'looked_after_rate_scaled'].mean()\n",
    "looked_after_std = london_crime_socio_tidy['value'][london_crime_socio_tidy.feature == 'looked_after_rate_scaled'].std()\n",
    "\n",
    "crime_upper = crime_mean + 2.5*crime_std\n",
    "headcount_upper = headcount_mean + 2.5*headcount_std\n",
    "looked_after_upper = looked_after_mean + 2*looked_after_std\n",
    "\n",
    "london_crime_socio_tidy.loc[(london_crime_socio_tidy.feature == 'crime_rate_scaled') &\n",
    "                            (london_crime_socio_tidy.area_name == 'Westminster'), \"value\"] = crime_upper\n",
    "\n",
    "london_crime_socio_tidy.loc[(london_crime_socio_tidy.feature == 'police_headcount_scaled') &\n",
    "                            (london_crime_socio_tidy.area_name == 'Westminster'), \"value\"] = headcount_upper\n",
    "\n",
    "london_crime_socio_tidy.loc[(london_crime_socio_tidy.feature == 'looked_after_rate_scaled') &\n",
    "                            (london_crime_socio_tidy.area_name == 'Croydon'), \"value\"] = looked_after_upper"
   ]
  },
  {
   "cell_type": "code",
   "execution_count": 157,
   "metadata": {},
   "outputs": [
    {
     "data": {
      "image/png": "[encoded data removed]",
      "text/plain": [
       "<Figure size 1440x576 with 12 Axes>"
      ]
     },
     "metadata": {
      "needs_background": "light"
     },
     "output_type": "display_data"
    }
   ],
   "source": [
    "display_distributions()"
   ]
  },
  {
   "cell_type": "code",
   "execution_count": 156,
   "metadata": {},
   "outputs": [
    {
     "data": {
      "text/html": [
       "\n",
       "<div id=\"altair-viz-df0e09098b104b49b351637cb8b012f0\"></div>\n",
       "<script type=\"text/javascript\">\n",
       "  (function(spec, embedOpt){\n",
       "    let outputDiv = document.currentScript.previousElementSibling;\n",
       "    if (outputDiv.id !== \"altair-viz-df0e09098b104b49b351637cb8b012f0\") {\n",
       "      outputDiv = document.getElementById(\"altair-viz-df0e09098b104b49b351637cb8b012f0\");\n",
       "    }\n",
       "    const paths = {\n",
       "      \"vega\": \"https://cdn.jsdelivr.net/npm//vega@5?noext\",\n",
       "      \"vega-lib\": \"https://cdn.jsdelivr.net/npm//vega-lib?noext\",\n",
       "      \"vega-lite\": \"https://cdn.jsdelivr.net/npm//vega-lite@4.8.1?noext\",\n",
       "      \"vega-embed\": \"https://cdn.jsdelivr.net/npm//vega-embed@6?noext\",\n",
       "    };\n",
       "\n",
       "    function loadScript(lib) {\n",
       "      return new Promise(function(resolve, reject) {\n",
       "        var s = document.createElement('script');\n",
       "        s.src = paths[lib];\n",
       "        s.async = true;\n",
       "        s.onload = () => resolve(paths[lib]);\n",
       "        s.onerror = () => reject(`Error loading script: ${paths[lib]}`);\n",
       "        document.getElementsByTagName(\"head\")[0].appendChild(s);\n",
       "      });\n",
       "    }\n",
       "\n",
       "    function showError(err) {\n",
       "      outputDiv.innerHTML = `<div class=\"error\" style=\"color:red;\">${err}</div>`;\n",
       "      throw err;\n",
       "    }\n",
       "\n",
       "    function displayChart(vegaEmbed) {\n",
       "      vegaEmbed(outputDiv, spec, embedOpt)\n",
       "        .catch(err => showError(`Javascript Error: ${err.message}<br>This usually means there's a typo in your chart specification. See the javascript console for the full traceback.`));\n",
       "    }\n",
       "\n",
       "    if(typeof define === \"function\" && define.amd) {\n",
       "      requirejs.config({paths});\n",
       "      require([\"vega-embed\"], displayChart, err => showError(`Error loading script: ${err.message}`));\n",
       "    } else if (typeof vegaEmbed === \"function\") {\n",
       "      displayChart(vegaEmbed);\n",
       "    } else {\n",
       "      loadScript(\"vega\")\n",
       "        .then(() => loadScript(\"vega-lite\"))\n",
       "        .then(() => loadScript(\"vega-embed\"))\n",
       "        .catch(showError)\n",
       "        .then(() => displayChart(vegaEmbed));\n",
       "    }\n",
       "  })({\"config\": {\"view\": {\"continuousWidth\": 400, \"continuousHeight\": 300, \"strokeWidth\": 0}, \"axis\": {\"domain\": false, \"grid\": false}}, \"data\": {\"name\": \"data-d09e49258bb0f668e008cbafd4e6fd15\"}, \"mark\": {\"type\": \"circle\", \"size\": 60}, \"encoding\": {\"tooltip\": [{\"type\": \"nominal\", \"field\": \"area_name\"}, {\"type\": \"quantitative\", \"field\": \"value\"}], \"x\": {\"type\": \"quantitative\", \"axis\": {\"ticks\": false, \"title\": \"value\"}, \"field\": \"value\"}, \"y\": {\"type\": \"nominal\", \"axis\": {\"ticks\": false, \"title\": null}, \"field\": \"feature\"}}, \"height\": 200, \"selection\": {\"selector010\": {\"type\": \"interval\", \"bind\": \"scales\", \"encodings\": [\"x\", \"y\"]}}, \"title\": \"distribution\", \"width\": 600, \"$schema\": \"https://vega.github.io/schema/vega-lite/v4.8.1.json\", \"datasets\": {\"data-d09e49258bb0f668e008cbafd4e6fd15\": [{\"area_code\": \"E09000002\", \"area_name\": \"Barking and Dagenham\", \"feature\": \"mental_health_rate\", \"value\": 0.11910064415608576}, {\"area_code\": \"E09000003\", \"area_name\": \"Barnet\", \"feature\": \"mental_health_rate\", \"value\": 0.12064211094156994}, {\"area_code\": \"E09000004\", \"area_name\": \"Bexley\", \"feature\": \"mental_health_rate\", \"value\": 0.12160884853548261}, {\"area_code\": \"E09000005\", \"area_name\": \"Brent\", \"feature\": \"mental_health_rate\", \"value\": 0.12098428169335515}, {\"area_code\": \"E09000006\", \"area_name\": \"Bromley\", \"feature\": \"mental_health_rate\", \"value\": 0.1210035433595311}, {\"area_code\": \"E09000007\", \"area_name\": \"Camden\", \"feature\": \"mental_health_rate\", \"value\": 0.12057948287154369}, {\"area_code\": \"E09000008\", \"area_name\": \"Croydon\", \"feature\": \"mental_health_rate\", \"value\": 0.12096906228816752}, {\"area_code\": \"E09000009\", \"area_name\": \"Ealing\", \"feature\": \"mental_health_rate\", \"value\": 0.12035289828072604}, {\"area_code\": \"E09000010\", \"area_name\": \"Enfield\", \"feature\": \"mental_health_rate\", \"value\": 0.12099263276304965}, {\"area_code\": \"E09000011\", \"area_name\": \"Greenwich\", \"feature\": \"mental_health_rate\", \"value\": 0.11998517009174713}, {\"area_code\": \"E09000012\", \"area_name\": \"Hackney\", \"feature\": \"mental_health_rate\", \"value\": 0.12020343728605491}, {\"area_code\": \"E09000013\", \"area_name\": \"Hammersmith and Fulham\", \"feature\": \"mental_health_rate\", \"value\": 0.11880233098333265}, {\"area_code\": \"E09000014\", \"area_name\": \"Haringey\", \"feature\": \"mental_health_rate\", \"value\": 0.12182921070330514}, {\"area_code\": \"E09000015\", \"area_name\": \"Harrow\", \"feature\": \"mental_health_rate\", \"value\": 0.12119298713601914}, {\"area_code\": \"E09000016\", \"area_name\": \"Havering\", \"feature\": \"mental_health_rate\", \"value\": 0.12188211524323775}, {\"area_code\": \"E09000017\", \"area_name\": \"Hillingdon\", \"feature\": \"mental_health_rate\", \"value\": 0.12071117387572607}, {\"area_code\": \"E09000018\", \"area_name\": \"Hounslow\", \"feature\": \"mental_health_rate\", \"value\": 0.11960082194952536}, {\"area_code\": \"E09000019\", \"area_name\": \"Islington\", \"feature\": \"mental_health_rate\", \"value\": 0.12023481581471351}, {\"area_code\": \"E09000020\", \"area_name\": \"Kensington and Chelsea\", \"feature\": \"mental_health_rate\", \"value\": 0.12052247068177302}, {\"area_code\": \"E09000021\", \"area_name\": \"Kingston upon Thames\", \"feature\": \"mental_health_rate\", \"value\": 0.12015677919203098}, {\"area_code\": \"E09000022\", \"area_name\": \"Lambeth\", \"feature\": \"mental_health_rate\", \"value\": 0.12048903058845474}, {\"area_code\": \"E09000023\", \"area_name\": \"Lewisham\", \"feature\": \"mental_health_rate\", \"value\": 0.11995173577837792}, {\"area_code\": \"E09000024\", \"area_name\": \"Merton\", \"feature\": \"mental_health_rate\", \"value\": 0.11960383703656878}, {\"area_code\": \"E09000025\", \"area_name\": \"Newham\", \"feature\": \"mental_health_rate\", \"value\": 0.12063912083676437}, {\"area_code\": \"E09000026\", \"area_name\": \"Redbridge\", \"feature\": \"mental_health_rate\", \"value\": 0.12150805310902815}, {\"area_code\": \"E09000027\", \"area_name\": \"Richmond upon Thames\", \"feature\": \"mental_health_rate\", \"value\": 0.11976107031736155}, {\"area_code\": \"E09000028\", \"area_name\": \"Southwark\", \"feature\": \"mental_health_rate\", \"value\": 0.11972466224798504}, {\"area_code\": \"E09000029\", \"area_name\": \"Sutton\", \"feature\": \"mental_health_rate\", \"value\": 0.12065604841113695}, {\"area_code\": \"E09000030\", \"area_name\": \"Tower Hamlets\", \"feature\": \"mental_health_rate\", \"value\": 0.12022387039560486}, {\"area_code\": \"E09000031\", \"area_name\": \"Waltham Forest\", \"feature\": \"mental_health_rate\", \"value\": 0.1201516022049926}, {\"area_code\": \"E09000032\", \"area_name\": \"Wandsworth\", \"feature\": \"mental_health_rate\", \"value\": 0.11800176033829966}, {\"area_code\": \"E09000033\", \"area_name\": \"Westminster\", \"feature\": \"mental_health_rate\", \"value\": 0.12004061206572181}, {\"area_code\": \"E09000002\", \"area_name\": \"Barking and Dagenham\", \"feature\": \"exclusion_rate\", \"value\": 0.05963}, {\"area_code\": \"E09000003\", \"area_name\": \"Barnet\", \"feature\": \"exclusion_rate\", \"value\": 0.05384}, {\"area_code\": \"E09000004\", \"area_name\": \"Bexley\", \"feature\": \"exclusion_rate\", \"value\": 0.10019}, {\"area_code\": \"E09000005\", \"area_name\": \"Brent\", \"feature\": \"exclusion_rate\", \"value\": 0.06071}, {\"area_code\": \"E09000006\", \"area_name\": \"Bromley\", \"feature\": \"exclusion_rate\", \"value\": 0.09537}, {\"area_code\": \"E09000007\", \"area_name\": \"Camden\", \"feature\": \"exclusion_rate\", \"value\": 0.08087}, {\"area_code\": \"E09000008\", \"area_name\": \"Croydon\", \"feature\": \"exclusion_rate\", \"value\": 0.0624}, {\"area_code\": \"E09000009\", \"area_name\": \"Ealing\", \"feature\": \"exclusion_rate\", \"value\": 0.10753}, {\"area_code\": \"E09000010\", \"area_name\": \"Enfield\", \"feature\": \"exclusion_rate\", \"value\": 0.03598}, {\"area_code\": \"E09000011\", \"area_name\": \"Greenwich\", \"feature\": \"exclusion_rate\", \"value\": 0.06245}, {\"area_code\": \"E09000012\", \"area_name\": \"Hackney\", \"feature\": \"exclusion_rate\", \"value\": 0.12676}, {\"area_code\": \"E09000013\", \"area_name\": \"Hammersmith and Fulham\", \"feature\": \"exclusion_rate\", \"value\": 0.05384}, {\"area_code\": \"E09000014\", \"area_name\": \"Haringey\", \"feature\": \"exclusion_rate\", \"value\": 0.05703}, {\"area_code\": \"E09000015\", \"area_name\": \"Harrow\", \"feature\": \"exclusion_rate\", \"value\": 0.08886}, {\"area_code\": \"E09000016\", \"area_name\": \"Havering\", \"feature\": \"exclusion_rate\", \"value\": 0.04314}, {\"area_code\": \"E09000017\", \"area_name\": \"Hillingdon\", \"feature\": \"exclusion_rate\", \"value\": 0.06524}, {\"area_code\": \"E09000018\", \"area_name\": \"Hounslow\", \"feature\": \"exclusion_rate\", \"value\": 0.05872}, {\"area_code\": \"E09000019\", \"area_name\": \"Islington\", \"feature\": \"exclusion_rate\", \"value\": 0.09627}, {\"area_code\": \"E09000020\", \"area_name\": \"Kensington and Chelsea\", \"feature\": \"exclusion_rate\", \"value\": 0.14599}, {\"area_code\": \"E09000021\", \"area_name\": \"Kingston upon Thames\", \"feature\": \"exclusion_rate\", \"value\": 0.02731}, {\"area_code\": \"E09000022\", \"area_name\": \"Lambeth\", \"feature\": \"exclusion_rate\", \"value\": 0.05718}, {\"area_code\": \"E09000023\", \"area_name\": \"Lewisham\", \"feature\": \"exclusion_rate\", \"value\": 0.05507}, {\"area_code\": \"E09000024\", \"area_name\": \"Merton\", \"feature\": \"exclusion_rate\", \"value\": 0.08008}, {\"area_code\": \"E09000025\", \"area_name\": \"Newham\", \"feature\": \"exclusion_rate\", \"value\": 0.07383}, {\"area_code\": \"E09000026\", \"area_name\": \"Redbridge\", \"feature\": \"exclusion_rate\", \"value\": 0.08809}, {\"area_code\": \"E09000027\", \"area_name\": \"Richmond upon Thames\", \"feature\": \"exclusion_rate\", \"value\": 0.05428}, {\"area_code\": \"E09000028\", \"area_name\": \"Southwark\", \"feature\": \"exclusion_rate\", \"value\": 0.08324}, {\"area_code\": \"E09000029\", \"area_name\": \"Sutton\", \"feature\": \"exclusion_rate\", \"value\": 0.07333}, {\"area_code\": \"E09000030\", \"area_name\": \"Tower Hamlets\", \"feature\": \"exclusion_rate\", \"value\": 0.01343}, {\"area_code\": \"E09000031\", \"area_name\": \"Waltham Forest\", \"feature\": \"exclusion_rate\", \"value\": 0.07141}, {\"area_code\": \"E09000032\", \"area_name\": \"Wandsworth\", \"feature\": \"exclusion_rate\", \"value\": 0.04698}, {\"area_code\": \"E09000033\", \"area_name\": \"Westminster\", \"feature\": \"exclusion_rate\", \"value\": 0.13283}, {\"area_code\": \"E09000002\", \"area_name\": \"Barking and Dagenham\", \"feature\": \"child_income_deprivation_score\", \"value\": 0.2365}, {\"area_code\": \"E09000003\", \"area_name\": \"Barnet\", \"feature\": \"child_income_deprivation_score\", \"value\": 0.1}, {\"area_code\": \"E09000004\", \"area_name\": \"Bexley\", \"feature\": \"child_income_deprivation_score\", \"value\": 0.1315}, {\"area_code\": \"E09000005\", \"area_name\": \"Brent\", \"feature\": \"child_income_deprivation_score\", \"value\": 0.156}, {\"area_code\": \"E09000006\", \"area_name\": \"Bromley\", \"feature\": \"child_income_deprivation_score\", \"value\": 0.08199999999999999}, {\"area_code\": \"E09000007\", \"area_name\": \"Camden\", \"feature\": \"child_income_deprivation_score\", \"value\": 0.19699999999999998}, {\"area_code\": \"E09000008\", \"area_name\": \"Croydon\", \"feature\": \"child_income_deprivation_score\", \"value\": 0.1605}, {\"area_code\": \"E09000009\", \"area_name\": \"Ealing\", \"feature\": \"child_income_deprivation_score\", \"value\": 0.1535}, {\"area_code\": \"E09000010\", \"area_name\": \"Enfield\", \"feature\": \"child_income_deprivation_score\", \"value\": 0.209}, {\"area_code\": \"E09000011\", \"area_name\": \"Greenwich\", \"feature\": \"child_income_deprivation_score\", \"value\": 0.19899999999999998}, {\"area_code\": \"E09000012\", \"area_name\": \"Hackney\", \"feature\": \"child_income_deprivation_score\", \"value\": 0.2515}, {\"area_code\": \"E09000013\", \"area_name\": \"Hammersmith and Fulham\", \"feature\": \"child_income_deprivation_score\", \"value\": 0.16}, {\"area_code\": \"E09000014\", \"area_name\": \"Haringey\", \"feature\": \"child_income_deprivation_score\", \"value\": 0.20800000000000002}, {\"area_code\": \"E09000015\", \"area_name\": \"Harrow\", \"feature\": \"child_income_deprivation_score\", \"value\": 0.11}, {\"area_code\": \"E09000016\", \"area_name\": \"Havering\", \"feature\": \"child_income_deprivation_score\", \"value\": 0.126}, {\"area_code\": \"E09000017\", \"area_name\": \"Hillingdon\", \"feature\": \"child_income_deprivation_score\", \"value\": 0.13699999999999998}, {\"area_code\": \"E09000018\", \"area_name\": \"Hounslow\", \"feature\": \"child_income_deprivation_score\", \"value\": 0.156}, {\"area_code\": \"E09000019\", \"area_name\": \"Islington\", \"feature\": \"child_income_deprivation_score\", \"value\": 0.27699999999999997}, {\"area_code\": \"E09000020\", \"area_name\": \"Kensington and Chelsea\", \"feature\": \"child_income_deprivation_score\", \"value\": 0.081}, {\"area_code\": \"E09000021\", \"area_name\": \"Kingston upon Thames\", \"feature\": \"child_income_deprivation_score\", \"value\": 0.0875}, {\"area_code\": \"E09000022\", \"area_name\": \"Lambeth\", \"feature\": \"child_income_deprivation_score\", \"value\": 0.225}, {\"area_code\": \"E09000023\", \"area_name\": \"Lewisham\", \"feature\": \"child_income_deprivation_score\", \"value\": 0.22399999999999998}, {\"area_code\": \"E09000024\", \"area_name\": \"Merton\", \"feature\": \"child_income_deprivation_score\", \"value\": 0.10950000000000001}, {\"area_code\": \"E09000025\", \"area_name\": \"Newham\", \"feature\": \"child_income_deprivation_score\", \"value\": 0.187}, {\"area_code\": \"E09000026\", \"area_name\": \"Redbridge\", \"feature\": \"child_income_deprivation_score\", \"value\": 0.121}, {\"area_code\": \"E09000027\", \"area_name\": \"Richmond upon Thames\", \"feature\": \"child_income_deprivation_score\", \"value\": 0.055}, {\"area_code\": \"E09000028\", \"area_name\": \"Southwark\", \"feature\": \"child_income_deprivation_score\", \"value\": 0.2475}, {\"area_code\": \"E09000029\", \"area_name\": \"Sutton\", \"feature\": \"child_income_deprivation_score\", \"value\": 0.086}, {\"area_code\": \"E09000030\", \"area_name\": \"Tower Hamlets\", \"feature\": \"child_income_deprivation_score\", \"value\": 0.259}, {\"area_code\": \"E09000031\", \"area_name\": \"Waltham Forest\", \"feature\": \"child_income_deprivation_score\", \"value\": 0.17300000000000001}, {\"area_code\": \"E09000032\", \"area_name\": \"Wandsworth\", \"feature\": \"child_income_deprivation_score\", \"value\": 0.126}, {\"area_code\": \"E09000033\", \"area_name\": \"Westminster\", \"feature\": \"child_income_deprivation_score\", \"value\": 0.1585}, {\"area_code\": \"E09000002\", \"area_name\": \"Barking and Dagenham\", \"feature\": \"looked_after_rate_scaled\", \"value\": 0.6721311475409836}, {\"area_code\": \"E09000003\", \"area_name\": \"Barnet\", \"feature\": \"looked_after_rate_scaled\", \"value\": 0.14754098360655737}, {\"area_code\": \"E09000004\", \"area_name\": \"Bexley\", \"feature\": \"looked_after_rate_scaled\", \"value\": 0.2459016393442623}, {\"area_code\": \"E09000005\", \"area_name\": \"Brent\", \"feature\": \"looked_after_rate_scaled\", \"value\": 0.21311475409836064}, {\"area_code\": \"E09000006\", \"area_name\": \"Bromley\", \"feature\": \"looked_after_rate_scaled\", \"value\": 0.3442622950819672}, {\"area_code\": \"E09000007\", \"area_name\": \"Camden\", \"feature\": \"looked_after_rate_scaled\", \"value\": 0.19672131147540983}, {\"area_code\": \"E09000008\", \"area_name\": \"Croydon\", \"feature\": \"looked_after_rate_scaled\", \"value\": 0.9054838978876101}, {\"area_code\": \"E09000009\", \"area_name\": \"Ealing\", \"feature\": \"looked_after_rate_scaled\", \"value\": 0.29508196721311475}, {\"area_code\": \"E09000010\", \"area_name\": \"Enfield\", \"feature\": \"looked_after_rate_scaled\", \"value\": 0.32786885245901637}, {\"area_code\": \"E09000011\", \"area_name\": \"Greenwich\", \"feature\": \"looked_after_rate_scaled\", \"value\": 0.7377049180327869}, {\"area_code\": \"E09000012\", \"area_name\": \"Hackney\", \"feature\": \"looked_after_rate_scaled\", \"value\": 0.639344262295082}, {\"area_code\": \"E09000013\", \"area_name\": \"Hammersmith and Fulham\", \"feature\": \"looked_after_rate_scaled\", \"value\": 0.6721311475409836}, {\"area_code\": \"E09000014\", \"area_name\": \"Haringey\", \"feature\": \"looked_after_rate_scaled\", \"value\": 0.7540983606557377}, {\"area_code\": \"E09000015\", \"area_name\": \"Harrow\", \"feature\": \"looked_after_rate_scaled\", \"value\": 0.06557377049180328}, {\"area_code\": \"E09000016\", \"area_name\": \"Havering\", \"feature\": \"looked_after_rate_scaled\", \"value\": 0.29508196721311475}, {\"area_code\": \"E09000017\", \"area_name\": \"Hillingdon\", \"feature\": \"looked_after_rate_scaled\", \"value\": 0.3114754098360656}, {\"area_code\": \"E09000018\", \"area_name\": \"Hounslow\", \"feature\": \"looked_after_rate_scaled\", \"value\": 0.29508196721311475}, {\"area_code\": \"E09000019\", \"area_name\": \"Islington\", \"feature\": \"looked_after_rate_scaled\", \"value\": 0.8032786885245902}, {\"area_code\": \"E09000020\", \"area_name\": \"Kensington and Chelsea\", \"feature\": \"looked_after_rate_scaled\", \"value\": 0.11475409836065574}, {\"area_code\": \"E09000021\", \"area_name\": \"Kingston upon Thames\", \"feature\": \"looked_after_rate_scaled\", \"value\": 0.13114754098360656}, {\"area_code\": \"E09000022\", \"area_name\": \"Lambeth\", \"feature\": \"looked_after_rate_scaled\", \"value\": 0.5081967213114754}, {\"area_code\": \"E09000023\", \"area_name\": \"Lewisham\", \"feature\": \"looked_after_rate_scaled\", \"value\": 0.7540983606557377}, {\"area_code\": \"E09000024\", \"area_name\": \"Merton\", \"feature\": \"looked_after_rate_scaled\", \"value\": 0.13114754098360656}, {\"area_code\": \"E09000025\", \"area_name\": \"Newham\", \"feature\": \"looked_after_rate_scaled\", \"value\": 0.3114754098360656}, {\"area_code\": \"E09000026\", \"area_name\": \"Redbridge\", \"feature\": \"looked_after_rate_scaled\", \"value\": 0.09836065573770492}, {\"area_code\": \"E09000027\", \"area_name\": \"Richmond upon Thames\", \"feature\": \"looked_after_rate_scaled\", \"value\": 0.0}, {\"area_code\": \"E09000028\", \"area_name\": \"Southwark\", \"feature\": \"looked_after_rate_scaled\", \"value\": 0.7377049180327869}, {\"area_code\": \"E09000029\", \"area_name\": \"Sutton\", \"feature\": \"looked_after_rate_scaled\", \"value\": 0.39344262295081966}, {\"area_code\": \"E09000030\", \"area_name\": \"Tower Hamlets\", \"feature\": \"looked_after_rate_scaled\", \"value\": 0.3442622950819672}, {\"area_code\": \"E09000031\", \"area_name\": \"Waltham Forest\", \"feature\": \"looked_after_rate_scaled\", \"value\": 0.29508196721311475}, {\"area_code\": \"E09000032\", \"area_name\": \"Wandsworth\", \"feature\": \"looked_after_rate_scaled\", \"value\": 0.3770491803278688}, {\"area_code\": \"E09000033\", \"area_name\": \"Westminster\", \"feature\": \"looked_after_rate_scaled\", \"value\": 0.3114754098360656}, {\"area_code\": \"E09000002\", \"area_name\": \"Barking and Dagenham\", \"feature\": \"crime_rate_scaled\", \"value\": 0.3718699238005821}, {\"area_code\": \"E09000003\", \"area_name\": \"Barnet\", \"feature\": \"crime_rate_scaled\", \"value\": 0.10842128800636977}, {\"area_code\": \"E09000004\", \"area_name\": \"Bexley\", \"feature\": \"crime_rate_scaled\", \"value\": 0.108028219044419}, {\"area_code\": \"E09000005\", \"area_name\": \"Brent\", \"feature\": \"crime_rate_scaled\", \"value\": 0.2698660296244944}, {\"area_code\": \"E09000006\", \"area_name\": \"Bromley\", \"feature\": \"crime_rate_scaled\", \"value\": 0.06341295745194199}, {\"area_code\": \"E09000007\", \"area_name\": \"Camden\", \"feature\": \"crime_rate_scaled\", \"value\": 0.36466163788946965}, {\"area_code\": \"E09000008\", \"area_name\": \"Croydon\", \"feature\": \"crime_rate_scaled\", \"value\": 0.24520528828905072}, {\"area_code\": \"E09000009\", \"area_name\": \"Ealing\", \"feature\": \"crime_rate_scaled\", \"value\": 0.2210429086262712}, {\"area_code\": \"E09000010\", \"area_name\": \"Enfield\", \"feature\": \"crime_rate_scaled\", \"value\": 0.2825679497334239}, {\"area_code\": \"E09000011\", \"area_name\": \"Greenwich\", \"feature\": \"crime_rate_scaled\", \"value\": 0.28584675348373395}, {\"area_code\": \"E09000012\", \"area_name\": \"Hackney\", \"feature\": \"crime_rate_scaled\", \"value\": 0.4439905004966691}, {\"area_code\": \"E09000013\", \"area_name\": \"Hammersmith and Fulham\", \"feature\": \"crime_rate_scaled\", \"value\": 0.33915180711331294}, {\"area_code\": \"E09000014\", \"area_name\": \"Haringey\", \"feature\": \"crime_rate_scaled\", \"value\": 0.5229252709921205}, {\"area_code\": \"E09000015\", \"area_name\": \"Harrow\", \"feature\": \"crime_rate_scaled\", \"value\": 0.08795670218308309}, {\"area_code\": \"E09000016\", \"area_name\": \"Havering\", \"feature\": \"crime_rate_scaled\", \"value\": 0.11230694446299704}, {\"area_code\": \"E09000017\", \"area_name\": \"Hillingdon\", \"feature\": \"crime_rate_scaled\", \"value\": 0.15452700257674895}, {\"area_code\": \"E09000018\", \"area_name\": \"Hounslow\", \"feature\": \"crime_rate_scaled\", \"value\": 0.2213384482819394}, {\"area_code\": \"E09000019\", \"area_name\": \"Islington\", \"feature\": \"crime_rate_scaled\", \"value\": 0.3989254947607532}, {\"area_code\": \"E09000020\", \"area_name\": \"Kensington and Chelsea\", \"feature\": \"crime_rate_scaled\", \"value\": 0.3774071330015223}, {\"area_code\": \"E09000021\", \"area_name\": \"Kingston upon Thames\", \"feature\": \"crime_rate_scaled\", \"value\": 0.10018726963338503}, {\"area_code\": \"E09000022\", \"area_name\": \"Lambeth\", \"feature\": \"crime_rate_scaled\", \"value\": 0.35582330503672255}, {\"area_code\": \"E09000023\", \"area_name\": \"Lewisham\", \"feature\": \"crime_rate_scaled\", \"value\": 0.2967546761579783}, {\"area_code\": \"E09000024\", \"area_name\": \"Merton\", \"feature\": \"crime_rate_scaled\", \"value\": 0.08026637689518457}, {\"area_code\": \"E09000025\", \"area_name\": \"Newham\", \"feature\": \"crime_rate_scaled\", \"value\": 0.3370523540268592}, {\"area_code\": \"E09000026\", \"area_name\": \"Redbridge\", \"feature\": \"crime_rate_scaled\", \"value\": 0.13561006185282976}, {\"area_code\": \"E09000027\", \"area_name\": \"Richmond upon Thames\", \"feature\": \"crime_rate_scaled\", \"value\": 0.0}, {\"area_code\": \"E09000028\", \"area_name\": \"Southwark\", \"feature\": \"crime_rate_scaled\", \"value\": 0.43957296290442227}, {\"area_code\": \"E09000029\", \"area_name\": \"Sutton\", \"feature\": \"crime_rate_scaled\", \"value\": 0.06626792287111724}, {\"area_code\": \"E09000030\", \"area_name\": \"Tower Hamlets\", \"feature\": \"crime_rate_scaled\", \"value\": 0.29871093435471674}, {\"area_code\": \"E09000031\", \"area_name\": \"Waltham Forest\", \"feature\": \"crime_rate_scaled\", \"value\": 0.15593471897957434}, {\"area_code\": \"E09000032\", \"area_name\": \"Wandsworth\", \"feature\": \"crime_rate_scaled\", \"value\": 0.13305296541000158}, {\"area_code\": \"E09000033\", \"area_name\": \"Westminster\", \"feature\": \"crime_rate_scaled\", \"value\": 0.7371655954597782}, {\"area_code\": \"E09000002\", \"area_name\": \"Barking and Dagenham\", \"feature\": \"police_headcount_scaled\", \"value\": 0.14471456551327302}, {\"area_code\": \"E09000003\", \"area_name\": \"Barnet\", \"feature\": \"police_headcount_scaled\", \"value\": 0.2940213121465957}, {\"area_code\": \"E09000004\", \"area_name\": \"Bexley\", \"feature\": \"police_headcount_scaled\", \"value\": 0.2940213121465957}, {\"area_code\": \"E09000005\", \"area_name\": \"Brent\", \"feature\": \"police_headcount_scaled\", \"value\": 0.2940213121465957}, {\"area_code\": \"E09000006\", \"area_name\": \"Bromley\", \"feature\": \"police_headcount_scaled\", \"value\": 0.2940213121465957}, {\"area_code\": \"E09000007\", \"area_name\": \"Camden\", \"feature\": \"police_headcount_scaled\", \"value\": 0.3580684069004437}, {\"area_code\": \"E09000008\", \"area_name\": \"Croydon\", \"feature\": \"police_headcount_scaled\", \"value\": 0.4079074039238251}, {\"area_code\": \"E09000009\", \"area_name\": \"Ealing\", \"feature\": \"police_headcount_scaled\", \"value\": 0.35547908067853623}, {\"area_code\": \"E09000010\", \"area_name\": \"Enfield\", \"feature\": \"police_headcount_scaled\", \"value\": 0.27265383806752164}, {\"area_code\": \"E09000011\", \"area_name\": \"Greenwich\", \"feature\": \"police_headcount_scaled\", \"value\": 0.2940213121465957}, {\"area_code\": \"E09000012\", \"area_name\": \"Hackney\", \"feature\": \"police_headcount_scaled\", \"value\": 0.3125006915935421}, {\"area_code\": \"E09000013\", \"area_name\": \"Hammersmith and Fulham\", \"feature\": \"police_headcount_scaled\", \"value\": 0.1939006982328402}, {\"area_code\": \"E09000014\", \"area_name\": \"Haringey\", \"feature\": \"police_headcount_scaled\", \"value\": 0.30679089530933595}, {\"area_code\": \"E09000015\", \"area_name\": \"Harrow\", \"feature\": \"police_headcount_scaled\", \"value\": 0.2940213121465957}, {\"area_code\": \"E09000016\", \"area_name\": \"Havering\", \"feature\": \"police_headcount_scaled\", \"value\": 0.07009992143497357}, {\"area_code\": \"E09000017\", \"area_name\": \"Hillingdon\", \"feature\": \"police_headcount_scaled\", \"value\": 0.203649400803355}, {\"area_code\": \"E09000018\", \"area_name\": \"Hounslow\", \"feature\": \"police_headcount_scaled\", \"value\": 0.2940213121465957}, {\"area_code\": \"E09000019\", \"area_name\": \"Islington\", \"feature\": \"police_headcount_scaled\", \"value\": 0.2940213121465957}, {\"area_code\": \"E09000020\", \"area_name\": \"Kensington and Chelsea\", \"feature\": \"police_headcount_scaled\", \"value\": 0.22690907481382303}, {\"area_code\": \"E09000021\", \"area_name\": \"Kingston upon Thames\", \"feature\": \"police_headcount_scaled\", \"value\": 0.2940213121465957}, {\"area_code\": \"E09000022\", \"area_name\": \"Lambeth\", \"feature\": \"police_headcount_scaled\", \"value\": 0.5081497383010036}, {\"area_code\": \"E09000023\", \"area_name\": \"Lewisham\", \"feature\": \"police_headcount_scaled\", \"value\": 0.3386816567261621}, {\"area_code\": \"E09000024\", \"area_name\": \"Merton\", \"feature\": \"police_headcount_scaled\", \"value\": 0.03621737061668015}, {\"area_code\": \"E09000025\", \"area_name\": \"Newham\", \"feature\": \"police_headcount_scaled\", \"value\": 0.4714012238439322}, {\"area_code\": \"E09000026\", \"area_name\": \"Redbridge\", \"feature\": \"police_headcount_scaled\", \"value\": 0.1884232773788051}, {\"area_code\": \"E09000027\", \"area_name\": \"Richmond upon Thames\", \"feature\": \"police_headcount_scaled\", \"value\": 0.2940213121465957}, {\"area_code\": \"E09000028\", \"area_name\": \"Southwark\", \"feature\": \"police_headcount_scaled\", \"value\": 0.4688008321253499}, {\"area_code\": \"E09000029\", \"area_name\": \"Sutton\", \"feature\": \"police_headcount_scaled\", \"value\": 0.0}, {\"area_code\": \"E09000030\", \"area_name\": \"Tower Hamlets\", \"feature\": \"police_headcount_scaled\", \"value\": 0.3662236779497848}, {\"area_code\": \"E09000031\", \"area_name\": \"Waltham Forest\", \"feature\": \"police_headcount_scaled\", \"value\": 0.2645096325148554}, {\"area_code\": \"E09000032\", \"area_name\": \"Wandsworth\", \"feature\": \"police_headcount_scaled\", \"value\": 0.22083411713934778}, {\"area_code\": \"E09000033\", \"area_name\": \"Westminster\", \"feature\": \"police_headcount_scaled\", \"value\": 0.7274392280683599}]}}, {\"mode\": \"vega-lite\"});\n",
       "</script>"
      ],
      "text/plain": [
       "alt.Chart(...)"
      ]
     },
     "execution_count": 156,
     "metadata": {},
     "output_type": "execute_result"
    }
   ],
   "source": [
    "alt.Chart(london_crime_socio_tidy, title = 'distribution').mark_circle(size=60).encode(\n",
    "    x=alt.X('value:Q', axis=alt.Axis(title='value', ticks=False)),\n",
    "    y=alt.Y('feature:N', axis=alt.Axis(title=None, ticks=False)),  \n",
    "    tooltip=['area_name', 'value']\n",
    ").configure_axis(\n",
    "    grid=False,\n",
    "    domain=False\n",
    ").configure_view(\n",
    "    strokeWidth=0\n",
    ").properties(height=200, \n",
    "             width=600\n",
    ").interactive()"
   ]
  },
  {
   "cell_type": "markdown",
   "metadata": {},
   "source": [
    "### Comments\n",
    "Data distribution looks better so now perform correlation analysis\n",
    "\n",
    "## 4. Produce pearson and spearman correlations for each factor versus serious violent crime\n",
    "We will look at numerically and visually\n",
    "\n",
    "### 4.1. Derive Spearman correlation"
   ]
  },
  {
   "cell_type": "code",
   "execution_count": 158,
   "metadata": {},
   "outputs": [],
   "source": [
    "import scipy.stats as stats\n",
    "def PearsonSpearman(feature, outcome, feature_desc):\n",
    "    corrSpearman, pValSpearman = stats.spearmanr(feature, outcome)\n",
    "    correlation_result = {'Feature': feature_desc, 'Spearman Correlation': corrSpearman, 'Spearman Pvalue': pValSpearman}\n",
    "    \n",
    "    return correlation_result\n",
    "\n"
   ]
  },
  {
   "cell_type": "code",
   "execution_count": 163,
   "metadata": {},
   "outputs": [
    {
     "data": {
      "text/html": [
       "<div>\n",
       "<style scoped>\n",
       "    .dataframe tbody tr th:only-of-type {\n",
       "        vertical-align: middle;\n",
       "    }\n",
       "\n",
       "    .dataframe tbody tr th {\n",
       "        vertical-align: top;\n",
       "    }\n",
       "\n",
       "    .dataframe thead th {\n",
       "        text-align: right;\n",
       "    }\n",
       "</style>\n",
       "<table border=\"1\" class=\"dataframe\">\n",
       "  <thead>\n",
       "    <tr style=\"text-align: right;\">\n",
       "      <th></th>\n",
       "      <th>Feature</th>\n",
       "      <th>Spearman Correlation</th>\n",
       "      <th>Spearman Pvalue</th>\n",
       "    </tr>\n",
       "  </thead>\n",
       "  <tbody>\n",
       "    <tr>\n",
       "      <th>0</th>\n",
       "      <td>child income deprivation</td>\n",
       "      <td>0.764986</td>\n",
       "      <td>3.423413e-07</td>\n",
       "    </tr>\n",
       "    <tr>\n",
       "      <th>3</th>\n",
       "      <td>looked_after_rate_scaled</td>\n",
       "      <td>0.529515</td>\n",
       "      <td>1.830091e-03</td>\n",
       "    </tr>\n",
       "    <tr>\n",
       "      <th>4</th>\n",
       "      <td>police_headcount_scaled</td>\n",
       "      <td>0.474979</td>\n",
       "      <td>6.013772e-03</td>\n",
       "    </tr>\n",
       "    <tr>\n",
       "      <th>2</th>\n",
       "      <td>exclusion_rate</td>\n",
       "      <td>0.188984</td>\n",
       "      <td>3.002530e-01</td>\n",
       "    </tr>\n",
       "    <tr>\n",
       "      <th>1</th>\n",
       "      <td>mental_health_rate</td>\n",
       "      <td>-0.203446</td>\n",
       "      <td>2.640780e-01</td>\n",
       "    </tr>\n",
       "  </tbody>\n",
       "</table>\n",
       "</div>"
      ],
      "text/plain": [
       "                    Feature  Spearman Correlation  Spearman Pvalue\n",
       "0  child income deprivation              0.764986     3.423413e-07\n",
       "3  looked_after_rate_scaled              0.529515     1.830091e-03\n",
       "4   police_headcount_scaled              0.474979     6.013772e-03\n",
       "2            exclusion_rate              0.188984     3.002530e-01\n",
       "1        mental_health_rate             -0.203446     2.640780e-01"
      ]
     },
     "execution_count": 163,
     "metadata": {},
     "output_type": "execute_result"
    }
   ],
   "source": [
    "correlation_results = pd.DataFrame(columns=['Feature', 'Spearman Correlation', 'Spearman Pvalue'])\n",
    "\n",
    "correlation_results = correlation_results.append(PearsonSpearman(london_crime_socio_tidy['value'][london_crime_socio_tidy.feature == 'crime_rate_scaled'], \n",
    "                                                                 london_crime_socio_tidy['value'][london_crime_socio_tidy.feature == 'child_income_deprivation_score'], \n",
    "                                                                 'child income deprivation'), ignore_index=True)\n",
    "\n",
    "correlation_results = correlation_results.append(PearsonSpearman(london_crime_socio_tidy['value'][london_crime_socio_tidy.feature == 'crime_rate_scaled'], \n",
    "                                                                 london_crime_socio_tidy['value'][london_crime_socio_tidy.feature == 'mental_health_rate'], \n",
    "                                                                 'mental_health_rate'), ignore_index=True)\n",
    "\n",
    "correlation_results = correlation_results.append(PearsonSpearman(london_crime_socio_tidy['value'][london_crime_socio_tidy.feature == 'crime_rate_scaled'], \n",
    "                                                                 london_crime_socio_tidy['value'][london_crime_socio_tidy.feature == 'exclusion_rate'], \n",
    "                                                                 'exclusion_rate'), ignore_index=True)\n",
    "\n",
    "correlation_results = correlation_results.append(PearsonSpearman(london_crime_socio_tidy['value'][london_crime_socio_tidy.feature == 'crime_rate_scaled'], \n",
    "                                                                 london_crime_socio_tidy['value'][london_crime_socio_tidy.feature == 'looked_after_rate_scaled'], \n",
    "                                                                 'looked_after_rate_scaled'), ignore_index=True)\n",
    "\n",
    "correlation_results = correlation_results.append(PearsonSpearman(london_crime_socio_tidy['value'][london_crime_socio_tidy.feature == 'crime_rate_scaled'], \n",
    "                                                                 london_crime_socio_tidy['value'][london_crime_socio_tidy.feature == 'police_headcount_scaled'], \n",
    "                                                                 'police_headcount_scaled'), ignore_index=True)\n",
    "\n",
    "sorted_correlations = correlation_results.sort_values(by='Spearman Correlation', ascending=False)\n",
    "sorted_correlations"
   ]
  },
  {
   "cell_type": "markdown",
   "metadata": {},
   "source": [
    "### Comments\n",
    "Child income deprivation is by far the highest correlating, higher even that the correlations at LSOA level and so this seems faily conclusive.\n",
    "\n",
    "### 4.2. Correlation visualisations\n",
    "#### 4.2.1 Correlation bar chart"
   ]
  },
  {
   "cell_type": "code",
   "execution_count": 170,
   "metadata": {},
   "outputs": [
    {
     "data": {
      "text/html": [
       "\n",
       "<div id=\"altair-viz-d187a52a190a4b14a63b587974e5d6d5\"></div>\n",
       "<script type=\"text/javascript\">\n",
       "  (function(spec, embedOpt){\n",
       "    let outputDiv = document.currentScript.previousElementSibling;\n",
       "    if (outputDiv.id !== \"altair-viz-d187a52a190a4b14a63b587974e5d6d5\") {\n",
       "      outputDiv = document.getElementById(\"altair-viz-d187a52a190a4b14a63b587974e5d6d5\");\n",
       "    }\n",
       "    const paths = {\n",
       "      \"vega\": \"https://cdn.jsdelivr.net/npm//vega@5?noext\",\n",
       "      \"vega-lib\": \"https://cdn.jsdelivr.net/npm//vega-lib?noext\",\n",
       "      \"vega-lite\": \"https://cdn.jsdelivr.net/npm//vega-lite@4.8.1?noext\",\n",
       "      \"vega-embed\": \"https://cdn.jsdelivr.net/npm//vega-embed@6?noext\",\n",
       "    };\n",
       "\n",
       "    function loadScript(lib) {\n",
       "      return new Promise(function(resolve, reject) {\n",
       "        var s = document.createElement('script');\n",
       "        s.src = paths[lib];\n",
       "        s.async = true;\n",
       "        s.onload = () => resolve(paths[lib]);\n",
       "        s.onerror = () => reject(`Error loading script: ${paths[lib]}`);\n",
       "        document.getElementsByTagName(\"head\")[0].appendChild(s);\n",
       "      });\n",
       "    }\n",
       "\n",
       "    function showError(err) {\n",
       "      outputDiv.innerHTML = `<div class=\"error\" style=\"color:red;\">${err}</div>`;\n",
       "      throw err;\n",
       "    }\n",
       "\n",
       "    function displayChart(vegaEmbed) {\n",
       "      vegaEmbed(outputDiv, spec, embedOpt)\n",
       "        .catch(err => showError(`Javascript Error: ${err.message}<br>This usually means there's a typo in your chart specification. See the javascript console for the full traceback.`));\n",
       "    }\n",
       "\n",
       "    if(typeof define === \"function\" && define.amd) {\n",
       "      requirejs.config({paths});\n",
       "      require([\"vega-embed\"], displayChart, err => showError(`Error loading script: ${err.message}`));\n",
       "    } else if (typeof vegaEmbed === \"function\") {\n",
       "      displayChart(vegaEmbed);\n",
       "    } else {\n",
       "      loadScript(\"vega\")\n",
       "        .then(() => loadScript(\"vega-lite\"))\n",
       "        .then(() => loadScript(\"vega-embed\"))\n",
       "        .catch(showError)\n",
       "        .then(() => displayChart(vegaEmbed));\n",
       "    }\n",
       "  })({\"config\": {\"view\": {\"continuousWidth\": 400, \"continuousHeight\": 300, \"strokeWidth\": 0}, \"axis\": {\"domain\": false, \"grid\": false}}, \"layer\": [{\"mark\": {\"type\": \"bar\", \"color\": \"firebrick\", \"opacity\": 0.6}, \"encoding\": {\"x\": {\"type\": \"quantitative\", \"axis\": {\"ticks\": false, \"title\": \"correlation\", \"values\": [-0.2, 0, 0.2, 0.4, 0.6]}, \"field\": \"Spearman Correlation\"}, \"y\": {\"type\": \"nominal\", \"axis\": {\"ticks\": false, \"title\": null}, \"field\": \"Feature\", \"sort\": \"-x\"}}, \"title\": \"Speaman correlations between features and crime rate\"}, {\"mark\": {\"type\": \"text\", \"align\": \"center\", \"baseline\": \"middle\", \"color\": \"black\", \"dx\": 20}, \"encoding\": {\"text\": {\"type\": \"quantitative\", \"field\": \"Spearman Correlation\", \"format\": \",.3r\"}, \"x\": {\"type\": \"quantitative\", \"axis\": {\"ticks\": false, \"title\": \"correlation\", \"values\": [-0.2, 0, 0.2, 0.4, 0.6]}, \"field\": \"Spearman Correlation\"}, \"y\": {\"type\": \"nominal\", \"axis\": {\"ticks\": false, \"title\": null}, \"field\": \"Feature\", \"sort\": \"-x\"}}}], \"data\": {\"name\": \"data-b474e77fed6a733b2a77525d5c8974cf\"}, \"height\": 120, \"width\": 500, \"$schema\": \"https://vega.github.io/schema/vega-lite/v4.8.1.json\", \"datasets\": {\"data-b474e77fed6a733b2a77525d5c8974cf\": [{\"Feature\": \"child income deprivation\", \"Spearman Correlation\": 0.7649862639996147, \"Spearman Pvalue\": 3.423413188635873e-07}, {\"Feature\": \"looked_after_rate_scaled\", \"Spearman Correlation\": 0.5295151725161505, \"Spearman Pvalue\": 0.0018300913655911572}, {\"Feature\": \"police_headcount_scaled\", \"Spearman Correlation\": 0.47497921834888973, \"Spearman Pvalue\": 0.006013771523123098}, {\"Feature\": \"exclusion_rate\", \"Spearman Correlation\": 0.18898359533133835, \"Spearman Pvalue\": 0.30025296703988924}, {\"Feature\": \"mental_health_rate\", \"Spearman Correlation\": -0.2034457478005865, \"Spearman Pvalue\": 0.2640779721039491}]}}, {\"mode\": \"vega-lite\"});\n",
       "</script>"
      ],
      "text/plain": [
       "alt.LayerChart(...)"
      ]
     },
     "execution_count": 170,
     "metadata": {},
     "output_type": "execute_result"
    }
   ],
   "source": [
    "bars_1 = alt.Chart(sorted_correlations, title='Speaman correlations between features and crime rate').mark_bar(opacity=0.6, color='firebrick').encode(\n",
    "    x=alt.X('Spearman Correlation:Q', axis=alt.Axis(title='correlation', ticks=False, values=[-0.2, 0, 0.2, 0.4, 0.6])),\n",
    "    y=alt.Y('Feature:N', axis=alt.Axis(title=None, ticks=False), sort='-x')\n",
    ")\n",
    "\n",
    "text_1 = alt.Chart(sorted_correlations).mark_text(\n",
    "    align='center',\n",
    "    baseline='middle',\n",
    "    color='black',\n",
    "    dx=20  # Nudges text to left so it doesn't appear on top of the bar\n",
    ").encode(\n",
    "    x=alt.X('Spearman Correlation:Q', axis=alt.Axis(title='correlation', ticks=False, values=[-0.2, 0, 0.2,0.4, 0.6])),\n",
    "    y=alt.Y('Feature:N', axis=alt.Axis(title=None, ticks=False), sort='-x'),\n",
    "    text=alt.Text('Spearman Correlation:Q', format=',.3r')\n",
    ")\n",
    "\n",
    "(bars_1 + text_1).configure_axis(\n",
    "    grid=False,\n",
    "    domain=False\n",
    ").configure_view(\n",
    "    strokeWidth=0).properties(height=120, width=500)"
   ]
  },
  {
   "cell_type": "markdown",
   "metadata": {},
   "source": [
    "#### 4.2.2 Create a wide dataframe in preparation for scatter chart"
   ]
  },
  {
   "cell_type": "code",
   "execution_count": 172,
   "metadata": {},
   "outputs": [
    {
     "data": {
      "text/html": [
       "<div>\n",
       "<style scoped>\n",
       "    .dataframe tbody tr th:only-of-type {\n",
       "        vertical-align: middle;\n",
       "    }\n",
       "\n",
       "    .dataframe tbody tr th {\n",
       "        vertical-align: top;\n",
       "    }\n",
       "\n",
       "    .dataframe thead th {\n",
       "        text-align: right;\n",
       "    }\n",
       "</style>\n",
       "<table border=\"1\" class=\"dataframe\">\n",
       "  <thead>\n",
       "    <tr style=\"text-align: right;\">\n",
       "      <th>feature</th>\n",
       "      <th>area_name</th>\n",
       "      <th>child_income_deprivation_score</th>\n",
       "      <th>crime_rate_scaled</th>\n",
       "      <th>exclusion_rate</th>\n",
       "      <th>looked_after_rate_scaled</th>\n",
       "      <th>mental_health_rate</th>\n",
       "      <th>police_headcount_scaled</th>\n",
       "    </tr>\n",
       "  </thead>\n",
       "  <tbody>\n",
       "    <tr>\n",
       "      <th>0</th>\n",
       "      <td>Barking and Dagenham</td>\n",
       "      <td>0.2365</td>\n",
       "      <td>0.371870</td>\n",
       "      <td>0.05963</td>\n",
       "      <td>0.672131</td>\n",
       "      <td>0.119101</td>\n",
       "      <td>0.144715</td>\n",
       "    </tr>\n",
       "    <tr>\n",
       "      <th>1</th>\n",
       "      <td>Barnet</td>\n",
       "      <td>0.1000</td>\n",
       "      <td>0.108421</td>\n",
       "      <td>0.05384</td>\n",
       "      <td>0.147541</td>\n",
       "      <td>0.120642</td>\n",
       "      <td>0.294021</td>\n",
       "    </tr>\n",
       "    <tr>\n",
       "      <th>2</th>\n",
       "      <td>Bexley</td>\n",
       "      <td>0.1315</td>\n",
       "      <td>0.108028</td>\n",
       "      <td>0.10019</td>\n",
       "      <td>0.245902</td>\n",
       "      <td>0.121609</td>\n",
       "      <td>0.294021</td>\n",
       "    </tr>\n",
       "    <tr>\n",
       "      <th>3</th>\n",
       "      <td>Brent</td>\n",
       "      <td>0.1560</td>\n",
       "      <td>0.269866</td>\n",
       "      <td>0.06071</td>\n",
       "      <td>0.213115</td>\n",
       "      <td>0.120984</td>\n",
       "      <td>0.294021</td>\n",
       "    </tr>\n",
       "    <tr>\n",
       "      <th>4</th>\n",
       "      <td>Bromley</td>\n",
       "      <td>0.0820</td>\n",
       "      <td>0.063413</td>\n",
       "      <td>0.09537</td>\n",
       "      <td>0.344262</td>\n",
       "      <td>0.121004</td>\n",
       "      <td>0.294021</td>\n",
       "    </tr>\n",
       "  </tbody>\n",
       "</table>\n",
       "</div>"
      ],
      "text/plain": [
       "feature             area_name  child_income_deprivation_score  \\\n",
       "0        Barking and Dagenham                          0.2365   \n",
       "1                      Barnet                          0.1000   \n",
       "2                      Bexley                          0.1315   \n",
       "3                       Brent                          0.1560   \n",
       "4                     Bromley                          0.0820   \n",
       "\n",
       "feature  crime_rate_scaled  exclusion_rate  looked_after_rate_scaled  \\\n",
       "0                 0.371870         0.05963                  0.672131   \n",
       "1                 0.108421         0.05384                  0.147541   \n",
       "2                 0.108028         0.10019                  0.245902   \n",
       "3                 0.269866         0.06071                  0.213115   \n",
       "4                 0.063413         0.09537                  0.344262   \n",
       "\n",
       "feature  mental_health_rate  police_headcount_scaled  \n",
       "0                  0.119101                 0.144715  \n",
       "1                  0.120642                 0.294021  \n",
       "2                  0.121609                 0.294021  \n",
       "3                  0.120984                 0.294021  \n",
       "4                  0.121004                 0.294021  "
      ]
     },
     "execution_count": 172,
     "metadata": {},
     "output_type": "execute_result"
    }
   ],
   "source": [
    "london_crime_socio_wide = london_crime_socio_tidy.pivot_table(index=['area_name'], \n",
    "                                    columns='feature', values='value').reset_index()\n",
    "\n",
    "\n",
    "london_crime_socio_wide.head()"
   ]
  },
  {
   "cell_type": "markdown",
   "metadata": {},
   "source": [
    "#### 4.2.3 Scatter plots"
   ]
  },
  {
   "cell_type": "code",
   "execution_count": 183,
   "metadata": {},
   "outputs": [],
   "source": [
    "chart_1 = alt.Chart(london_crime_socio_wide, title='child income deprivation vs crime rate').mark_point().encode(\n",
    "    x=alt.X('child_income_deprivation_score:Q', axis=alt.Axis(title='child income deprivation', ticks=False)),\n",
    "    y=alt.Y('crime_rate_scaled:Q', axis=alt.Axis(title='crime rate', ticks=False)), \n",
    "    tooltip=['area_name:N', 'crime_rate_scaled']\n",
    ")\n",
    "\n",
    "line_1 = chart_1.transform_regression('child_income_deprivation_score', 'crime_rate_scaled').mark_line(color='red')\n",
    "\n",
    "chart_2 = alt.Chart(london_crime_socio_wide, title='headcount vs crime rate').mark_point().encode(\n",
    "    x=alt.X('police_headcount_scaled:Q', axis=alt.Axis(title='headcount', ticks=False)),\n",
    "    y=alt.Y('crime_rate_scaled:Q', axis=alt.Axis(title='crime rate', ticks=False)), \n",
    "    tooltip=['area_name:N', 'crime_rate_scaled']\n",
    ")\n",
    "\n",
    "line_2 = chart_2.transform_regression('police_headcount_scaled', 'crime_rate_scaled').mark_line(color='red')\n",
    "\n",
    "child_income_chart = (chart_1 + line_1).properties(height=300, width=300)\n",
    "headcount_chart = (chart_2 + line_2).properties(height=300, width=300)"
   ]
  },
  {
   "cell_type": "code",
   "execution_count": 184,
   "metadata": {},
   "outputs": [
    {
     "data": {
      "text/html": [
       "\n",
       "<div id=\"altair-viz-fb6c7639b3df4d7090b5275bb7ffe01a\"></div>\n",
       "<script type=\"text/javascript\">\n",
       "  (function(spec, embedOpt){\n",
       "    let outputDiv = document.currentScript.previousElementSibling;\n",
       "    if (outputDiv.id !== \"altair-viz-fb6c7639b3df4d7090b5275bb7ffe01a\") {\n",
       "      outputDiv = document.getElementById(\"altair-viz-fb6c7639b3df4d7090b5275bb7ffe01a\");\n",
       "    }\n",
       "    const paths = {\n",
       "      \"vega\": \"https://cdn.jsdelivr.net/npm//vega@5?noext\",\n",
       "      \"vega-lib\": \"https://cdn.jsdelivr.net/npm//vega-lib?noext\",\n",
       "      \"vega-lite\": \"https://cdn.jsdelivr.net/npm//vega-lite@4.8.1?noext\",\n",
       "      \"vega-embed\": \"https://cdn.jsdelivr.net/npm//vega-embed@6?noext\",\n",
       "    };\n",
       "\n",
       "    function loadScript(lib) {\n",
       "      return new Promise(function(resolve, reject) {\n",
       "        var s = document.createElement('script');\n",
       "        s.src = paths[lib];\n",
       "        s.async = true;\n",
       "        s.onload = () => resolve(paths[lib]);\n",
       "        s.onerror = () => reject(`Error loading script: ${paths[lib]}`);\n",
       "        document.getElementsByTagName(\"head\")[0].appendChild(s);\n",
       "      });\n",
       "    }\n",
       "\n",
       "    function showError(err) {\n",
       "      outputDiv.innerHTML = `<div class=\"error\" style=\"color:red;\">${err}</div>`;\n",
       "      throw err;\n",
       "    }\n",
       "\n",
       "    function displayChart(vegaEmbed) {\n",
       "      vegaEmbed(outputDiv, spec, embedOpt)\n",
       "        .catch(err => showError(`Javascript Error: ${err.message}<br>This usually means there's a typo in your chart specification. See the javascript console for the full traceback.`));\n",
       "    }\n",
       "\n",
       "    if(typeof define === \"function\" && define.amd) {\n",
       "      requirejs.config({paths});\n",
       "      require([\"vega-embed\"], displayChart, err => showError(`Error loading script: ${err.message}`));\n",
       "    } else if (typeof vegaEmbed === \"function\") {\n",
       "      displayChart(vegaEmbed);\n",
       "    } else {\n",
       "      loadScript(\"vega\")\n",
       "        .then(() => loadScript(\"vega-lite\"))\n",
       "        .then(() => loadScript(\"vega-embed\"))\n",
       "        .catch(showError)\n",
       "        .then(() => displayChart(vegaEmbed));\n",
       "    }\n",
       "  })({\"config\": {\"view\": {\"continuousWidth\": 400, \"continuousHeight\": 300, \"strokeWidth\": 0}, \"axis\": {\"domain\": false, \"grid\": false}}, \"hconcat\": [{\"layer\": [{\"mark\": \"point\", \"encoding\": {\"tooltip\": [{\"type\": \"nominal\", \"field\": \"area_name\"}, {\"type\": \"quantitative\", \"field\": \"crime_rate_scaled\"}], \"x\": {\"type\": \"quantitative\", \"axis\": {\"ticks\": false, \"title\": \"child income deprivation\"}, \"field\": \"child_income_deprivation_score\"}, \"y\": {\"type\": \"quantitative\", \"axis\": {\"ticks\": false, \"title\": \"crime rate\"}, \"field\": \"crime_rate_scaled\"}}, \"title\": \"child income deprivation vs crime rate\"}, {\"mark\": {\"type\": \"line\", \"color\": \"red\"}, \"encoding\": {\"tooltip\": [{\"type\": \"nominal\", \"field\": \"area_name\"}, {\"type\": \"quantitative\", \"field\": \"crime_rate_scaled\"}], \"x\": {\"type\": \"quantitative\", \"axis\": {\"ticks\": false, \"title\": \"child income deprivation\"}, \"field\": \"child_income_deprivation_score\"}, \"y\": {\"type\": \"quantitative\", \"axis\": {\"ticks\": false, \"title\": \"crime rate\"}, \"field\": \"crime_rate_scaled\"}}, \"title\": \"child income deprivation vs crime rate\", \"transform\": [{\"on\": \"child_income_deprivation_score\", \"regression\": \"crime_rate_scaled\"}]}], \"height\": 300, \"width\": 300}, {\"layer\": [{\"mark\": \"point\", \"encoding\": {\"tooltip\": [{\"type\": \"nominal\", \"field\": \"area_name\"}, {\"type\": \"quantitative\", \"field\": \"crime_rate_scaled\"}], \"x\": {\"type\": \"quantitative\", \"axis\": {\"ticks\": false, \"title\": \"headcount\"}, \"field\": \"police_headcount_scaled\"}, \"y\": {\"type\": \"quantitative\", \"axis\": {\"ticks\": false, \"title\": \"crime rate\"}, \"field\": \"crime_rate_scaled\"}}, \"title\": \"headcount vs crime rate\"}, {\"mark\": {\"type\": \"line\", \"color\": \"red\"}, \"encoding\": {\"tooltip\": [{\"type\": \"nominal\", \"field\": \"area_name\"}, {\"type\": \"quantitative\", \"field\": \"crime_rate_scaled\"}], \"x\": {\"type\": \"quantitative\", \"axis\": {\"ticks\": false, \"title\": \"headcount\"}, \"field\": \"police_headcount_scaled\"}, \"y\": {\"type\": \"quantitative\", \"axis\": {\"ticks\": false, \"title\": \"crime rate\"}, \"field\": \"crime_rate_scaled\"}}, \"title\": \"headcount vs crime rate\", \"transform\": [{\"on\": \"police_headcount_scaled\", \"regression\": \"crime_rate_scaled\"}]}], \"height\": 300, \"width\": 300}], \"data\": {\"name\": \"data-e65b8bc038a2473a8aa0037f740931dc\"}, \"$schema\": \"https://vega.github.io/schema/vega-lite/v4.8.1.json\", \"datasets\": {\"data-e65b8bc038a2473a8aa0037f740931dc\": [{\"area_name\": \"Barking and Dagenham\", \"child_income_deprivation_score\": 0.2365, \"crime_rate_scaled\": 0.3718699238005821, \"exclusion_rate\": 0.05963, \"looked_after_rate_scaled\": 0.6721311475409836, \"mental_health_rate\": 0.11910064415608576, \"police_headcount_scaled\": 0.14471456551327302}, {\"area_name\": \"Barnet\", \"child_income_deprivation_score\": 0.1, \"crime_rate_scaled\": 0.10842128800636977, \"exclusion_rate\": 0.05384, \"looked_after_rate_scaled\": 0.14754098360655737, \"mental_health_rate\": 0.12064211094156994, \"police_headcount_scaled\": 0.2940213121465957}, {\"area_name\": \"Bexley\", \"child_income_deprivation_score\": 0.1315, \"crime_rate_scaled\": 0.108028219044419, \"exclusion_rate\": 0.10019, \"looked_after_rate_scaled\": 0.2459016393442623, \"mental_health_rate\": 0.12160884853548261, \"police_headcount_scaled\": 0.2940213121465957}, {\"area_name\": \"Brent\", \"child_income_deprivation_score\": 0.156, \"crime_rate_scaled\": 0.2698660296244944, \"exclusion_rate\": 0.06071, \"looked_after_rate_scaled\": 0.21311475409836064, \"mental_health_rate\": 0.12098428169335515, \"police_headcount_scaled\": 0.2940213121465957}, {\"area_name\": \"Bromley\", \"child_income_deprivation_score\": 0.08199999999999999, \"crime_rate_scaled\": 0.06341295745194199, \"exclusion_rate\": 0.09537, \"looked_after_rate_scaled\": 0.3442622950819672, \"mental_health_rate\": 0.1210035433595311, \"police_headcount_scaled\": 0.2940213121465957}, {\"area_name\": \"Camden\", \"child_income_deprivation_score\": 0.19699999999999998, \"crime_rate_scaled\": 0.36466163788946965, \"exclusion_rate\": 0.08087, \"looked_after_rate_scaled\": 0.19672131147540983, \"mental_health_rate\": 0.12057948287154369, \"police_headcount_scaled\": 0.3580684069004437}, {\"area_name\": \"Croydon\", \"child_income_deprivation_score\": 0.1605, \"crime_rate_scaled\": 0.24520528828905072, \"exclusion_rate\": 0.0624, \"looked_after_rate_scaled\": 0.9054838978876101, \"mental_health_rate\": 0.12096906228816752, \"police_headcount_scaled\": 0.4079074039238251}, {\"area_name\": \"Ealing\", \"child_income_deprivation_score\": 0.1535, \"crime_rate_scaled\": 0.2210429086262712, \"exclusion_rate\": 0.10753, \"looked_after_rate_scaled\": 0.29508196721311475, \"mental_health_rate\": 0.12035289828072604, \"police_headcount_scaled\": 0.35547908067853623}, {\"area_name\": \"Enfield\", \"child_income_deprivation_score\": 0.209, \"crime_rate_scaled\": 0.2825679497334239, \"exclusion_rate\": 0.03598, \"looked_after_rate_scaled\": 0.32786885245901637, \"mental_health_rate\": 0.12099263276304965, \"police_headcount_scaled\": 0.27265383806752164}, {\"area_name\": \"Greenwich\", \"child_income_deprivation_score\": 0.19899999999999998, \"crime_rate_scaled\": 0.28584675348373395, \"exclusion_rate\": 0.06245, \"looked_after_rate_scaled\": 0.7377049180327869, \"mental_health_rate\": 0.11998517009174713, \"police_headcount_scaled\": 0.2940213121465957}, {\"area_name\": \"Hackney\", \"child_income_deprivation_score\": 0.2515, \"crime_rate_scaled\": 0.4439905004966691, \"exclusion_rate\": 0.12676, \"looked_after_rate_scaled\": 0.639344262295082, \"mental_health_rate\": 0.12020343728605491, \"police_headcount_scaled\": 0.3125006915935421}, {\"area_name\": \"Hammersmith and Fulham\", \"child_income_deprivation_score\": 0.16, \"crime_rate_scaled\": 0.33915180711331294, \"exclusion_rate\": 0.05384, \"looked_after_rate_scaled\": 0.6721311475409836, \"mental_health_rate\": 0.11880233098333265, \"police_headcount_scaled\": 0.1939006982328402}, {\"area_name\": \"Haringey\", \"child_income_deprivation_score\": 0.20800000000000002, \"crime_rate_scaled\": 0.5229252709921205, \"exclusion_rate\": 0.05703, \"looked_after_rate_scaled\": 0.7540983606557377, \"mental_health_rate\": 0.12182921070330514, \"police_headcount_scaled\": 0.30679089530933595}, {\"area_name\": \"Harrow\", \"child_income_deprivation_score\": 0.11, \"crime_rate_scaled\": 0.08795670218308309, \"exclusion_rate\": 0.08886, \"looked_after_rate_scaled\": 0.06557377049180328, \"mental_health_rate\": 0.12119298713601914, \"police_headcount_scaled\": 0.2940213121465957}, {\"area_name\": \"Havering\", \"child_income_deprivation_score\": 0.126, \"crime_rate_scaled\": 0.11230694446299704, \"exclusion_rate\": 0.04314, \"looked_after_rate_scaled\": 0.29508196721311475, \"mental_health_rate\": 0.12188211524323775, \"police_headcount_scaled\": 0.07009992143497357}, {\"area_name\": \"Hillingdon\", \"child_income_deprivation_score\": 0.13699999999999998, \"crime_rate_scaled\": 0.15452700257674895, \"exclusion_rate\": 0.06524, \"looked_after_rate_scaled\": 0.3114754098360656, \"mental_health_rate\": 0.12071117387572607, \"police_headcount_scaled\": 0.203649400803355}, {\"area_name\": \"Hounslow\", \"child_income_deprivation_score\": 0.156, \"crime_rate_scaled\": 0.2213384482819394, \"exclusion_rate\": 0.05872, \"looked_after_rate_scaled\": 0.29508196721311475, \"mental_health_rate\": 0.11960082194952536, \"police_headcount_scaled\": 0.2940213121465957}, {\"area_name\": \"Islington\", \"child_income_deprivation_score\": 0.27699999999999997, \"crime_rate_scaled\": 0.3989254947607532, \"exclusion_rate\": 0.09627, \"looked_after_rate_scaled\": 0.8032786885245902, \"mental_health_rate\": 0.12023481581471351, \"police_headcount_scaled\": 0.2940213121465957}, {\"area_name\": \"Kensington and Chelsea\", \"child_income_deprivation_score\": 0.081, \"crime_rate_scaled\": 0.3774071330015223, \"exclusion_rate\": 0.14599, \"looked_after_rate_scaled\": 0.11475409836065574, \"mental_health_rate\": 0.12052247068177302, \"police_headcount_scaled\": 0.22690907481382303}, {\"area_name\": \"Kingston upon Thames\", \"child_income_deprivation_score\": 0.0875, \"crime_rate_scaled\": 0.10018726963338503, \"exclusion_rate\": 0.02731, \"looked_after_rate_scaled\": 0.13114754098360656, \"mental_health_rate\": 0.12015677919203098, \"police_headcount_scaled\": 0.2940213121465957}, {\"area_name\": \"Lambeth\", \"child_income_deprivation_score\": 0.225, \"crime_rate_scaled\": 0.35582330503672255, \"exclusion_rate\": 0.05718, \"looked_after_rate_scaled\": 0.5081967213114754, \"mental_health_rate\": 0.12048903058845474, \"police_headcount_scaled\": 0.5081497383010036}, {\"area_name\": \"Lewisham\", \"child_income_deprivation_score\": 0.22399999999999998, \"crime_rate_scaled\": 0.2967546761579783, \"exclusion_rate\": 0.05507, \"looked_after_rate_scaled\": 0.7540983606557377, \"mental_health_rate\": 0.11995173577837792, \"police_headcount_scaled\": 0.3386816567261621}, {\"area_name\": \"Merton\", \"child_income_deprivation_score\": 0.10950000000000001, \"crime_rate_scaled\": 0.08026637689518457, \"exclusion_rate\": 0.08008, \"looked_after_rate_scaled\": 0.13114754098360656, \"mental_health_rate\": 0.11960383703656878, \"police_headcount_scaled\": 0.03621737061668015}, {\"area_name\": \"Newham\", \"child_income_deprivation_score\": 0.187, \"crime_rate_scaled\": 0.3370523540268592, \"exclusion_rate\": 0.07383, \"looked_after_rate_scaled\": 0.3114754098360656, \"mental_health_rate\": 0.12063912083676437, \"police_headcount_scaled\": 0.4714012238439322}, {\"area_name\": \"Redbridge\", \"child_income_deprivation_score\": 0.121, \"crime_rate_scaled\": 0.13561006185282976, \"exclusion_rate\": 0.08809, \"looked_after_rate_scaled\": 0.09836065573770492, \"mental_health_rate\": 0.12150805310902815, \"police_headcount_scaled\": 0.1884232773788051}, {\"area_name\": \"Richmond upon Thames\", \"child_income_deprivation_score\": 0.055, \"crime_rate_scaled\": 0.0, \"exclusion_rate\": 0.05428, \"looked_after_rate_scaled\": 0.0, \"mental_health_rate\": 0.11976107031736155, \"police_headcount_scaled\": 0.2940213121465957}, {\"area_name\": \"Southwark\", \"child_income_deprivation_score\": 0.2475, \"crime_rate_scaled\": 0.43957296290442227, \"exclusion_rate\": 0.08324, \"looked_after_rate_scaled\": 0.7377049180327869, \"mental_health_rate\": 0.11972466224798504, \"police_headcount_scaled\": 0.4688008321253499}, {\"area_name\": \"Sutton\", \"child_income_deprivation_score\": 0.086, \"crime_rate_scaled\": 0.06626792287111724, \"exclusion_rate\": 0.07333, \"looked_after_rate_scaled\": 0.39344262295081966, \"mental_health_rate\": 0.12065604841113695, \"police_headcount_scaled\": 0.0}, {\"area_name\": \"Tower Hamlets\", \"child_income_deprivation_score\": 0.259, \"crime_rate_scaled\": 0.29871093435471674, \"exclusion_rate\": 0.01343, \"looked_after_rate_scaled\": 0.3442622950819672, \"mental_health_rate\": 0.12022387039560486, \"police_headcount_scaled\": 0.3662236779497848}, {\"area_name\": \"Waltham Forest\", \"child_income_deprivation_score\": 0.17300000000000001, \"crime_rate_scaled\": 0.15593471897957434, \"exclusion_rate\": 0.07141, \"looked_after_rate_scaled\": 0.29508196721311475, \"mental_health_rate\": 0.1201516022049926, \"police_headcount_scaled\": 0.2645096325148554}, {\"area_name\": \"Wandsworth\", \"child_income_deprivation_score\": 0.126, \"crime_rate_scaled\": 0.13305296541000158, \"exclusion_rate\": 0.04698, \"looked_after_rate_scaled\": 0.3770491803278688, \"mental_health_rate\": 0.11800176033829966, \"police_headcount_scaled\": 0.22083411713934778}, {\"area_name\": \"Westminster\", \"child_income_deprivation_score\": 0.1585, \"crime_rate_scaled\": 0.7371655954597782, \"exclusion_rate\": 0.13283, \"looked_after_rate_scaled\": 0.3114754098360656, \"mental_health_rate\": 0.12004061206572181, \"police_headcount_scaled\": 0.7274392280683599}]}}, {\"mode\": \"vega-lite\"});\n",
       "</script>"
      ],
      "text/plain": [
       "alt.HConcatChart(...)"
      ]
     },
     "execution_count": 184,
     "metadata": {},
     "output_type": "execute_result"
    }
   ],
   "source": [
    "(child_income_chart | headcount_chart).configure_axis(\n",
    "    grid=False,\n",
    "    domain=False\n",
    ").configure_view(\n",
    "    strokeWidth=0)"
   ]
  },
  {
   "cell_type": "markdown",
   "metadata": {},
   "source": [
    "#### 4.2.4 Correlation matrix"
   ]
  },
  {
   "cell_type": "code",
   "execution_count": 188,
   "metadata": {},
   "outputs": [
    {
     "data": {
      "image/png": "[encoded data removed]",
      "text/plain": [
       "<Figure size 576x576 with 2 Axes>"
      ]
     },
     "metadata": {
      "needs_background": "light"
     },
     "output_type": "display_data"
    }
   ],
   "source": [
    "# extract numeric data\n",
    "dataset = london_crime_socio_wide[['crime_rate_scaled',\n",
    "                                'child_income_deprivation_score',\n",
    "                                'exclusion_rate',\n",
    "                                'looked_after_rate_scaled',\n",
    "                                'mental_health_rate',\n",
    "                                'police_headcount_scaled']].copy()\n",
    "                \n",
    "# derive and plot correlations\n",
    "corr = dataset.corr()\n",
    "plt.figure(figsize = (8,8))\n",
    "\n",
    "ax = sns.heatmap(\n",
    "    corr, \n",
    "    vmin=-1, vmax=1, center=0,\n",
    "    cmap=sns.diverging_palette(20, 220, n=200),\n",
    "    square=True,\n",
    "    annot=True,\n",
    "    fmt=\".2f\"\n",
    ")"
   ]
  },
  {
   "cell_type": "markdown",
   "metadata": {},
   "source": [
    "## Conclusions\n",
    "Child income deprivation is more highly correlated with the crime rate than police force numbers. It should be noted that the numbers were missing in some cases and also outliers were amended but even so the difference in correlation is reasonably substantial\n",
    "- Particularly when we use a Spearman correlation rather than the Pearson correlation which is more robust given we have outliers.\n",
    "\n",
    "I'm a little surprised the exclusion rate isn't more highly correlated with crime and similarly child mental health rates given the GLA analysis reported both as having a high correlation."
   ]
  },
  {
   "cell_type": "code",
   "execution_count": null,
   "metadata": {},
   "outputs": [],
   "source": []
  }
 ],
 "metadata": {
  "kernelspec": {
   "display_name": "Python 3",
   "language": "python",
   "name": "python3"
  },
  "language_info": {
   "codemirror_mode": {
    "name": "ipython",
    "version": 3
   },
   "file_extension": ".py",
   "mimetype": "text/x-python",
   "name": "python",
   "nbconvert_exporter": "python",
   "pygments_lexer": "ipython3",
   "version": "3.8.3"
  }
 },
 "nbformat": 4,
 "nbformat_minor": 4
}
