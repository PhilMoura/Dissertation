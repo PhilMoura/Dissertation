{
 "cells": [
  {
   "cell_type": "markdown",
   "metadata": {},
   "source": [
    "# Social networks\n",
    "Overall project objective was as follows: <b>\"Causes of youth violent crime in London: Are opinions on its causes as expressed on Twitter more closely aligned with the ‘facts’, or with the social network to which a tweeter belongs.\"</b> What we want to assess in this notebook is whether tweeters with the same opinions cluster in the same social groups.\n",
    "\n",
    "\n",
    "\n",
    "\n",
    "Previously we analysed Twitter data to understand 'WHAT' was being discussed about serious violent crime on Twitter and used that to predict whether the opinion expressed within tweets was 'AGAINST' or 'NOT AGAINST' the causes given by the Mayor. We then used that data to infer the opinion of Twitter users ('tweeters') based on the aggregate opinion expressed across all their tweets.\n",
    "\n",
    "In this notebook we focus on the 'WHO', which is the communities that are discussing crime and the key influencers within these communities. Having identified these communities we can then see whether there is a relationship between the previsouly derived tweeter opinions and the communities to which they belong. Performing this analysis helps us answer the our second of our research questions, namely: can we identify the social groups to which users rejecting the Mayor’s evidence belong, and whether this view is widely spread within those groups?\n",
    "\n",
    "Furthermore, performing this comparison also helps us to answer our first research question, which was \"Can Twitter sentiment analysis determine the proportions of Twitter users that accept or reject the London Mayor’s evidence that ‘deprivation in the leading cause of youth violent crime in London’?\" \n",
    "\n",
    "\n",
    "- this is a useful link for academic backup for making the comparison between topic and comminuty https://www.jmir.org/2016/8/e232\n",
    "\n",
    "Unfortunately, we know the predictive capability is only moderate and the classifier produces quite different results to those we get by manually annotating. However, it is too soon to automatically conclude that it is therefore a poor predictor of tweeter opinion. This is because tweeter opinion is formed by aggregating opinions across all the tweeter's individual tweets and in aggregate form the weight of these tweets might lead to a better predictor of Tweeter opinion. While counterintuitive, this is a key principle in big data mining wherein advocates such as Anand Rajaraman present empirical evidence which suggests more data usually beats better algorithms [5]. The 'usually' is the important factor here, and we will specifically test for this in our next notebook where will will deduce whether the tweeters holding predicted opinions are clustered within similar communities.\n",
    "\n",
    "\n",
    "We have a body of tweets from which we can understand who is communication with who and by extension which communities exist within our body of tweeters. We also have a set of tweeter screen names, labeled to express whether they hold an opinion 'AGAINST' or 'NOT AGAINST' the London Mayor on the causes of crime. \n",
    "\n",
    "## Context\n",
    "\n",
    "\n",
    "\n",
    "\n",
    "### Network components\n",
    "Connected components are a subset of nodes in which each node has a minimum of one link with another node in the same subset, and any node that is a member of 'this' subset is not linked to any nodes external to the subset. \n",
    "\n",
    "In addition, for <b> directed </b> graphs we can define two types of connected components:\n",
    "- Weakly connected components, (WCC): maximal set of nodes where there exists a path in at least one direction between each pair of nodes.\n",
    "- Strongly connected components, (SCC): maximal set of nodes where there exists a path in both directions between each pair of nodes.\n",
    "\n",
    "And, within these categories we can additionally identify the weakly connected giant (WCGC), which is the largest of the weakly connected components and the strongly connected giant (SCGC), which is the largest of the strongly connected components. In effect these are the largest subgraphs within the network. Bovet et al illustrate this (incorrectly, for SCGC given arrows aren't two way) as follows:\n",
    "\n",
    "<img src=\"WCGC-SCGC.png\">\n",
    "\n",
    "\n",
    "we were going to do membership over time but that was on the expectation we could get twitter data spanning 2 years. We don't believe this is beneficial given we only have data for 1 month.\n",
    "\n",
    "Add as a conclusion:\n",
    "Strongly connected networks are two way conversations but previously we saw 75% of tweets were retweets and so this suggests the networks are far more one way and so that's why we get more useful results using weakly connected networks.\n",
    "\n",
    "\n",
    "\n",
    "I basically use two sources for this, Bovet and programminghistorian\n",
    "\n",
    "What I want to find out is basically the following:\n",
    "1. Are there obvious social clusters within our network\n",
    "2. If so, how big are they and how strong are the relationships\n",
    "3. Within these networks, who are the most important tweeters\n",
    "\n",
    "We also want to know the following general information:\n",
    "- Which users are most important, irrespective of network\n",
    "\n",
    "## Changes I need to make\n",
    "- Bring strong connections up front - say not really informative but keep an eye out for key players\n",
    "- Then do overview of degrees and centrality - explain why\n",
    "- Get components + communities\n",
    "- Do page ranking - explain why and compare with degrees"
   ]
  },
  {
   "cell_type": "code",
   "execution_count": 1,
   "metadata": {
    "scrolled": true
   },
   "outputs": [],
   "source": [
    "import datetime\n",
    "import pandas as pd\n",
    "import numpy as np\n",
    "import matplotlib.pyplot as plt"
   ]
  },
  {
   "cell_type": "code",
   "execution_count": 2,
   "metadata": {
    "scrolled": true
   },
   "outputs": [],
   "source": [
    "all_tweets = pd.read_csv(\"./DataSources/TwitterData/cleaned_tweets.csv\")"
   ]
  },
  {
   "cell_type": "code",
   "execution_count": 3,
   "metadata": {
    "scrolled": true
   },
   "outputs": [
    {
     "name": "stdout",
     "output_type": "stream",
     "text": [
      "shape before after dropping rows with all NaN\n",
      "(41706, 26)\n",
      "(41706, 26)\n",
      "index                           41651\n",
      "tweet_id                        41651\n",
      "tweet_date                      41651\n",
      "tweeter_id                      41651\n",
      "tweeter_user_name               41651\n",
      "tweeter_screen_name             41651\n",
      "tweeter_location                41651\n",
      "message_text                    41651\n",
      "in_reply_to_user_screen_name     4607\n",
      "quote_tweet_screen_name           747\n",
      "favourite_count                 41651\n",
      "retweet_count                   41651\n",
      "is_retweet                      41651\n",
      "extract_run_date                41651\n",
      "retrieved_using_search_term     41651\n",
      "retweeted                       41651\n",
      "mentioned                       41651\n",
      "hashtags                        41651\n",
      "Tweet_punct                     41651\n",
      "Tweet_tokenized                 41651\n",
      "Tweet_nonstop                   41651\n",
      "Tweet_lemmatized                41651\n",
      "Clean_MessageText               41610\n",
      "tweet_date_dt                   41651\n",
      "time_bins_12h                   41651\n",
      "day_bins                        41651\n",
      "dtype: int64\n"
     ]
    }
   ],
   "source": [
    "print(\"shape before after dropping rows with all NaN\")\n",
    "print(all_tweets.shape)\n",
    "all_tweets = all_tweets.dropna(how='all') # only drops a row when every column is NA\n",
    "\n",
    "print(all_tweets.shape)\n",
    "\n",
    "# Now check for individual NaN values\n",
    "nan_values = all_tweets[all_tweets.isna().any(axis=1)]\n",
    "print(nan_values.count())"
   ]
  },
  {
   "cell_type": "markdown",
   "metadata": {},
   "source": [
    "#### Comments\n",
    "- Set null values in_reply_to_user_screen_name and quote_tweet_screen_name fields to blanks because it's reasonable to have nothing in these fields\n",
    "- We know from prior notebooks that some tweets have null clean message text and so just set to blanks as we aren't looking at message text in this notebook"
   ]
  },
  {
   "cell_type": "code",
   "execution_count": 4,
   "metadata": {
    "scrolled": true
   },
   "outputs": [
    {
     "data": {
      "text/html": [
       "<div>\n",
       "<style scoped>\n",
       "    .dataframe tbody tr th:only-of-type {\n",
       "        vertical-align: middle;\n",
       "    }\n",
       "\n",
       "    .dataframe tbody tr th {\n",
       "        vertical-align: top;\n",
       "    }\n",
       "\n",
       "    .dataframe thead th {\n",
       "        text-align: right;\n",
       "    }\n",
       "</style>\n",
       "<table border=\"1\" class=\"dataframe\">\n",
       "  <thead>\n",
       "    <tr style=\"text-align: right;\">\n",
       "      <th></th>\n",
       "      <th>index</th>\n",
       "      <th>tweet_id</th>\n",
       "      <th>tweet_date</th>\n",
       "      <th>tweeter_id</th>\n",
       "      <th>tweeter_user_name</th>\n",
       "      <th>tweeter_screen_name</th>\n",
       "      <th>tweeter_location</th>\n",
       "      <th>message_text</th>\n",
       "      <th>in_reply_to_user_screen_name</th>\n",
       "      <th>quote_tweet_screen_name</th>\n",
       "      <th>...</th>\n",
       "      <th>mentioned</th>\n",
       "      <th>hashtags</th>\n",
       "      <th>Tweet_punct</th>\n",
       "      <th>Tweet_tokenized</th>\n",
       "      <th>Tweet_nonstop</th>\n",
       "      <th>Tweet_lemmatized</th>\n",
       "      <th>Clean_MessageText</th>\n",
       "      <th>tweet_date_dt</th>\n",
       "      <th>time_bins_12h</th>\n",
       "      <th>day_bins</th>\n",
       "    </tr>\n",
       "  </thead>\n",
       "  <tbody>\n",
       "  </tbody>\n",
       "</table>\n",
       "<p>0 rows × 26 columns</p>\n",
       "</div>"
      ],
      "text/plain": [
       "Empty DataFrame\n",
       "Columns: [index, tweet_id, tweet_date, tweeter_id, tweeter_user_name, tweeter_screen_name, tweeter_location, message_text, in_reply_to_user_screen_name, quote_tweet_screen_name, favourite_count, retweet_count, is_retweet, extract_run_date, retrieved_using_search_term, retweeted, mentioned, hashtags, Tweet_punct, Tweet_tokenized, Tweet_nonstop, Tweet_lemmatized, Clean_MessageText, tweet_date_dt, time_bins_12h, day_bins]\n",
       "Index: []\n",
       "\n",
       "[0 rows x 26 columns]"
      ]
     },
     "execution_count": 4,
     "metadata": {},
     "output_type": "execute_result"
    }
   ],
   "source": [
    "all_tweets.loc[all_tweets['in_reply_to_user_screen_name'].isna(), 'in_reply_to_user_screen_name'] = ''\n",
    "all_tweets.loc[all_tweets['quote_tweet_screen_name'].isna(), 'quote_tweet_screen_name'] = ''\n",
    "all_tweets.loc[all_tweets['Clean_MessageText'].isna(), 'Clean_MessageText'] = ''\n",
    "\n",
    "# Now check for individual NaN values\n",
    "nan_values = all_tweets[all_tweets.isna().any(axis=1)]\n",
    "\n",
    "nan_values.head()"
   ]
  },
  {
   "cell_type": "markdown",
   "metadata": {},
   "source": [
    "## Build interaction network\n",
    "There are four primary ways in which Twitter users interact: reply to, mention, retweet and quote tweet and we will create a body of interaction from our tweet dataset and use this to create our interation network. In this network, the tweeter will be vertices and the interaction between them will be the edges. Previously, when building our hashtag network, we used bespoke code to derive the strength on the edges by summing the number of times it occured. In this case we will use functions available within NetworkX to achieve the same goal.\n",
    "\n",
    "What we are trying to \n",
    "\n",
    "\n",
    "### This code draws heavily on the work of Bovet\n",
    "### https://github.com/alexbovet/network_lesson/blob/master/02_Analysis_of_Twitter_Social_Network.ipynb\n",
    "\n",
    "We will use the python module NetworkX to construct and analyze the social network.\n",
    "\n",
    "There are four types of interactions between two users in Twitter:\n",
    "- Retweet\n",
    "- Quote\n",
    "- Reply\n",
    "- Mention"
   ]
  },
  {
   "cell_type": "code",
   "execution_count": 5,
   "metadata": {
    "scrolled": true
   },
   "outputs": [],
   "source": [
    "# let's define some functions to extract the interactions from tweets\n",
    "def string_to_list(my_str):\n",
    "    delimiter = \",\"\n",
    "    my_str = my_str.replace(\"[\", \"\")\n",
    "    my_str = my_str.replace(\"]\", \"\")\n",
    "    my_str = my_str.replace(\"@\", \"\")\n",
    "    my_str = my_str.replace(\"'\", \"\")\n",
    "    my_str = my_str.replace(\" \", \"\")\n",
    "    my_list = my_str.split(delimiter)\n",
    "    return my_list\n",
    "\n",
    "def getAllInteractions(tweet):\n",
    "    \n",
    "    # Get the tweeter\n",
    "    tweet_id = tweet.tweet_id\n",
    "    tweeter_id = tweet.tweeter_id\n",
    "    tweeter_name = tweet.tweeter_screen_name\n",
    "    \n",
    "    # a python set is a collection of unique items\n",
    "    # we use a set to avoid duplicated ids\n",
    "    interacting_users = set()\n",
    "    \n",
    "    # Add person they're replying to\n",
    "    if tweet.in_reply_to_user_screen_name != '':\n",
    "        interacting_users.add(tweet.in_reply_to_user_screen_name)\n",
    "        \n",
    "    # Add person they quoted\n",
    "    if tweet.quote_tweet_screen_name != '':\n",
    "        interacting_users.add(tweet.quote_tweet_screen_name)\n",
    "    \n",
    "    # Add person they retweeted\n",
    "    if len(tweet.retweeted) > 2: # because empty strings will contain []\n",
    "        retweeted_list = string_to_list(tweet.retweeted)\n",
    "        for item in retweeted_list:\n",
    "            interacting_users.add(item)\n",
    "       \n",
    "    # Add mentions\n",
    "    if len(tweet.mentioned) > 2: # because empty strings will contain []\n",
    "        mentioned_list = string_to_list(tweet.mentioned)\n",
    "        for item in mentioned_list:\n",
    "            interacting_users.add(item)\n",
    "  \n",
    "    # remove the tweeter if he is in the set\n",
    "    interacting_users.discard(tweeter_name)\n",
    "    \n",
    "    # Return our tweeter and their influencers\n",
    "    return tweeter_id, tweeter_name, tweet_id, list(interacting_users)"
   ]
  },
  {
   "cell_type": "code",
   "execution_count": 6,
   "metadata": {
    "scrolled": true
   },
   "outputs": [],
   "source": [
    "import networkx as nx\n",
    "\n",
    "# define an empty Directed Graph\n",
    "# A directed graph is a graph where edges have a direction\n",
    "# in our case the edges goes from user that sent the tweet to\n",
    "# the user with whom they interacted (retweeted, mentioned or quoted)\n",
    "G = nx.DiGraph()\n",
    "\n",
    "# I need create a list of all interacting users for later\n",
    "# this is because we know we have tweeters who have been retweeted but\n",
    "# haven't tweeted themselves - this is a gap in our opinion labelling\n",
    "# which we address later\n",
    "all_interacting_users = []\n",
    "\n",
    "for index, tweet in all_tweets.iterrows():\n",
    "    \n",
    "    if (tweet.tweeter_screen_name != 'SadiqKhan') & (tweet.tweeter_screen_name != 'MayorofLondon'):\n",
    "        tweeter_id, tweeter_name, tweet_id, interactions = getAllInteractions(tweet)\n",
    "        \n",
    "        all_interacting_users.extend(interactions)\n",
    "    \n",
    "        # add an edge to the Graph for each influencer\n",
    "        for interact_name in interactions:\n",
    "        \n",
    "            # add edges between the two user ids\n",
    "            # this will create new nodes if the nodes are not already in the network\n",
    "            # we also add an attribute the to edge equal to the id of the tweet\n",
    "            G.add_edge(tweeter_name, interact_name, tweet_id=tweet_id)\n",
    "        \n",
    "            # add name as a property to each node\n",
    "            # with networkX each node is a dictionary\n",
    "            G.nodes[tweeter_name]['name'] = tweeter_name\n",
    "            G.nodes[interact_name]['name'] = interact_name\n",
    "            \n",
    "            \n",
    "all_interacting_users_set = set(all_interacting_users)"
   ]
  },
  {
   "cell_type": "markdown",
   "metadata": {},
   "source": [
    "## Start with network characteristics\n",
    "Based on tutorial from: https://programminghistorian.org/en/lessons/exploring-and-analyzing-network-data-with-python \n",
    "- John R. Ladd, Jessica Otis, Christopher N. Warren, and Scott Weingart, \"Exploring and Analyzing Network Data with Python,\" The Programming Historian 6 (2017), https://doi.org/10.46430/phen0064."
   ]
  },
  {
   "cell_type": "code",
   "execution_count": 7,
   "metadata": {
    "scrolled": true
   },
   "outputs": [
    {
     "name": "stdout",
     "output_type": "stream",
     "text": [
      "Name: \n",
      "Type: DiGraph\n",
      "Number of nodes: 26523\n",
      "Number of edges: 43031\n",
      "Average in degree:   1.6224\n",
      "Average out degree:   1.6224\n"
     ]
    }
   ],
   "source": [
    "print(nx.info(G))"
   ]
  },
  {
   "cell_type": "code",
   "execution_count": 8,
   "metadata": {
    "scrolled": true
   },
   "outputs": [
    {
     "name": "stdout",
     "output_type": "stream",
     "text": [
      "Network density: 6.117197787591622e-05\n"
     ]
    }
   ],
   "source": [
    "# On a scale of 0 to 1, where 1 is a dense network\n",
    "density = nx.density(G)\n",
    "print(\"Network density:\", density)"
   ]
  },
  {
   "cell_type": "code",
   "execution_count": 9,
   "metadata": {
    "scrolled": true
   },
   "outputs": [],
   "source": [
    "degree_dict = dict(G.degree(G.nodes()))\n",
    "nx.set_node_attributes(G, degree_dict, 'degree')"
   ]
  },
  {
   "cell_type": "code",
   "execution_count": 10,
   "metadata": {
    "scrolled": true
   },
   "outputs": [
    {
     "name": "stdout",
     "output_type": "stream",
     "text": [
      "['myerschrismyer1', 'LeslieH24367191', 'emilysheffield', 'NaheedMajeed', 'standardnews', 'basilewitch', 'Short2Cjs', 'DeanCowcher', 'sonya_annie', 'OliverSteinme16']\n"
     ]
    }
   ],
   "source": [
    "# the keys are the user_id\n",
    "nodelist = list(G.nodes.keys())\n",
    "print(nodelist[:10])"
   ]
  },
  {
   "cell_type": "code",
   "execution_count": 11,
   "metadata": {
    "scrolled": true
   },
   "outputs": [
    {
     "name": "stdout",
     "output_type": "stream",
     "text": [
      "<class 'dict'>\n",
      "{'name': 'NaheedMajeed', 'degree': 6}\n"
     ]
    }
   ],
   "source": [
    "# each node is itself a dictionary with node attributes as key,value pairs\n",
    "print(type(G.nodes[nodelist[3]]))\n",
    "print(G.nodes[nodelist[3]])"
   ]
  },
  {
   "cell_type": "code",
   "execution_count": 12,
   "metadata": {
    "scrolled": true
   },
   "outputs": [],
   "source": [
    "from operator import itemgetter\n",
    "from networkx.algorithms import community \n",
    "\n",
    "sorted_degree = sorted(degree_dict.items(), key=itemgetter(1), reverse=True)"
   ]
  },
  {
   "cell_type": "code",
   "execution_count": 13,
   "metadata": {
    "scrolled": true
   },
   "outputs": [
    {
     "name": "stdout",
     "output_type": "stream",
     "text": [
      "Top 20 nodes by degree:\n",
      "('SadiqKhan', 1296)\n",
      "('MayorofLondon', 933)\n",
      "('KoolKat1025', 912)\n",
      "('GBNEWS', 875)\n",
      "('James_Thorburn', 871)\n",
      "('NKrankie', 742)\n",
      "('LeaveEUOfficial', 737)\n",
      "('LeoKearse', 635)\n",
      "('LeslieH24367191', 575)\n",
      "('MartinDaubney', 532)\n",
      "('standardnews', 522)\n",
      "('polblonde', 489)\n",
      "('metpoliceuk', 471)\n",
      "('LozzaFox', 446)\n",
      "('BrexitBassist', 433)\n",
      "('NormanBrennan', 397)\n",
      "('MickeyD44314901', 390)\n",
      "('Independent', 377)\n",
      "('PoliticsForAlI', 365)\n",
      "('PoliticsJOE_UK', 321)\n"
     ]
    }
   ],
   "source": [
    "print(\"Top 20 nodes by degree:\")\n",
    "for d in sorted_degree[:20]:\n",
    "    print(d)"
   ]
  },
  {
   "cell_type": "code",
   "execution_count": 14,
   "metadata": {
    "scrolled": true
   },
   "outputs": [],
   "source": [
    "betweenness_dict = nx.betweenness_centrality(G) # Run betweenness centrality\n",
    "eigenvector_dict = nx.eigenvector_centrality(G) # Run eigenvector centrality\n",
    "\n",
    "# Assign each to an attribute in your network\n",
    "nx.set_node_attributes(G, betweenness_dict, 'betweenness')\n",
    "nx.set_node_attributes(G, eigenvector_dict, 'eigenvector')"
   ]
  },
  {
   "cell_type": "code",
   "execution_count": 15,
   "metadata": {
    "scrolled": true
   },
   "outputs": [
    {
     "name": "stdout",
     "output_type": "stream",
     "text": [
      "Top 20 nodes by betweenness centrality:\n",
      "('James_Thorburn', 0.00040829501837604746)\n",
      "('LeslieH24367191', 0.0003547568289868739)\n",
      "('MickeyD44314901', 0.00023596962431397727)\n",
      "('Simon_S70', 0.0001915142180710078)\n",
      "('suemitch2017', 0.00018900059400466578)\n",
      "('LSadler16861851', 0.00012912684611349665)\n",
      "('KingBobIIV', 0.00012332620786912316)\n",
      "('kakiOwakagirl', 0.000108503704615942)\n",
      "('SilvertownTn', 9.915109609466635e-05)\n",
      "('simon4124', 8.736642712729378e-05)\n",
      "('NormanBrennan', 8.726378756912479e-05)\n",
      "('telesyros', 7.75483522462928e-05)\n",
      "('TflTruth', 7.654660656436779e-05)\n",
      "('taxi_leaks', 7.25995016606247e-05)\n",
      "('Stan_VoWales', 7.005567634729698e-05)\n",
      "('GarySuter5', 6.102455006655463e-05)\n",
      "('TX4Silver', 6.03682883035982e-05)\n",
      "('PaulCra33107260', 5.928704101098548e-05)\n",
      "('ossien1', 5.609751616259887e-05)\n",
      "('DonnachadhMc', 5.207822738441689e-05)\n"
     ]
    }
   ],
   "source": [
    "sorted_betweenness = sorted(betweenness_dict.items(), key=itemgetter(1), reverse=True)\n",
    "\n",
    "print(\"Top 20 nodes by betweenness centrality:\")\n",
    "for b in sorted_betweenness[:20]:\n",
    "    print(b)"
   ]
  },
  {
   "cell_type": "code",
   "execution_count": 16,
   "metadata": {
    "scrolled": true
   },
   "outputs": [
    {
     "name": "stdout",
     "output_type": "stream",
     "text": [
      "Name: James_Thorburn | Betweenness Centrality: 0.00040829501837604746 | Degree: 871\n",
      "Name: LeslieH24367191 | Betweenness Centrality: 0.0003547568289868739 | Degree: 575\n",
      "Name: MickeyD44314901 | Betweenness Centrality: 0.00023596962431397727 | Degree: 390\n",
      "Name: Simon_S70 | Betweenness Centrality: 0.0001915142180710078 | Degree: 98\n",
      "Name: suemitch2017 | Betweenness Centrality: 0.00018900059400466578 | Degree: 122\n",
      "Name: LSadler16861851 | Betweenness Centrality: 0.00012912684611349665 | Degree: 18\n",
      "Name: KingBobIIV | Betweenness Centrality: 0.00012332620786912316 | Degree: 121\n",
      "Name: kakiOwakagirl | Betweenness Centrality: 0.000108503704615942 | Degree: 6\n",
      "Name: SilvertownTn | Betweenness Centrality: 9.915109609466635e-05 | Degree: 149\n",
      "Name: simon4124 | Betweenness Centrality: 8.736642712729378e-05 | Degree: 177\n",
      "Name: NormanBrennan | Betweenness Centrality: 8.726378756912479e-05 | Degree: 397\n",
      "Name: telesyros | Betweenness Centrality: 7.75483522462928e-05 | Degree: 40\n",
      "Name: TflTruth | Betweenness Centrality: 7.654660656436779e-05 | Degree: 58\n",
      "Name: taxi_leaks | Betweenness Centrality: 7.25995016606247e-05 | Degree: 73\n",
      "Name: Stan_VoWales | Betweenness Centrality: 7.005567634729698e-05 | Degree: 30\n",
      "Name: GarySuter5 | Betweenness Centrality: 6.102455006655463e-05 | Degree: 11\n",
      "Name: TX4Silver | Betweenness Centrality: 6.03682883035982e-05 | Degree: 17\n",
      "Name: PaulCra33107260 | Betweenness Centrality: 5.928704101098548e-05 | Degree: 33\n",
      "Name: ossien1 | Betweenness Centrality: 5.609751616259887e-05 | Degree: 63\n",
      "Name: DonnachadhMc | Betweenness Centrality: 5.207822738441689e-05 | Degree: 14\n"
     ]
    }
   ],
   "source": [
    "#First get the top 20 nodes by betweenness as a list\n",
    "top_betweenness = sorted_betweenness[:20]\n",
    "\n",
    "#Then find and print their degree\n",
    "for tb in top_betweenness: # Loop through top_betweenness\n",
    "    degree = degree_dict[tb[0]] # Use degree_dict to access a node's degree, see footnote 2\n",
    "    print(\"Name:\", tb[0], \"| Betweenness Centrality:\", tb[1], \"| Degree:\", degree)"
   ]
  },
  {
   "cell_type": "markdown",
   "metadata": {},
   "source": [
    "### Load tweeter opinions and add to network as a node attribute"
   ]
  },
  {
   "cell_type": "code",
   "execution_count": 17,
   "metadata": {},
   "outputs": [
    {
     "name": "stdout",
     "output_type": "stream",
     "text": [
      "(23108, 5)\n"
     ]
    },
    {
     "data": {
      "text/html": [
       "<div>\n",
       "<style scoped>\n",
       "    .dataframe tbody tr th:only-of-type {\n",
       "        vertical-align: middle;\n",
       "    }\n",
       "\n",
       "    .dataframe tbody tr th {\n",
       "        vertical-align: top;\n",
       "    }\n",
       "\n",
       "    .dataframe thead th {\n",
       "        text-align: right;\n",
       "    }\n",
       "</style>\n",
       "<table border=\"1\" class=\"dataframe\">\n",
       "  <thead>\n",
       "    <tr style=\"text-align: right;\">\n",
       "      <th></th>\n",
       "      <th>tweeter_screen_name</th>\n",
       "      <th>AGAINST</th>\n",
       "      <th>FOR</th>\n",
       "      <th>NOT_AGAINST</th>\n",
       "      <th>tweeter_label</th>\n",
       "    </tr>\n",
       "  </thead>\n",
       "  <tbody>\n",
       "    <tr>\n",
       "      <th>0</th>\n",
       "      <td>0007_vishi</td>\n",
       "      <td>1.0</td>\n",
       "      <td>0.0</td>\n",
       "      <td>0.0</td>\n",
       "      <td>AGAINST</td>\n",
       "    </tr>\n",
       "    <tr>\n",
       "      <th>1</th>\n",
       "      <td>005e5n</td>\n",
       "      <td>0.0</td>\n",
       "      <td>0.0</td>\n",
       "      <td>1.0</td>\n",
       "      <td>NOT_AGAINST</td>\n",
       "    </tr>\n",
       "    <tr>\n",
       "      <th>2</th>\n",
       "      <td>007AJSmith</td>\n",
       "      <td>1.0</td>\n",
       "      <td>0.0</td>\n",
       "      <td>1.0</td>\n",
       "      <td>NOT_AGAINST</td>\n",
       "    </tr>\n",
       "    <tr>\n",
       "      <th>3</th>\n",
       "      <td>007dmax</td>\n",
       "      <td>0.0</td>\n",
       "      <td>0.0</td>\n",
       "      <td>1.0</td>\n",
       "      <td>NOT_AGAINST</td>\n",
       "    </tr>\n",
       "    <tr>\n",
       "      <th>4</th>\n",
       "      <td>007taff</td>\n",
       "      <td>1.0</td>\n",
       "      <td>0.0</td>\n",
       "      <td>0.0</td>\n",
       "      <td>AGAINST</td>\n",
       "    </tr>\n",
       "  </tbody>\n",
       "</table>\n",
       "</div>"
      ],
      "text/plain": [
       "  tweeter_screen_name  AGAINST  FOR  NOT_AGAINST tweeter_label\n",
       "0          0007_vishi      1.0  0.0          0.0       AGAINST\n",
       "1              005e5n      0.0  0.0          1.0   NOT_AGAINST\n",
       "2          007AJSmith      1.0  0.0          1.0   NOT_AGAINST\n",
       "3             007dmax      0.0  0.0          1.0   NOT_AGAINST\n",
       "4             007taff      1.0  0.0          0.0       AGAINST"
      ]
     },
     "execution_count": 17,
     "metadata": {},
     "output_type": "execute_result"
    }
   ],
   "source": [
    "labeled_users = pd.read_csv('./DataSources/TwitterData/labeled_users.csv')\n",
    "print(labeled_users.shape)\n",
    "labeled_users.head()"
   ]
  },
  {
   "cell_type": "code",
   "execution_count": 89,
   "metadata": {},
   "outputs": [
    {
     "name": "stdout",
     "output_type": "stream",
     "text": [
      "23857\n"
     ]
    },
    {
     "data": {
      "text/plain": [
       "(23857, 5)"
      ]
     },
     "metadata": {},
     "output_type": "display_data"
    },
    {
     "data": {
      "text/plain": [
       "array(['NOT_AGAINST', 'AGAINST', 'NONE', 'FOR'], dtype=object)"
      ]
     },
     "execution_count": 89,
     "metadata": {},
     "output_type": "execute_result"
    }
   ],
   "source": [
    "unique_tweeters = all_tweets.tweeter_screen_name.unique()\n",
    "\n",
    "unique_tweeters_df = pd.DataFrame(unique_tweeters, columns =['tweeter_screen_name'])\n",
    "\n",
    "all_tweeters = pd.merge(unique_tweeters_df, labeled_users, how='left', left_on='tweeter_screen_name', \n",
    "                        right_on='tweeter_screen_name')\n",
    "\n",
    "all_tweeters.loc[all_tweeters['tweeter_label'].isna(), 'tweeter_label'] = 'NONE'\n",
    "\n",
    "display(all_tweeters.shape)\n",
    "all_tweeters.tweeter_label.unique()"
   ]
  },
  {
   "cell_type": "markdown",
   "metadata": {},
   "source": [
    "### Labeling tweeters who haven't tweeted but were retweeted\n",
    "We have an issue becayse we have approximately 4,500 tweeters who have been retweeted but for whom we do not have original tweets in our dataset and so we could not assign an opinion to them. Previously we created 'all_interacting_users_set' and now we use that as the basis for identifying users that were retweeted but didn't tweet, so that we can then review and asign them labels"
   ]
  },
  {
   "cell_type": "code",
   "execution_count": 134,
   "metadata": {},
   "outputs": [
    {
     "data": {
      "text/plain": [
       "(46800, 7117)"
      ]
     },
     "execution_count": 134,
     "metadata": {},
     "output_type": "execute_result"
    }
   ],
   "source": [
    "all_interacting_users = []\n",
    "\n",
    "for index, tweet in all_tweets.iterrows():\n",
    "    \n",
    "    if (tweet.tweeter_screen_name != 'SadiqKhan') & (tweet.tweeter_screen_name != 'MayorofLondon'):\n",
    "        tweeter_id, tweeter_name, tweet_id, interactions = getAllInteractions(tweet)\n",
    "        \n",
    "        all_interacting_users.extend(interactions)\n",
    "    \n",
    "all_interacting_users_set = set(all_interacting_users)\n",
    "len(all_interacting_users), len(all_interacting_users_set)"
   ]
  },
  {
   "cell_type": "code",
   "execution_count": 135,
   "metadata": {},
   "outputs": [
    {
     "name": "stdout",
     "output_type": "stream",
     "text": [
      "Number of tweeters who have tweeted at least once: 23,857\n",
      "Number of tweeters who haven't been retweeted: 21,164\n",
      "Number of tweeters who have been retweeted but haven't tweeted: 4,424\n"
     ]
    }
   ],
   "source": [
    "unique_tweeters_set = set(unique_tweeters)\n",
    "print(\"Number of tweeters who have tweeted at least once: {:,}\".format(len(unique_tweeters)))\n",
    "print(\"Number of tweeters who haven't been retweeted: {:,}\".format(len(unique_tweeters_set.difference(all_interacting_users_set))))\n",
    "\n",
    "retweeted_not_tweeted = all_interacting_users_set.difference(unique_tweeters_set)\n",
    "print(\"Number of tweeters who have been retweeted but haven't tweeted: {:,}\".format(len(retweeted_not_tweeted)))\n",
    "\n",
    "retweeted_not_tweeted_list = list(retweeted_not_tweeted)\n",
    "\n",
    "df_all_interacting_users = pd.DataFrame(all_interacting_users, columns=['tweeter_screen_name'])"
   ]
  },
  {
   "cell_type": "code",
   "execution_count": 136,
   "metadata": {},
   "outputs": [
    {
     "data": {
      "text/html": [
       "<div>\n",
       "<style scoped>\n",
       "    .dataframe tbody tr th:only-of-type {\n",
       "        vertical-align: middle;\n",
       "    }\n",
       "\n",
       "    .dataframe tbody tr th {\n",
       "        vertical-align: top;\n",
       "    }\n",
       "\n",
       "    .dataframe thead th {\n",
       "        text-align: right;\n",
       "    }\n",
       "</style>\n",
       "<table border=\"1\" class=\"dataframe\">\n",
       "  <thead>\n",
       "    <tr style=\"text-align: right;\">\n",
       "      <th></th>\n",
       "      <th>tweeter_screen_name</th>\n",
       "      <th>count</th>\n",
       "    </tr>\n",
       "  </thead>\n",
       "  <tbody>\n",
       "    <tr>\n",
       "      <th>3507</th>\n",
       "      <td>SadiqKhan</td>\n",
       "      <td>1548</td>\n",
       "    </tr>\n",
       "    <tr>\n",
       "      <th>2625</th>\n",
       "      <td>MayorofLondon</td>\n",
       "      <td>1167</td>\n",
       "    </tr>\n",
       "    <tr>\n",
       "      <th>1467</th>\n",
       "      <td>GBNEWS</td>\n",
       "      <td>1013</td>\n",
       "    </tr>\n",
       "    <tr>\n",
       "      <th>2292</th>\n",
       "      <td>LeaveEUOfficial</td>\n",
       "      <td>921</td>\n",
       "    </tr>\n",
       "    <tr>\n",
       "      <th>2200</th>\n",
       "      <td>KoolKat1025</td>\n",
       "      <td>913</td>\n",
       "    </tr>\n",
       "    <tr>\n",
       "      <th>2818</th>\n",
       "      <td>NKrankie</td>\n",
       "      <td>906</td>\n",
       "    </tr>\n",
       "    <tr>\n",
       "      <th>1918</th>\n",
       "      <td>James_Thorburn</td>\n",
       "      <td>855</td>\n",
       "    </tr>\n",
       "    <tr>\n",
       "      <th>6685</th>\n",
       "      <td>standardnews</td>\n",
       "      <td>639</td>\n",
       "    </tr>\n",
       "    <tr>\n",
       "      <th>2309</th>\n",
       "      <td>LeoKearse</td>\n",
       "      <td>637</td>\n",
       "    </tr>\n",
       "    <tr>\n",
       "      <th>2315</th>\n",
       "      <td>LeslieH24367191</td>\n",
       "      <td>597</td>\n",
       "    </tr>\n",
       "  </tbody>\n",
       "</table>\n",
       "</div>"
      ],
      "text/plain": [
       "     tweeter_screen_name  count\n",
       "3507           SadiqKhan   1548\n",
       "2625       MayorofLondon   1167\n",
       "1467              GBNEWS   1013\n",
       "2292     LeaveEUOfficial    921\n",
       "2200         KoolKat1025    913\n",
       "2818            NKrankie    906\n",
       "1918      James_Thorburn    855\n",
       "6685        standardnews    639\n",
       "2309           LeoKearse    637\n",
       "2315     LeslieH24367191    597"
      ]
     },
     "execution_count": 136,
     "metadata": {},
     "output_type": "execute_result"
    }
   ],
   "source": [
    "df_all_interacting_users_agg = df_all_interacting_users.groupby([\"tweeter_screen_name\"]).apply(lambda x: x['tweeter_screen_name'].count()).reset_index()\n",
    "df_all_interacting_users_agg.rename(columns = {0:'count'}, inplace = True)\n",
    "\n",
    "df_all_interacting_users_agg.sort_values(by='count', ascending=False)[:10]"
   ]
  },
  {
   "cell_type": "code",
   "execution_count": 137,
   "metadata": {},
   "outputs": [
    {
     "data": {
      "text/html": [
       "<div>\n",
       "<style scoped>\n",
       "    .dataframe tbody tr th:only-of-type {\n",
       "        vertical-align: middle;\n",
       "    }\n",
       "\n",
       "    .dataframe tbody tr th {\n",
       "        vertical-align: top;\n",
       "    }\n",
       "\n",
       "    .dataframe thead th {\n",
       "        text-align: right;\n",
       "    }\n",
       "</style>\n",
       "<table border=\"1\" class=\"dataframe\">\n",
       "  <thead>\n",
       "    <tr style=\"text-align: right;\">\n",
       "      <th></th>\n",
       "      <th>tweeter_screen_name</th>\n",
       "      <th>count</th>\n",
       "    </tr>\n",
       "  </thead>\n",
       "  <tbody>\n",
       "    <tr>\n",
       "      <th>2878</th>\n",
       "      <td>Keir_Starmer</td>\n",
       "      <td>198</td>\n",
       "    </tr>\n",
       "    <tr>\n",
       "      <th>812</th>\n",
       "      <td>BorisJohnson</td>\n",
       "      <td>183</td>\n",
       "    </tr>\n",
       "    <tr>\n",
       "      <th>2865</th>\n",
       "      <td>PolBlonde</td>\n",
       "      <td>170</td>\n",
       "    </tr>\n",
       "    <tr>\n",
       "      <th>757</th>\n",
       "      <td>aceattorneygame</td>\n",
       "      <td>157</td>\n",
       "    </tr>\n",
       "    <tr>\n",
       "      <th>1638</th>\n",
       "      <td>pritipatel</td>\n",
       "      <td>134</td>\n",
       "    </tr>\n",
       "    <tr>\n",
       "      <th>551</th>\n",
       "      <td>JeremyVineOn5</td>\n",
       "      <td>108</td>\n",
       "    </tr>\n",
       "    <tr>\n",
       "      <th>3812</th>\n",
       "      <td>Denis</td>\n",
       "      <td>108</td>\n",
       "    </tr>\n",
       "    <tr>\n",
       "      <th>3307</th>\n",
       "      <td>telegraph</td>\n",
       "      <td>97</td>\n",
       "    </tr>\n",
       "    <tr>\n",
       "      <th>3552</th>\n",
       "      <td>YouTube</td>\n",
       "      <td>62</td>\n",
       "    </tr>\n",
       "    <tr>\n",
       "      <th>852</th>\n",
       "      <td>CraigMurrayOrg</td>\n",
       "      <td>58</td>\n",
       "    </tr>\n",
       "    <tr>\n",
       "      <th>3350</th>\n",
       "      <td>TfLTPH</td>\n",
       "      <td>58</td>\n",
       "    </tr>\n",
       "    <tr>\n",
       "      <th>1438</th>\n",
       "      <td>NewsForAllUK</td>\n",
       "      <td>55</td>\n",
       "    </tr>\n",
       "    <tr>\n",
       "      <th>2988</th>\n",
       "      <td>RichardBurgon</td>\n",
       "      <td>45</td>\n",
       "    </tr>\n",
       "    <tr>\n",
       "      <th>453</th>\n",
       "      <td>MetPoliceUK</td>\n",
       "      <td>41</td>\n",
       "    </tr>\n",
       "    <tr>\n",
       "      <th>3901</th>\n",
       "      <td>edmundmlawrence</td>\n",
       "      <td>37</td>\n",
       "    </tr>\n",
       "    <tr>\n",
       "      <th>2415</th>\n",
       "      <td>HackneyAbbott</td>\n",
       "      <td>37</td>\n",
       "    </tr>\n",
       "    <tr>\n",
       "      <th>167</th>\n",
       "      <td>doctor_oxford</td>\n",
       "      <td>37</td>\n",
       "    </tr>\n",
       "    <tr>\n",
       "      <th>1237</th>\n",
       "      <td>AlexScott</td>\n",
       "      <td>36</td>\n",
       "    </tr>\n",
       "    <tr>\n",
       "      <th>1361</th>\n",
       "      <td>sajidjavid</td>\n",
       "      <td>35</td>\n",
       "    </tr>\n",
       "    <tr>\n",
       "      <th>3602</th>\n",
       "      <td>mrjamesob</td>\n",
       "      <td>34</td>\n",
       "    </tr>\n",
       "  </tbody>\n",
       "</table>\n",
       "</div>"
      ],
      "text/plain": [
       "     tweeter_screen_name  count\n",
       "2878        Keir_Starmer    198\n",
       "812         BorisJohnson    183\n",
       "2865           PolBlonde    170\n",
       "757      aceattorneygame    157\n",
       "1638          pritipatel    134\n",
       "551        JeremyVineOn5    108\n",
       "3812               Denis    108\n",
       "3307           telegraph     97\n",
       "3552             YouTube     62\n",
       "852       CraigMurrayOrg     58\n",
       "3350              TfLTPH     58\n",
       "1438        NewsForAllUK     55\n",
       "2988       RichardBurgon     45\n",
       "453          MetPoliceUK     41\n",
       "3901     edmundmlawrence     37\n",
       "2415       HackneyAbbott     37\n",
       "167        doctor_oxford     37\n",
       "1237           AlexScott     36\n",
       "1361          sajidjavid     35\n",
       "3602           mrjamesob     34"
      ]
     },
     "execution_count": 137,
     "metadata": {},
     "output_type": "execute_result"
    }
   ],
   "source": [
    "df_retweeted_not_tweeted = pd.DataFrame(retweeted_not_tweeted_list, columns=['tweeter_screen_name'])\n",
    "\n",
    "df_retweeted_not_tweeted_counts = pd.merge(df_retweeted_not_tweeted, df_all_interacting_users_agg, \n",
    "                                           how='inner', left_on='tweeter_screen_name', right_on='tweeter_screen_name')\n",
    "\n",
    "df_retweeted_not_tweeted_counts.sort_values(by='count', ascending=False)[:20]\n"
   ]
  },
  {
   "cell_type": "markdown",
   "metadata": {},
   "source": [
    "#### Comments\n",
    "The subset of users aren't among those who've been retweeted the most (e.g. MayorOfLondon retweeted 1,548 vs Keir_Starmer retweeted 198 times) and, of this smaller group, many of those who were retweeted most often are public figures and so just set their opinion to 'NOT_AGAINST' i.e. neutral. We do run the risk of mis labeling some users who've been retweeted but, for the reasons we've just laid out, we don't believe this will be material."
   ]
  },
  {
   "cell_type": "code",
   "execution_count": 142,
   "metadata": {},
   "outputs": [],
   "source": [
    "df_retweeted_not_tweeted['tweeter_label'] = 'NOT_AGAINST'\n",
    "retweeted_not_tweeted_dict = dict(zip(df_retweeted_not_tweeted.tweeter_screen_name,df_retweeted_not_tweeted.tweeter_label))\n",
    "\n",
    "opinions_dict = dict(zip(all_tweeters.tweeter_screen_name,all_tweeters.tweeter_label))"
   ]
  },
  {
   "cell_type": "code",
   "execution_count": 145,
   "metadata": {},
   "outputs": [
    {
     "data": {
      "text/plain": [
       "(28281, 23857, 4424)"
      ]
     },
     "execution_count": 145,
     "metadata": {},
     "output_type": "execute_result"
    }
   ],
   "source": [
    "# taken from https://www.geeksforgeeks.org/python-merging-two-dictionaries/\n",
    "def Merge(dict1, dict2):\n",
    "    res = {**dict1, **dict2}\n",
    "    return res\n",
    "\n",
    "\n",
    "combined_opinions_dict = Merge(opinions_dict, retweeted_not_tweeted_dict)\n",
    "len(combined_opinions_dict), len(opinions_dict), len(retweeted_not_tweeted_dict)\n",
    "\n"
   ]
  },
  {
   "cell_type": "code",
   "execution_count": 146,
   "metadata": {},
   "outputs": [],
   "source": [
    "# Assign each to an attribute in the network\n",
    "nx.set_node_attributes(G, combined_opinions_dict, 'opinions')"
   ]
  },
  {
   "cell_type": "markdown",
   "metadata": {},
   "source": [
    "## Connected components"
   ]
  },
  {
   "cell_type": "markdown",
   "metadata": {},
   "source": [
    "### Strongly connected components"
   ]
  },
  {
   "cell_type": "code",
   "execution_count": 147,
   "metadata": {
    "scrolled": true
   },
   "outputs": [
    {
     "name": "stdout",
     "output_type": "stream",
     "text": [
      "number of strong components: 26168\n",
      "sizes of the ten largest components: [31, 22, 12, 11, 10, 6, 5, 5, 5, 5, 5, 5, 4, 4, 4, 4, 4, 4, 4, 3]\n"
     ]
    }
   ],
   "source": [
    "# this returns a list of set of nodes belonging to the \n",
    "# different (strongly) connected components\n",
    "components_strong = list(nx.strongly_connected_components(G))\n",
    "\n",
    "# sort the component according to their size\n",
    "components_strong = list(sorted(components_strong, key=lambda x:len(x), reverse=True))\n",
    "\n",
    "# make a list with the size of each component\n",
    "comp_sizes_strong = []\n",
    "for comp in components_strong:\n",
    "    comp_sizes_strong.append(len(comp))\n",
    "    \n",
    "print(\"number of strong components: {}\".format(len(comp_sizes_strong)))\n",
    "\n",
    "print(\"sizes of the ten largest components: {}\".format(comp_sizes_strong[:20]))"
   ]
  },
  {
   "cell_type": "code",
   "execution_count": 148,
   "metadata": {
    "scrolled": true
   },
   "outputs": [],
   "source": [
    "from itertools import count\n",
    "\n",
    "def draw_strongly_connected(idx, components_strong, mapping):\n",
    "\n",
    "    largest_comp_strong = components_strong[idx]\n",
    "    LCC_strong = G.subgraph(largest_comp_strong)\n",
    "    \n",
    "    nodes = LCC_strong.nodes()\n",
    "    colors = [mapping[LCC_strong.nodes[n]['opinions']] for n in nodes]\n",
    "    \n",
    "    print(\"number of components in LCC[{}] = {}\".format(idx, LCC_strong.number_of_nodes()))\n",
    "\n",
    "    # let's plot the degree distribution inside the LCC\n",
    "    degrees = [LCC_strong.degree(n) for n in LCC_strong.nodes()]\n",
    "    print(\"number of degrees for each node within LCC[{}] = {}\\n\".format(idx, degrees))\n",
    "       \n",
    "    ## <--- now look at centrality\n",
    "    betweenValues = nx.betweenness_centrality(LCC_strong)\n",
    "    \n",
    "    # betweenValues is a dictionary, let's get the values and keys in separate lists\n",
    "    values = list(betweenValues.values())\n",
    "    keys = list(betweenValues.keys())\n",
    "    \n",
    "    # find the index of the node with highest betweeness centrality\n",
    "    highestIndex = np.argmax(values)\n",
    "    \n",
    "    #Uses solution in the documentation: https://networkx.github.io/documentation/networkx-1.10/reference/generated/networkx.algorithms.components.connected.connected_component_subgraphs.html\n",
    "    \n",
    "    print('\\n <---- centrality and clustering measures -------> \\n')\n",
    "    print(\"The node id \", keys[highestIndex], \" has the centrality degree of \", values[highestIndex])  \n",
    "    \n",
    "    pos = nx.spring_layout(LCC_strong)\n",
    "    \n",
    "    plt.figure()\n",
    "\n",
    "    nx.draw_networkx(LCC_strong, pos, nodelist=nodes, node_color=colors, \n",
    "                            with_labels=False, node_size=300, cmap=plt.cm.jet)\n",
    "    plt.show()"
   ]
  },
  {
   "cell_type": "code",
   "execution_count": 149,
   "metadata": {
    "scrolled": false
   },
   "outputs": [
    {
     "name": "stdout",
     "output_type": "stream",
     "text": [
      "number of components in LCC[0] = 31\n",
      "number of degrees for each node within LCC[0] = [11, 3, 2, 6, 2, 6, 3, 3, 2, 2, 2, 5, 3, 3, 4, 2, 8, 3, 3, 3, 4, 3, 11, 7, 2, 4, 2, 3, 4, 12, 2]\n",
      "\n",
      "\n",
      " <---- centrality and clustering measures -------> \n",
      "\n",
      "The node id  Simon_S70  has the centrality degree of  0.578735632183908\n"
     ]
    },
    {
     "data": {
      "image/png": "[encoded data removed]",
      "text/plain": [
       "<Figure size 432x288 with 1 Axes>"
      ]
     },
     "metadata": {},
     "output_type": "display_data"
    },
    {
     "name": "stdout",
     "output_type": "stream",
     "text": [
      "number of components in LCC[1] = 22\n",
      "number of degrees for each node within LCC[1] = [5, 3, 9, 5, 2, 5, 4, 10, 7, 9, 5, 4, 4, 2, 6, 8, 3, 4, 3, 9, 6, 7]\n",
      "\n",
      "\n",
      " <---- centrality and clustering measures -------> \n",
      "\n",
      "The node id  telesyros  has the centrality degree of  0.5281746031746032\n"
     ]
    },
    {
     "data": {
      "image/png": "[encoded data removed]",
      "text/plain": [
       "<Figure size 432x288 with 1 Axes>"
      ]
     },
     "metadata": {},
     "output_type": "display_data"
    },
    {
     "name": "stdout",
     "output_type": "stream",
     "text": [
      "number of components in LCC[2] = 12\n",
      "number of degrees for each node within LCC[2] = [6, 3, 3, 2, 6, 4, 6, 4, 7, 5, 2, 6]\n",
      "\n",
      "\n",
      " <---- centrality and clustering measures -------> \n",
      "\n",
      "The node id  OnLondon  has the centrality degree of  0.7272727272727273\n"
     ]
    },
    {
     "data": {
      "image/png": "[encoded data removed]",
      "text/plain": [
       "<Figure size 432x288 with 1 Axes>"
      ]
     },
     "metadata": {},
     "output_type": "display_data"
    },
    {
     "name": "stdout",
     "output_type": "stream",
     "text": [
      "number of components in LCC[3] = 11\n",
      "number of degrees for each node within LCC[3] = [10, 17, 6, 7, 15, 6, 14, 7, 15, 11, 14]\n",
      "\n",
      "\n",
      " <---- centrality and clustering measures -------> \n",
      "\n",
      "The node id  Dryadula  has the centrality degree of  0.2314814814814815\n"
     ]
    },
    {
     "data": {
      "image/png": "[encoded data removed]",
      "text/plain": [
       "<Figure size 432x288 with 1 Axes>"
      ]
     },
     "metadata": {},
     "output_type": "display_data"
    },
    {
     "name": "stdout",
     "output_type": "stream",
     "text": [
      "number of components in LCC[4] = 10\n",
      "number of degrees for each node within LCC[4] = [3, 3, 3, 2, 15, 2, 4, 4, 5, 5]\n",
      "\n",
      "\n",
      " <---- centrality and clustering measures -------> \n",
      "\n",
      "The node id  SilvertownTn  has the centrality degree of  0.8402777777777777\n"
     ]
    },
    {
     "data": {
      "image/png": "[encoded data removed]",
      "text/plain": [
       "<Figure size 432x288 with 1 Axes>"
      ]
     },
     "metadata": {},
     "output_type": "display_data"
    }
   ],
   "source": [
    "# now set colors\n",
    "opinions = set(nx.get_node_attributes(G,'opinions').values())\n",
    "mapping = dict(zip(sorted(opinions),count()))\n",
    "\n",
    "range_limit = 5\n",
    "for n in range(range_limit):\n",
    "    draw_strongly_connected(n, components_strong, mapping)"
   ]
  },
  {
   "cell_type": "markdown",
   "metadata": {},
   "source": [
    "### Weakly connected components"
   ]
  },
  {
   "cell_type": "code",
   "execution_count": 150,
   "metadata": {
    "scrolled": true
   },
   "outputs": [],
   "source": [
    "#1.  this returns a list of set of nodes belonging to the \n",
    "# different (weakly) connected components\n",
    "components = list(nx.weakly_connected_components(G))\n",
    "\n",
    "# sort the component according to their size\n",
    "components = list(sorted(components, key=lambda x:len(x), reverse=True))"
   ]
  },
  {
   "cell_type": "code",
   "execution_count": 151,
   "metadata": {
    "scrolled": true
   },
   "outputs": [],
   "source": [
    "#2. make a list with the size of each component\n",
    "comp_sizes = []\n",
    "for comp in components:\n",
    "    comp_sizes.append(len(comp))"
   ]
  },
  {
   "cell_type": "code",
   "execution_count": 191,
   "metadata": {
    "scrolled": true
   },
   "outputs": [],
   "source": [
    " #3. # let's make a new graph which is the subgraph of G corresponding to \n",
    "# the largest connected component\n",
    "# let's find the largest component\n",
    "largest_comp = components[0]\n",
    "LCC = G.subgraph(largest_comp)   "
   ]
  },
  {
   "cell_type": "code",
   "execution_count": 192,
   "metadata": {
    "scrolled": true
   },
   "outputs": [
    {
     "data": {
      "text/plain": [
       "26523"
      ]
     },
     "execution_count": 192,
     "metadata": {},
     "output_type": "execute_result"
    }
   ],
   "source": [
    "# 4. \n",
    "G.number_of_nodes()"
   ]
  },
  {
   "cell_type": "code",
   "execution_count": 193,
   "metadata": {
    "scrolled": true
   },
   "outputs": [
    {
     "data": {
      "text/plain": [
       "20801"
      ]
     },
     "execution_count": 193,
     "metadata": {},
     "output_type": "execute_result"
    }
   ],
   "source": [
    "# 5. \n",
    "LCC.number_of_nodes()"
   ]
  },
  {
   "cell_type": "code",
   "execution_count": 194,
   "metadata": {
    "scrolled": false
   },
   "outputs": [
    {
     "data": {
      "text/plain": [
       "[1296,\n",
       " 933,\n",
       " 912,\n",
       " 875,\n",
       " 871,\n",
       " 742,\n",
       " 737,\n",
       " 635,\n",
       " 575,\n",
       " 532,\n",
       " 522,\n",
       " 489,\n",
       " 471,\n",
       " 446,\n",
       " 433,\n",
       " 397,\n",
       " 390,\n",
       " 377,\n",
       " 365,\n",
       " 321]"
      ]
     },
     "execution_count": 194,
     "metadata": {},
     "output_type": "execute_result"
    }
   ],
   "source": [
    "# 6. let's plot the degree distribution inside the LCC\n",
    "degrees = [LCC.degree(n) for n in LCC.nodes()]\n",
    "degrees.sort(reverse=True)\n",
    "degrees[:20]"
   ]
  },
  {
   "cell_type": "code",
   "execution_count": null,
   "metadata": {
    "scrolled": true
   },
   "outputs": [],
   "source": [
    "#7. \n",
    "nodes = LCC.nodes()\n",
    "colors = [mapping[LCC.nodes[n]['opinions']] for n in nodes]\n",
    "pos = nx.spring_layout(LCC)\n",
    "    \n",
    "plt.figure()\n",
    "\n",
    "nx.draw_networkx(LCC, pos, nodelist=nodes, node_color=colors, \n",
    "                            with_labels=False, node_size=300, cmap=plt.cm.jet)\n",
    "plt.show()\n",
    "\n",
    "\n",
    "print(mapping)\n",
    "print(colors)"
   ]
  },
  {
   "cell_type": "code",
   "execution_count": null,
   "metadata": {
    "scrolled": true
   },
   "outputs": [],
   "source": []
  },
  {
   "cell_type": "markdown",
   "metadata": {},
   "source": [
    "## Community detection"
   ]
  },
  {
   "cell_type": "code",
   "execution_count": null,
   "metadata": {
    "scrolled": true
   },
   "outputs": [],
   "source": [
    "H = nx.Graph(G) # need to convert to undirected graph to use greedy_modularity\n",
    "\n",
    "communities = community.greedy_modularity_communities(H)"
   ]
  },
  {
   "cell_type": "code",
   "execution_count": 76,
   "metadata": {
    "scrolled": true
   },
   "outputs": [],
   "source": [
    "modularity_dict = {} # Create a blank dictionary\n",
    "for i,c in enumerate(communities): # Loop through the list of communities, keeping track of the number for the community\n",
    "    for name in c: # Loop through each person in a community\n",
    "        modularity_dict[name] = i # Create an entry in the dictionary for the person, where the value is which group they belong to.\n",
    "\n",
    "# Now you can add modularity information like we did the other metrics\n",
    "nx.set_node_attributes(G, modularity_dict, 'modularity')"
   ]
  },
  {
   "cell_type": "code",
   "execution_count": 85,
   "metadata": {
    "scrolled": true
   },
   "outputs": [
    {
     "name": "stdout",
     "output_type": "stream",
     "text": [
      "Number of different communities = 1669 \n",
      "\n",
      "Top 14 communities, by number of members\n"
     ]
    },
    {
     "data": {
      "text/html": [
       "<div>\n",
       "<style scoped>\n",
       "    .dataframe tbody tr th:only-of-type {\n",
       "        vertical-align: middle;\n",
       "    }\n",
       "\n",
       "    .dataframe tbody tr th {\n",
       "        vertical-align: top;\n",
       "    }\n",
       "\n",
       "    .dataframe thead th {\n",
       "        text-align: right;\n",
       "    }\n",
       "</style>\n",
       "<table border=\"1\" class=\"dataframe\">\n",
       "  <thead>\n",
       "    <tr style=\"text-align: right;\">\n",
       "      <th></th>\n",
       "      <th>screen_name</th>\n",
       "    </tr>\n",
       "    <tr>\n",
       "      <th>class_id</th>\n",
       "      <th></th>\n",
       "    </tr>\n",
       "  </thead>\n",
       "  <tbody>\n",
       "    <tr>\n",
       "      <th>0</th>\n",
       "      <td>5213</td>\n",
       "    </tr>\n",
       "    <tr>\n",
       "      <th>1</th>\n",
       "      <td>3742</td>\n",
       "    </tr>\n",
       "    <tr>\n",
       "      <th>2</th>\n",
       "      <td>1624</td>\n",
       "    </tr>\n",
       "    <tr>\n",
       "      <th>3</th>\n",
       "      <td>1019</td>\n",
       "    </tr>\n",
       "    <tr>\n",
       "      <th>4</th>\n",
       "      <td>1011</td>\n",
       "    </tr>\n",
       "    <tr>\n",
       "      <th>5</th>\n",
       "      <td>782</td>\n",
       "    </tr>\n",
       "    <tr>\n",
       "      <th>6</th>\n",
       "      <td>662</td>\n",
       "    </tr>\n",
       "    <tr>\n",
       "      <th>7</th>\n",
       "      <td>647</td>\n",
       "    </tr>\n",
       "    <tr>\n",
       "      <th>8</th>\n",
       "      <td>540</td>\n",
       "    </tr>\n",
       "    <tr>\n",
       "      <th>9</th>\n",
       "      <td>520</td>\n",
       "    </tr>\n",
       "    <tr>\n",
       "      <th>10</th>\n",
       "      <td>506</td>\n",
       "    </tr>\n",
       "    <tr>\n",
       "      <th>11</th>\n",
       "      <td>448</td>\n",
       "    </tr>\n",
       "    <tr>\n",
       "      <th>12</th>\n",
       "      <td>427</td>\n",
       "    </tr>\n",
       "    <tr>\n",
       "      <th>13</th>\n",
       "      <td>359</td>\n",
       "    </tr>\n",
       "  </tbody>\n",
       "</table>\n",
       "</div>"
      ],
      "text/plain": [
       "          screen_name\n",
       "class_id             \n",
       "0                5213\n",
       "1                3742\n",
       "2                1624\n",
       "3                1019\n",
       "4                1011\n",
       "5                 782\n",
       "6                 662\n",
       "7                 647\n",
       "8                 540\n",
       "9                 520\n",
       "10                506\n",
       "11                448\n",
       "12                427\n",
       "13                359"
      ]
     },
     "execution_count": 85,
     "metadata": {},
     "output_type": "execute_result"
    }
   ],
   "source": [
    "df_community_dict = pd.DataFrame(list(modularity_dict.items()),columns = ['screen_name','class_id']) \n",
    "class_list = df_community_dict.class_id.unique()\n",
    "\n",
    "print(\"Number of different communities = {} \".format(len(class_list)))\n",
    "\n",
    "df_community_dict_agg = df_community_dict.groupby('class_id').count()\n",
    "\n",
    "comm_count = 14\n",
    "print(\"\\nTop {} communities, by number of members\".format(comm_count))\n",
    "df_community_dict_agg.head(comm_count)"
   ]
  },
  {
   "cell_type": "code",
   "execution_count": 78,
   "metadata": {
    "scrolled": true
   },
   "outputs": [],
   "source": [
    "from matplotlib import pyplot as plt\n",
    "\n",
    "def print_class_members(class_num, count):\n",
    "\n",
    "    # First get a list of just the nodes in that class\n",
    "    class_id = [n for n in G.nodes() if G.nodes[n]['modularity'] == class_num]\n",
    "\n",
    "    # Then create a dictionary of the eigenvector centralities of those nodes\n",
    "    class_eigenvector = {n:G.nodes[n]['eigenvector'] for n in class_id}\n",
    "\n",
    "    # Then sort that dictionary and print the first 5 results\n",
    "    class_sorted_by_eigenvector = sorted(class_eigenvector.items(), key=itemgetter(1), reverse=True)\n",
    "\n",
    "    print(\"\\n<--- Modularity Class {} Sorted by Eigenvector Centrality, top {} values --->\".format(class_num, count))\n",
    "    for node in class_sorted_by_eigenvector[:count]:\n",
    "        print(\"Name:\", node[0], \"| Eigenvector Centrality:\", node[1])\n",
    "        \n",
    "    my_subgraph = G.subgraph(class_id)\n",
    "    \n",
    "    # now set colors\n",
    "    opinions = set(nx.get_node_attributes(my_subgraph,'opinions').values())\n",
    "    \n",
    "    mapping = dict(zip(sorted(opinions),count()))\n",
    "    nodes = my_subgraph.nodes()\n",
    "    colors = [mapping[my_subgraph.nodes[n]['opinions']] for n in nodes]\n",
    "    \n",
    "    pos = nx.spring_layout(my_subgraph)\n",
    "    \n",
    "    plt.figure()\n",
    "\n",
    "    nx.draw_networkx(my_subgraph, pos, nodelist=nodes, node_color=colors, \n",
    "                            with_labels=True, node_size=300, cmap=plt.cm.jet)\n",
    "    plt.show()\n"
   ]
  },
  {
   "cell_type": "markdown",
   "metadata": {},
   "source": [
    "### Compare with classes allocated via labeled tweets"
   ]
  },
  {
   "cell_type": "code",
   "execution_count": null,
   "metadata": {
    "scrolled": true
   },
   "outputs": [],
   "source": [
    "labeled_users = pd.read_csv('./DataSources/TwitterData/labeled_users.csv')\n",
    "print(labeled_users.shape)\n",
    "print(labeled_users[labeled_users.tweeter_label=='AGAINST'].shape)\n",
    "labeled_users.head()"
   ]
  },
  {
   "cell_type": "code",
   "execution_count": 79,
   "metadata": {
    "scrolled": true
   },
   "outputs": [
    {
     "name": "stdout",
     "output_type": "stream",
     "text": [
      "(26523, 2)\n"
     ]
    },
    {
     "data": {
      "text/html": [
       "<div>\n",
       "<style scoped>\n",
       "    .dataframe tbody tr th:only-of-type {\n",
       "        vertical-align: middle;\n",
       "    }\n",
       "\n",
       "    .dataframe tbody tr th {\n",
       "        vertical-align: top;\n",
       "    }\n",
       "\n",
       "    .dataframe thead th {\n",
       "        text-align: right;\n",
       "    }\n",
       "</style>\n",
       "<table border=\"1\" class=\"dataframe\">\n",
       "  <thead>\n",
       "    <tr style=\"text-align: right;\">\n",
       "      <th></th>\n",
       "      <th>screen_name</th>\n",
       "      <th>class_id</th>\n",
       "    </tr>\n",
       "  </thead>\n",
       "  <tbody>\n",
       "    <tr>\n",
       "      <th>0</th>\n",
       "      <td>AndyMeanie</td>\n",
       "      <td>0</td>\n",
       "    </tr>\n",
       "    <tr>\n",
       "      <th>1</th>\n",
       "      <td>run8inout</td>\n",
       "      <td>0</td>\n",
       "    </tr>\n",
       "    <tr>\n",
       "      <th>2</th>\n",
       "      <td>MaluaBayReiver</td>\n",
       "      <td>0</td>\n",
       "    </tr>\n",
       "    <tr>\n",
       "      <th>3</th>\n",
       "      <td>mcadams883</td>\n",
       "      <td>0</td>\n",
       "    </tr>\n",
       "    <tr>\n",
       "      <th>4</th>\n",
       "      <td>mjf1982</td>\n",
       "      <td>0</td>\n",
       "    </tr>\n",
       "  </tbody>\n",
       "</table>\n",
       "</div>"
      ],
      "text/plain": [
       "      screen_name  class_id\n",
       "0      AndyMeanie         0\n",
       "1       run8inout         0\n",
       "2  MaluaBayReiver         0\n",
       "3      mcadams883         0\n",
       "4         mjf1982         0"
      ]
     },
     "execution_count": 79,
     "metadata": {},
     "output_type": "execute_result"
    }
   ],
   "source": [
    "print(df_community_dict.shape)\n",
    "df_community_dict.head()"
   ]
  },
  {
   "cell_type": "code",
   "execution_count": 80,
   "metadata": {
    "scrolled": true
   },
   "outputs": [
    {
     "name": "stdout",
     "output_type": "stream",
     "text": [
      "(21452, 7)\n"
     ]
    }
   ],
   "source": [
    "merged_df = pd.merge(labeled_users, df_community_dict, left_on='tweeter_screen_name', right_on='screen_name')\n",
    "print(merged_df.shape)"
   ]
  },
  {
   "cell_type": "code",
   "execution_count": 81,
   "metadata": {
    "scrolled": true
   },
   "outputs": [
    {
     "name": "stdout",
     "output_type": "stream",
     "text": [
      "(8101, 7)\n"
     ]
    },
    {
     "data": {
      "text/html": [
       "<div>\n",
       "<style scoped>\n",
       "    .dataframe tbody tr th:only-of-type {\n",
       "        vertical-align: middle;\n",
       "    }\n",
       "\n",
       "    .dataframe tbody tr th {\n",
       "        vertical-align: top;\n",
       "    }\n",
       "\n",
       "    .dataframe thead th {\n",
       "        text-align: right;\n",
       "    }\n",
       "</style>\n",
       "<table border=\"1\" class=\"dataframe\">\n",
       "  <thead>\n",
       "    <tr style=\"text-align: right;\">\n",
       "      <th></th>\n",
       "      <th>tweeter_screen_name</th>\n",
       "      <th>AGAINST</th>\n",
       "      <th>FOR</th>\n",
       "      <th>NOT_AGAINST</th>\n",
       "      <th>tweeter_label</th>\n",
       "      <th>screen_name</th>\n",
       "      <th>class_id</th>\n",
       "    </tr>\n",
       "  </thead>\n",
       "  <tbody>\n",
       "    <tr>\n",
       "      <th>0</th>\n",
       "      <td>0007_vishi</td>\n",
       "      <td>1.0</td>\n",
       "      <td>0.0</td>\n",
       "      <td>0.0</td>\n",
       "      <td>AGAINST</td>\n",
       "      <td>0007_vishi</td>\n",
       "      <td>18</td>\n",
       "    </tr>\n",
       "    <tr>\n",
       "      <th>4</th>\n",
       "      <td>007taff</td>\n",
       "      <td>1.0</td>\n",
       "      <td>0.0</td>\n",
       "      <td>0.0</td>\n",
       "      <td>AGAINST</td>\n",
       "      <td>007taff</td>\n",
       "      <td>5</td>\n",
       "    </tr>\n",
       "    <tr>\n",
       "      <th>6</th>\n",
       "      <td>02031961pat</td>\n",
       "      <td>6.0</td>\n",
       "      <td>0.0</td>\n",
       "      <td>2.0</td>\n",
       "      <td>AGAINST</td>\n",
       "      <td>02031961pat</td>\n",
       "      <td>0</td>\n",
       "    </tr>\n",
       "    <tr>\n",
       "      <th>7</th>\n",
       "      <td>0606Green</td>\n",
       "      <td>6.0</td>\n",
       "      <td>0.0</td>\n",
       "      <td>2.0</td>\n",
       "      <td>AGAINST</td>\n",
       "      <td>0606Green</td>\n",
       "      <td>0</td>\n",
       "    </tr>\n",
       "    <tr>\n",
       "      <th>9</th>\n",
       "      <td>07706Mike</td>\n",
       "      <td>2.0</td>\n",
       "      <td>0.0</td>\n",
       "      <td>1.0</td>\n",
       "      <td>AGAINST</td>\n",
       "      <td>07706Mike</td>\n",
       "      <td>0</td>\n",
       "    </tr>\n",
       "  </tbody>\n",
       "</table>\n",
       "</div>"
      ],
      "text/plain": [
       "  tweeter_screen_name  AGAINST  FOR  NOT_AGAINST tweeter_label  screen_name  \\\n",
       "0          0007_vishi      1.0  0.0          0.0       AGAINST   0007_vishi   \n",
       "4             007taff      1.0  0.0          0.0       AGAINST      007taff   \n",
       "6         02031961pat      6.0  0.0          2.0       AGAINST  02031961pat   \n",
       "7           0606Green      6.0  0.0          2.0       AGAINST    0606Green   \n",
       "9           07706Mike      2.0  0.0          1.0       AGAINST    07706Mike   \n",
       "\n",
       "   class_id  \n",
       "0        18  \n",
       "4         5  \n",
       "6         0  \n",
       "7         0  \n",
       "9         0  "
      ]
     },
     "execution_count": 81,
     "metadata": {},
     "output_type": "execute_result"
    }
   ],
   "source": [
    "just_against = merged_df[merged_df.tweeter_label=='AGAINST'].copy()\n",
    "against_count = just_against.shape[0]\n",
    "print(just_against.shape)\n",
    "just_against.head()"
   ]
  },
  {
   "cell_type": "code",
   "execution_count": 82,
   "metadata": {
    "scrolled": true
   },
   "outputs": [
    {
     "data": {
      "text/html": [
       "<div>\n",
       "<style scoped>\n",
       "    .dataframe tbody tr th:only-of-type {\n",
       "        vertical-align: middle;\n",
       "    }\n",
       "\n",
       "    .dataframe tbody tr th {\n",
       "        vertical-align: top;\n",
       "    }\n",
       "\n",
       "    .dataframe thead th {\n",
       "        text-align: right;\n",
       "    }\n",
       "</style>\n",
       "<table border=\"1\" class=\"dataframe\">\n",
       "  <thead>\n",
       "    <tr style=\"text-align: right;\">\n",
       "      <th></th>\n",
       "      <th>index</th>\n",
       "      <th>class_id</th>\n",
       "      <th>count</th>\n",
       "      <th>class_pct_of_total</th>\n",
       "    </tr>\n",
       "  </thead>\n",
       "  <tbody>\n",
       "    <tr>\n",
       "      <th>0</th>\n",
       "      <td>0</td>\n",
       "      <td>0</td>\n",
       "      <td>2875</td>\n",
       "      <td>0.354894</td>\n",
       "    </tr>\n",
       "    <tr>\n",
       "      <th>1</th>\n",
       "      <td>1</td>\n",
       "      <td>1</td>\n",
       "      <td>690</td>\n",
       "      <td>0.085175</td>\n",
       "    </tr>\n",
       "    <tr>\n",
       "      <th>2</th>\n",
       "      <td>9</td>\n",
       "      <td>9</td>\n",
       "      <td>451</td>\n",
       "      <td>0.055672</td>\n",
       "    </tr>\n",
       "    <tr>\n",
       "      <th>3</th>\n",
       "      <td>5</td>\n",
       "      <td>5</td>\n",
       "      <td>409</td>\n",
       "      <td>0.050488</td>\n",
       "    </tr>\n",
       "    <tr>\n",
       "      <th>4</th>\n",
       "      <td>2</td>\n",
       "      <td>2</td>\n",
       "      <td>387</td>\n",
       "      <td>0.047772</td>\n",
       "    </tr>\n",
       "    <tr>\n",
       "      <th>5</th>\n",
       "      <td>13</td>\n",
       "      <td>13</td>\n",
       "      <td>261</td>\n",
       "      <td>0.032218</td>\n",
       "    </tr>\n",
       "    <tr>\n",
       "      <th>6</th>\n",
       "      <td>4</td>\n",
       "      <td>4</td>\n",
       "      <td>242</td>\n",
       "      <td>0.029873</td>\n",
       "    </tr>\n",
       "    <tr>\n",
       "      <th>7</th>\n",
       "      <td>11</td>\n",
       "      <td>11</td>\n",
       "      <td>194</td>\n",
       "      <td>0.023948</td>\n",
       "    </tr>\n",
       "    <tr>\n",
       "      <th>8</th>\n",
       "      <td>15</td>\n",
       "      <td>15</td>\n",
       "      <td>186</td>\n",
       "      <td>0.022960</td>\n",
       "    </tr>\n",
       "    <tr>\n",
       "      <th>9</th>\n",
       "      <td>18</td>\n",
       "      <td>18</td>\n",
       "      <td>165</td>\n",
       "      <td>0.020368</td>\n",
       "    </tr>\n",
       "    <tr>\n",
       "      <th>10</th>\n",
       "      <td>6</td>\n",
       "      <td>6</td>\n",
       "      <td>146</td>\n",
       "      <td>0.018022</td>\n",
       "    </tr>\n",
       "    <tr>\n",
       "      <th>11</th>\n",
       "      <td>8</td>\n",
       "      <td>8</td>\n",
       "      <td>138</td>\n",
       "      <td>0.017035</td>\n",
       "    </tr>\n",
       "    <tr>\n",
       "      <th>12</th>\n",
       "      <td>3</td>\n",
       "      <td>3</td>\n",
       "      <td>121</td>\n",
       "      <td>0.014936</td>\n",
       "    </tr>\n",
       "    <tr>\n",
       "      <th>13</th>\n",
       "      <td>10</td>\n",
       "      <td>10</td>\n",
       "      <td>114</td>\n",
       "      <td>0.014072</td>\n",
       "    </tr>\n",
       "    <tr>\n",
       "      <th>14</th>\n",
       "      <td>16</td>\n",
       "      <td>16</td>\n",
       "      <td>113</td>\n",
       "      <td>0.013949</td>\n",
       "    </tr>\n",
       "    <tr>\n",
       "      <th>15</th>\n",
       "      <td>7</td>\n",
       "      <td>7</td>\n",
       "      <td>86</td>\n",
       "      <td>0.010616</td>\n",
       "    </tr>\n",
       "    <tr>\n",
       "      <th>16</th>\n",
       "      <td>24</td>\n",
       "      <td>25</td>\n",
       "      <td>76</td>\n",
       "      <td>0.009382</td>\n",
       "    </tr>\n",
       "    <tr>\n",
       "      <th>17</th>\n",
       "      <td>23</td>\n",
       "      <td>24</td>\n",
       "      <td>72</td>\n",
       "      <td>0.008888</td>\n",
       "    </tr>\n",
       "    <tr>\n",
       "      <th>18</th>\n",
       "      <td>25</td>\n",
       "      <td>26</td>\n",
       "      <td>65</td>\n",
       "      <td>0.008024</td>\n",
       "    </tr>\n",
       "    <tr>\n",
       "      <th>19</th>\n",
       "      <td>22</td>\n",
       "      <td>22</td>\n",
       "      <td>62</td>\n",
       "      <td>0.007653</td>\n",
       "    </tr>\n",
       "  </tbody>\n",
       "</table>\n",
       "</div>"
      ],
      "text/plain": [
       "    index  class_id  count  class_pct_of_total\n",
       "0       0         0   2875            0.354894\n",
       "1       1         1    690            0.085175\n",
       "2       9         9    451            0.055672\n",
       "3       5         5    409            0.050488\n",
       "4       2         2    387            0.047772\n",
       "5      13        13    261            0.032218\n",
       "6       4         4    242            0.029873\n",
       "7      11        11    194            0.023948\n",
       "8      15        15    186            0.022960\n",
       "9      18        18    165            0.020368\n",
       "10      6         6    146            0.018022\n",
       "11      8         8    138            0.017035\n",
       "12      3         3    121            0.014936\n",
       "13     10        10    114            0.014072\n",
       "14     16        16    113            0.013949\n",
       "15      7         7     86            0.010616\n",
       "16     24        25     76            0.009382\n",
       "17     23        24     72            0.008888\n",
       "18     25        26     65            0.008024\n",
       "19     22        22     62            0.007653"
      ]
     },
     "execution_count": 82,
     "metadata": {},
     "output_type": "execute_result"
    }
   ],
   "source": [
    "just_against_sorted = just_against[['AGAINST','class_id']].groupby(['class_id'])['AGAINST'] \\\n",
    "                             .count() \\\n",
    "                             .reset_index(name='count') \\\n",
    "                             .sort_values(['count'], ascending=False) \n",
    "\n",
    "just_against_sorted['class_pct_of_total'] = just_against_sorted['count'] / against_count\n",
    "\n",
    "just_against_sorted.reset_index().head(20)"
   ]
  },
  {
   "cell_type": "markdown",
   "metadata": {},
   "source": [
    "### Comments\n",
    "We have 5,011 in combined dataframe and approximately 65% of these fall into the classes: 0, 1, 9, 5, 2, 13, 4 and 11\n",
    "\n",
    "Now we take a look at these classes to see their membership and whether they correlate.\n",
    "\n",
    "n.b. group by logic above courtesy of https://stackoverflow.com/questions/40454030/count-and-sort-with-pandas"
   ]
  },
  {
   "cell_type": "code",
   "execution_count": 254,
   "metadata": {
    "scrolled": false
   },
   "outputs": [
    {
     "name": "stdout",
     "output_type": "stream",
     "text": [
      "<----- class 0 ----->\n",
      "\n",
      "<--- Modularity Class 0 Sorted by Eigenvector Centrality, top 10 values --->\n",
      "Name: LeaveEUOfficial | Eigenvector Centrality: 0.00042193601937126136\n",
      "Name: MickeyD44314901 | Eigenvector Centrality: 0.00038152733612345507\n",
      "Name: NKrankie | Eigenvector Centrality: 0.00034516763409579075\n",
      "Name: LeslieH24367191 | Eigenvector Centrality: 0.0003202487691128611\n",
      "Name: James_Thorburn | Eigenvector Centrality: 0.0003018538345979441\n",
      "Name: KhanMustGo | Eigenvector Centrality: 0.00025351475529894864\n",
      "Name: telegraph | Eigenvector Centrality: 0.00022814657864916182\n",
      "Name: HarrietSergeant | Eigenvector Centrality: 0.00022329136712941612\n",
      "Name: NormanBrennan | Eigenvector Centrality: 0.00021956932625420803\n",
      "Name: suemitch2017 | Eigenvector Centrality: 0.00021016151541037326\n"
     ]
    },
    {
     "ename": "TypeError",
     "evalue": "'int' object is not callable",
     "output_type": "error",
     "traceback": [
      "\u001b[1;31m---------------------------------------------------------------------------\u001b[0m",
      "\u001b[1;31mTypeError\u001b[0m                                 Traceback (most recent call last)",
      "\u001b[1;32m<ipython-input-254-2fbf9db08a04>\u001b[0m in \u001b[0;36m<module>\u001b[1;34m\u001b[0m\n\u001b[0;32m      4\u001b[0m \u001b[1;32mfor\u001b[0m \u001b[0mclass_id\u001b[0m \u001b[1;32min\u001b[0m \u001b[0mclass_list\u001b[0m\u001b[1;33m:\u001b[0m\u001b[1;33m\u001b[0m\u001b[1;33m\u001b[0m\u001b[0m\n\u001b[0;32m      5\u001b[0m     \u001b[0mprint\u001b[0m\u001b[1;33m(\u001b[0m\u001b[1;34m\"<----- class {} ----->\"\u001b[0m\u001b[1;33m.\u001b[0m\u001b[0mformat\u001b[0m\u001b[1;33m(\u001b[0m\u001b[0mclass_id\u001b[0m\u001b[1;33m)\u001b[0m\u001b[1;33m)\u001b[0m\u001b[1;33m\u001b[0m\u001b[1;33m\u001b[0m\u001b[0m\n\u001b[1;32m----> 6\u001b[1;33m     \u001b[0mprint_class_members\u001b[0m\u001b[1;33m(\u001b[0m\u001b[0mclass_id\u001b[0m\u001b[1;33m,\u001b[0m \u001b[0mtop_member_count\u001b[0m\u001b[1;33m)\u001b[0m\u001b[1;33m\u001b[0m\u001b[1;33m\u001b[0m\u001b[0m\n\u001b[0m",
      "\u001b[1;32m<ipython-input-253-daf737b436cb>\u001b[0m in \u001b[0;36mprint_class_members\u001b[1;34m(class_num, count)\u001b[0m\n\u001b[0;32m     21\u001b[0m     \u001b[0mopinions\u001b[0m \u001b[1;33m=\u001b[0m \u001b[0mset\u001b[0m\u001b[1;33m(\u001b[0m\u001b[0mnx\u001b[0m\u001b[1;33m.\u001b[0m\u001b[0mget_node_attributes\u001b[0m\u001b[1;33m(\u001b[0m\u001b[0mmy_subgraph\u001b[0m\u001b[1;33m,\u001b[0m\u001b[1;34m'opinions'\u001b[0m\u001b[1;33m)\u001b[0m\u001b[1;33m.\u001b[0m\u001b[0mvalues\u001b[0m\u001b[1;33m(\u001b[0m\u001b[1;33m)\u001b[0m\u001b[1;33m)\u001b[0m\u001b[1;33m\u001b[0m\u001b[1;33m\u001b[0m\u001b[0m\n\u001b[0;32m     22\u001b[0m \u001b[1;33m\u001b[0m\u001b[0m\n\u001b[1;32m---> 23\u001b[1;33m     \u001b[0mmapping\u001b[0m \u001b[1;33m=\u001b[0m \u001b[0mdict\u001b[0m\u001b[1;33m(\u001b[0m\u001b[0mzip\u001b[0m\u001b[1;33m(\u001b[0m\u001b[0msorted\u001b[0m\u001b[1;33m(\u001b[0m\u001b[0mopinions\u001b[0m\u001b[1;33m)\u001b[0m\u001b[1;33m,\u001b[0m\u001b[0mcount\u001b[0m\u001b[1;33m(\u001b[0m\u001b[1;33m)\u001b[0m\u001b[1;33m)\u001b[0m\u001b[1;33m)\u001b[0m\u001b[1;33m\u001b[0m\u001b[1;33m\u001b[0m\u001b[0m\n\u001b[0m\u001b[0;32m     24\u001b[0m     \u001b[0mnodes\u001b[0m \u001b[1;33m=\u001b[0m \u001b[0mmy_subgraph\u001b[0m\u001b[1;33m.\u001b[0m\u001b[0mnodes\u001b[0m\u001b[1;33m(\u001b[0m\u001b[1;33m)\u001b[0m\u001b[1;33m\u001b[0m\u001b[1;33m\u001b[0m\u001b[0m\n\u001b[0;32m     25\u001b[0m     \u001b[0mcolors\u001b[0m \u001b[1;33m=\u001b[0m \u001b[1;33m[\u001b[0m\u001b[0mmapping\u001b[0m\u001b[1;33m[\u001b[0m\u001b[0mmy_subgraph\u001b[0m\u001b[1;33m.\u001b[0m\u001b[0mnodes\u001b[0m\u001b[1;33m[\u001b[0m\u001b[0mn\u001b[0m\u001b[1;33m]\u001b[0m\u001b[1;33m[\u001b[0m\u001b[1;34m'opinions'\u001b[0m\u001b[1;33m]\u001b[0m\u001b[1;33m]\u001b[0m \u001b[1;32mfor\u001b[0m \u001b[0mn\u001b[0m \u001b[1;32min\u001b[0m \u001b[0mnodes\u001b[0m\u001b[1;33m]\u001b[0m\u001b[1;33m\u001b[0m\u001b[1;33m\u001b[0m\u001b[0m\n",
      "\u001b[1;31mTypeError\u001b[0m: 'int' object is not callable"
     ]
    }
   ],
   "source": [
    "class_list = [0, 1, 9, 5, 2, 13, 4, 11]\n",
    "top_member_count = 10\n",
    "\n",
    "for class_id in class_list:\n",
    "    print(\"<----- class {} ----->\".format(class_id))\n",
    "    print_class_members(class_id, top_member_count)\n"
   ]
  },
  {
   "cell_type": "code",
   "execution_count": 83,
   "metadata": {
    "scrolled": true
   },
   "outputs": [
    {
     "data": {
      "text/html": [
       "<div>\n",
       "<style scoped>\n",
       "    .dataframe tbody tr th:only-of-type {\n",
       "        vertical-align: middle;\n",
       "    }\n",
       "\n",
       "    .dataframe tbody tr th {\n",
       "        vertical-align: top;\n",
       "    }\n",
       "\n",
       "    .dataframe thead th {\n",
       "        text-align: right;\n",
       "    }\n",
       "</style>\n",
       "<table border=\"1\" class=\"dataframe\">\n",
       "  <thead>\n",
       "    <tr style=\"text-align: right;\">\n",
       "      <th></th>\n",
       "      <th>class_id</th>\n",
       "      <th>screen_name</th>\n",
       "    </tr>\n",
       "  </thead>\n",
       "  <tbody>\n",
       "    <tr>\n",
       "      <th>0</th>\n",
       "      <td>0</td>\n",
       "      <td>5213</td>\n",
       "    </tr>\n",
       "    <tr>\n",
       "      <th>1</th>\n",
       "      <td>1</td>\n",
       "      <td>3742</td>\n",
       "    </tr>\n",
       "    <tr>\n",
       "      <th>2</th>\n",
       "      <td>2</td>\n",
       "      <td>1624</td>\n",
       "    </tr>\n",
       "    <tr>\n",
       "      <th>3</th>\n",
       "      <td>3</td>\n",
       "      <td>1019</td>\n",
       "    </tr>\n",
       "    <tr>\n",
       "      <th>4</th>\n",
       "      <td>4</td>\n",
       "      <td>1011</td>\n",
       "    </tr>\n",
       "    <tr>\n",
       "      <th>5</th>\n",
       "      <td>5</td>\n",
       "      <td>782</td>\n",
       "    </tr>\n",
       "    <tr>\n",
       "      <th>6</th>\n",
       "      <td>6</td>\n",
       "      <td>662</td>\n",
       "    </tr>\n",
       "    <tr>\n",
       "      <th>7</th>\n",
       "      <td>7</td>\n",
       "      <td>647</td>\n",
       "    </tr>\n",
       "    <tr>\n",
       "      <th>8</th>\n",
       "      <td>8</td>\n",
       "      <td>540</td>\n",
       "    </tr>\n",
       "    <tr>\n",
       "      <th>9</th>\n",
       "      <td>9</td>\n",
       "      <td>520</td>\n",
       "    </tr>\n",
       "    <tr>\n",
       "      <th>10</th>\n",
       "      <td>10</td>\n",
       "      <td>506</td>\n",
       "    </tr>\n",
       "    <tr>\n",
       "      <th>11</th>\n",
       "      <td>11</td>\n",
       "      <td>448</td>\n",
       "    </tr>\n",
       "    <tr>\n",
       "      <th>12</th>\n",
       "      <td>12</td>\n",
       "      <td>427</td>\n",
       "    </tr>\n",
       "    <tr>\n",
       "      <th>13</th>\n",
       "      <td>13</td>\n",
       "      <td>359</td>\n",
       "    </tr>\n",
       "    <tr>\n",
       "      <th>14</th>\n",
       "      <td>14</td>\n",
       "      <td>313</td>\n",
       "    </tr>\n",
       "    <tr>\n",
       "      <th>15</th>\n",
       "      <td>15</td>\n",
       "      <td>291</td>\n",
       "    </tr>\n",
       "    <tr>\n",
       "      <th>16</th>\n",
       "      <td>16</td>\n",
       "      <td>246</td>\n",
       "    </tr>\n",
       "    <tr>\n",
       "      <th>17</th>\n",
       "      <td>17</td>\n",
       "      <td>189</td>\n",
       "    </tr>\n",
       "    <tr>\n",
       "      <th>18</th>\n",
       "      <td>18</td>\n",
       "      <td>165</td>\n",
       "    </tr>\n",
       "    <tr>\n",
       "      <th>19</th>\n",
       "      <td>19</td>\n",
       "      <td>163</td>\n",
       "    </tr>\n",
       "  </tbody>\n",
       "</table>\n",
       "</div>"
      ],
      "text/plain": [
       "    class_id  screen_name\n",
       "0          0         5213\n",
       "1          1         3742\n",
       "2          2         1624\n",
       "3          3         1019\n",
       "4          4         1011\n",
       "5          5          782\n",
       "6          6          662\n",
       "7          7          647\n",
       "8          8          540\n",
       "9          9          520\n",
       "10        10          506\n",
       "11        11          448\n",
       "12        12          427\n",
       "13        13          359\n",
       "14        14          313\n",
       "15        15          291\n",
       "16        16          246\n",
       "17        17          189\n",
       "18        18          165\n",
       "19        19          163"
      ]
     },
     "execution_count": 83,
     "metadata": {},
     "output_type": "execute_result"
    }
   ],
   "source": [
    "df_community_just_against = df_community_dict[df_community_dict.class_id.isin(class_list)].copy()\n",
    "\n",
    "df_community_just_against_sorted = df_community_just_against.groupby('class_id').count().reset_index()\n",
    "df_community_just_against_sorted.head(20)"
   ]
  },
  {
   "cell_type": "code",
   "execution_count": 84,
   "metadata": {
    "scrolled": true
   },
   "outputs": [
    {
     "data": {
      "text/html": [
       "<div>\n",
       "<style scoped>\n",
       "    .dataframe tbody tr th:only-of-type {\n",
       "        vertical-align: middle;\n",
       "    }\n",
       "\n",
       "    .dataframe tbody tr th {\n",
       "        vertical-align: top;\n",
       "    }\n",
       "\n",
       "    .dataframe thead th {\n",
       "        text-align: right;\n",
       "    }\n",
       "</style>\n",
       "<table border=\"1\" class=\"dataframe\">\n",
       "  <thead>\n",
       "    <tr style=\"text-align: right;\">\n",
       "      <th></th>\n",
       "      <th>class_id</th>\n",
       "      <th>community_count</th>\n",
       "      <th>label_count</th>\n",
       "      <th>class_as_pct_all_against_labels</th>\n",
       "      <th>label_as_pct_whole_class</th>\n",
       "    </tr>\n",
       "  </thead>\n",
       "  <tbody>\n",
       "    <tr>\n",
       "      <th>314</th>\n",
       "      <td>878</td>\n",
       "      <td>2</td>\n",
       "      <td>2</td>\n",
       "      <td>0.000247</td>\n",
       "      <td>1.0</td>\n",
       "    </tr>\n",
       "    <tr>\n",
       "      <th>218</th>\n",
       "      <td>572</td>\n",
       "      <td>3</td>\n",
       "      <td>3</td>\n",
       "      <td>0.000370</td>\n",
       "      <td>1.0</td>\n",
       "    </tr>\n",
       "    <tr>\n",
       "      <th>460</th>\n",
       "      <td>1402</td>\n",
       "      <td>2</td>\n",
       "      <td>2</td>\n",
       "      <td>0.000247</td>\n",
       "      <td>1.0</td>\n",
       "    </tr>\n",
       "    <tr>\n",
       "      <th>108</th>\n",
       "      <td>229</td>\n",
       "      <td>6</td>\n",
       "      <td>6</td>\n",
       "      <td>0.000741</td>\n",
       "      <td>1.0</td>\n",
       "    </tr>\n",
       "    <tr>\n",
       "      <th>461</th>\n",
       "      <td>1404</td>\n",
       "      <td>2</td>\n",
       "      <td>2</td>\n",
       "      <td>0.000247</td>\n",
       "      <td>1.0</td>\n",
       "    </tr>\n",
       "    <tr>\n",
       "      <th>203</th>\n",
       "      <td>518</td>\n",
       "      <td>3</td>\n",
       "      <td>3</td>\n",
       "      <td>0.000370</td>\n",
       "      <td>1.0</td>\n",
       "    </tr>\n",
       "    <tr>\n",
       "      <th>102</th>\n",
       "      <td>213</td>\n",
       "      <td>6</td>\n",
       "      <td>6</td>\n",
       "      <td>0.000741</td>\n",
       "      <td>1.0</td>\n",
       "    </tr>\n",
       "    <tr>\n",
       "      <th>463</th>\n",
       "      <td>1410</td>\n",
       "      <td>2</td>\n",
       "      <td>2</td>\n",
       "      <td>0.000247</td>\n",
       "      <td>1.0</td>\n",
       "    </tr>\n",
       "    <tr>\n",
       "      <th>464</th>\n",
       "      <td>1411</td>\n",
       "      <td>2</td>\n",
       "      <td>2</td>\n",
       "      <td>0.000247</td>\n",
       "      <td>1.0</td>\n",
       "    </tr>\n",
       "    <tr>\n",
       "      <th>205</th>\n",
       "      <td>528</td>\n",
       "      <td>3</td>\n",
       "      <td>3</td>\n",
       "      <td>0.000370</td>\n",
       "      <td>1.0</td>\n",
       "    </tr>\n",
       "    <tr>\n",
       "      <th>466</th>\n",
       "      <td>1421</td>\n",
       "      <td>2</td>\n",
       "      <td>2</td>\n",
       "      <td>0.000247</td>\n",
       "      <td>1.0</td>\n",
       "    </tr>\n",
       "    <tr>\n",
       "      <th>212</th>\n",
       "      <td>553</td>\n",
       "      <td>3</td>\n",
       "      <td>3</td>\n",
       "      <td>0.000370</td>\n",
       "      <td>1.0</td>\n",
       "    </tr>\n",
       "    <tr>\n",
       "      <th>90</th>\n",
       "      <td>183</td>\n",
       "      <td>6</td>\n",
       "      <td>6</td>\n",
       "      <td>0.000741</td>\n",
       "      <td>1.0</td>\n",
       "    </tr>\n",
       "    <tr>\n",
       "      <th>89</th>\n",
       "      <td>181</td>\n",
       "      <td>7</td>\n",
       "      <td>7</td>\n",
       "      <td>0.000864</td>\n",
       "      <td>1.0</td>\n",
       "    </tr>\n",
       "    <tr>\n",
       "      <th>381</th>\n",
       "      <td>1146</td>\n",
       "      <td>2</td>\n",
       "      <td>2</td>\n",
       "      <td>0.000247</td>\n",
       "      <td>1.0</td>\n",
       "    </tr>\n",
       "    <tr>\n",
       "      <th>219</th>\n",
       "      <td>577</td>\n",
       "      <td>3</td>\n",
       "      <td>3</td>\n",
       "      <td>0.000370</td>\n",
       "      <td>1.0</td>\n",
       "    </tr>\n",
       "    <tr>\n",
       "      <th>458</th>\n",
       "      <td>1394</td>\n",
       "      <td>2</td>\n",
       "      <td>2</td>\n",
       "      <td>0.000247</td>\n",
       "      <td>1.0</td>\n",
       "    </tr>\n",
       "    <tr>\n",
       "      <th>85</th>\n",
       "      <td>172</td>\n",
       "      <td>7</td>\n",
       "      <td>7</td>\n",
       "      <td>0.000864</td>\n",
       "      <td>1.0</td>\n",
       "    </tr>\n",
       "    <tr>\n",
       "      <th>84</th>\n",
       "      <td>169</td>\n",
       "      <td>7</td>\n",
       "      <td>7</td>\n",
       "      <td>0.000864</td>\n",
       "      <td>1.0</td>\n",
       "    </tr>\n",
       "    <tr>\n",
       "      <th>82</th>\n",
       "      <td>162</td>\n",
       "      <td>7</td>\n",
       "      <td>7</td>\n",
       "      <td>0.000864</td>\n",
       "      <td>1.0</td>\n",
       "    </tr>\n",
       "  </tbody>\n",
       "</table>\n",
       "</div>"
      ],
      "text/plain": [
       "     class_id  community_count  label_count  class_as_pct_all_against_labels  \\\n",
       "314       878                2            2                         0.000247   \n",
       "218       572                3            3                         0.000370   \n",
       "460      1402                2            2                         0.000247   \n",
       "108       229                6            6                         0.000741   \n",
       "461      1404                2            2                         0.000247   \n",
       "203       518                3            3                         0.000370   \n",
       "102       213                6            6                         0.000741   \n",
       "463      1410                2            2                         0.000247   \n",
       "464      1411                2            2                         0.000247   \n",
       "205       528                3            3                         0.000370   \n",
       "466      1421                2            2                         0.000247   \n",
       "212       553                3            3                         0.000370   \n",
       "90        183                6            6                         0.000741   \n",
       "89        181                7            7                         0.000864   \n",
       "381      1146                2            2                         0.000247   \n",
       "219       577                3            3                         0.000370   \n",
       "458      1394                2            2                         0.000247   \n",
       "85        172                7            7                         0.000864   \n",
       "84        169                7            7                         0.000864   \n",
       "82        162                7            7                         0.000864   \n",
       "\n",
       "     label_as_pct_whole_class  \n",
       "314                       1.0  \n",
       "218                       1.0  \n",
       "460                       1.0  \n",
       "108                       1.0  \n",
       "461                       1.0  \n",
       "203                       1.0  \n",
       "102                       1.0  \n",
       "463                       1.0  \n",
       "464                       1.0  \n",
       "205                       1.0  \n",
       "466                       1.0  \n",
       "212                       1.0  \n",
       "90                        1.0  \n",
       "89                        1.0  \n",
       "381                       1.0  \n",
       "219                       1.0  \n",
       "458                       1.0  \n",
       "85                        1.0  \n",
       "84                        1.0  \n",
       "82                        1.0  "
      ]
     },
     "execution_count": 84,
     "metadata": {},
     "output_type": "execute_result"
    }
   ],
   "source": [
    "sorted_merged = pd.merge(df_community_just_against_sorted, just_against_sorted, left_on='class_id', right_on='class_id')\n",
    "sorted_merged['pct_of_class'] = sorted_merged['count'] / sorted_merged['screen_name']\n",
    "\n",
    "sorted_merged.rename(columns = {'screen_name':'community_count', \n",
    "                                'count':'label_count', \n",
    "                                'class_pct_of_total':'class_as_pct_all_against_labels',\n",
    "                                'pct_of_class':'label_as_pct_whole_class'}, inplace = True)\n",
    "\n",
    "sorted_merged.sort_values(by=['label_as_pct_whole_class'], ascending=False).head(20)"
   ]
  },
  {
   "cell_type": "markdown",
   "metadata": {},
   "source": [
    "### Also need to see what proportion of NOT_AGAINST fall into these classes"
   ]
  },
  {
   "cell_type": "markdown",
   "metadata": {},
   "source": [
    "## carry on with bovet"
   ]
  },
  {
   "cell_type": "code",
   "execution_count": null,
   "metadata": {
    "scrolled": true
   },
   "outputs": [],
   "source": [
    "# edges are contained in a EdgeView with a set-like interface\n",
    "print(type(G.edges))\n",
    "print(G.edges())"
   ]
  },
  {
   "cell_type": "code",
   "execution_count": null,
   "metadata": {
    "scrolled": true
   },
   "outputs": [],
   "source": [
    "# we can see all the edges going out of this node\n",
    "# each edge is a dictionary inside this dictionary with a key \n",
    "# corresponding to the target user_id\n",
    "e = G.out_edges(nodelist[4], data=True)\n",
    "print(nodelist[4])\n",
    "print(e)"
   ]
  },
  {
   "cell_type": "code",
   "execution_count": null,
   "metadata": {
    "scrolled": true
   },
   "outputs": [],
   "source": [
    "# we can iterate over the out-edges \n",
    "for s,t,data in e:\n",
    "    print(s,t,data)"
   ]
  },
  {
   "cell_type": "code",
   "execution_count": null,
   "metadata": {
    "scrolled": true
   },
   "outputs": [],
   "source": [
    "G.number_of_nodes()"
   ]
  },
  {
   "cell_type": "code",
   "execution_count": null,
   "metadata": {
    "scrolled": true
   },
   "outputs": [],
   "source": [
    "G.number_of_edges()"
   ]
  },
  {
   "cell_type": "code",
   "execution_count": null,
   "metadata": {
    "scrolled": true
   },
   "outputs": [],
   "source": [
    "# dictionary with the degree of all nodes\n",
    "all_degrees = [G.degree(n) for n in nodelist] # this is the degree for undirected edges\n",
    "in_degrees = [G.in_degree(n) for n in nodelist]\n",
    "out_degrees = [G.out_degree(n) for n in nodelist]"
   ]
  },
  {
   "cell_type": "code",
   "execution_count": null,
   "metadata": {
    "scrolled": true
   },
   "outputs": [],
   "source": [
    "# average degree\n",
    "2*G.number_of_edges()/G.number_of_nodes()"
   ]
  },
  {
   "cell_type": "code",
   "execution_count": null,
   "metadata": {
    "scrolled": true
   },
   "outputs": [],
   "source": [
    "import numpy as np\n",
    "np.array(all_degrees).mean()"
   ]
  },
  {
   "cell_type": "code",
   "execution_count": null,
   "metadata": {
    "scrolled": true
   },
   "outputs": [],
   "source": [
    "np.array(in_degrees).mean()"
   ]
  },
  {
   "cell_type": "code",
   "execution_count": null,
   "metadata": {
    "scrolled": true
   },
   "outputs": [],
   "source": [
    "np.array(out_degrees).mean()"
   ]
  },
  {
   "cell_type": "code",
   "execution_count": null,
   "metadata": {
    "scrolled": true
   },
   "outputs": [],
   "source": [
    "# we want to make a list with (user_id, username, degree) for all nodes\n",
    "degree_node_list = []\n",
    "for node in nodelist:\n",
    "    degree_node_list.append((node, G.nodes[node]['name'], G.degree(node)))\n",
    "    \n",
    "print('Unordered user, degree list')    \n",
    "print(degree_node_list[:10])\n",
    "\n",
    "# sort the list according the degree in descinding order\n",
    "degree_node_list = sorted(degree_node_list, key=lambda x:x[2], reverse=True)\n",
    "print('Ordered user, degree list')    \n",
    "print(degree_node_list[:10])"
   ]
  },
  {
   "cell_type": "code",
   "execution_count": null,
   "metadata": {
    "scrolled": true
   },
   "outputs": [],
   "source": [
    "# we need to import matplolib for making plots\n",
    "# and numpy for numerical computations\n",
    "import numpy as np\n",
    "import matplotlib.pyplot as plt\n",
    "%matplotlib inline"
   ]
  },
  {
   "cell_type": "markdown",
   "metadata": {},
   "source": [
    "## Network components\n",
    "Connected components are a subset of nodes in which each node has a minimum of one link with another node in the same subset, and any node that is a member of 'this' subset is not linked to any nodes external to the subset. \n",
    "\n",
    "In addition, for <b> directed </b> graphs we can define two types of connected components:\n",
    "- Weakly connected components, (WCC): maximal set of nodes where there exists a path in at least one direction between each pair of nodes.\n",
    "- Strongly connected components, (SCC): maximal set of nodes where there exists a path in both directions between each pair of nodes.\n",
    "\n",
    "And, within these categories we can additionally identify the weakly connected giant (WCGC), which is the largest of the weakly connected components and the strongly connected giant (SCGC), which is the largest of the strongly connected components. In effect these are the largest subgraphs within the network. Bovet et al illustrate this (incorrectly, for SCGC given arrows aren't two way) as follows:\n",
    "\n",
    "<img src=\"WCGC-SCGC.png\">"
   ]
  },
  {
   "cell_type": "markdown",
   "metadata": {},
   "source": [
    "## Strongly connected components"
   ]
  },
  {
   "cell_type": "code",
   "execution_count": null,
   "metadata": {
    "scrolled": true
   },
   "outputs": [],
   "source": [
    "# this returns a list of set of nodes belonging to the \n",
    "# different (strongly) connected components\n",
    "components_strong = list(nx.strongly_connected_components(G))\n",
    "\n",
    "# sort the component according to their size\n",
    "components_strong = list(sorted(components_strong, key=lambda x:len(x), reverse=True))\n",
    "\n",
    "# make a list with the size of each component\n",
    "comp_sizes_strong = []\n",
    "for comp in components_strong:\n",
    "    comp_sizes_strong.append(len(comp))\n",
    "    \n",
    "print(\"number of strong components: {}\".format(len(comp_sizes_strong)))\n",
    "\n",
    "print(\"sizes of the ten largest components: {}\".format(comp_sizes_strong[:20]))"
   ]
  },
  {
   "cell_type": "code",
   "execution_count": null,
   "metadata": {
    "scrolled": true
   },
   "outputs": [],
   "source": [
    "def draw_strongly_connected(idx):\n",
    "\n",
    "    largest_comp_strong = components_strong[idx]\n",
    "    LCC_strong = G.subgraph(largest_comp_strong)\n",
    "\n",
    "    print(\"number of components in LCC[{}] = {}\".format(idx, LCC_strong.number_of_nodes()))\n",
    "\n",
    "    # let's plot the degree distribution inside the LCC\n",
    "    degrees = [LCC_strong.degree(n) for n in LCC_strong.nodes()]\n",
    "    print(\"number of degrees for each node within LCC[{}] = {}\\n\".format(idx, degrees))\n",
    "    \n",
    "    # add weights to the edges based on how many times they are traversed\n",
    "    print(\"Weight of edges between each node:\\n\")\n",
    "    \n",
    "    for u, v, d in LCC_strong.edges(data=True):\n",
    "        d['weight'] = 1\n",
    "    for u,v,d in LCC_strong.edges(data=True):\n",
    "        print (u,v,d)\n",
    "    \n",
    "    ## <--- now look at centrality\n",
    "    betweenValues = nx.betweenness_centrality(LCC_strong)\n",
    "    \n",
    "    # betweenValues is a dictionary, let's get the values and keys in separate lists\n",
    "    values = list(betweenValues.values())\n",
    "    keys = list(betweenValues.keys())\n",
    "    \n",
    "    # find the index of the node with highest betweeness centrality\n",
    "    highestIndex = np.argmax(values)\n",
    "    \n",
    "    #Uses solution in the documentation: https://networkx.github.io/documentation/networkx-1.10/reference/generated/networkx.algorithms.components.connected.connected_component_subgraphs.html\n",
    "    \n",
    "    print('\\n <---- centrality and clustering measures -------> \\n')\n",
    "    print(\"The node id \", keys[highestIndex], \" has the centrality degree of \", values[highestIndex])\n",
    "\n",
    "    overallAverage = []\n",
    "    # now on to looking at clustering coefficients\n",
    "    for i in range(0, countComps):\n",
    "        clustCoeff = nx.clustering( connectedSubgraphs[i])\n",
    "        coeffVals = list(clustCoeff.values())\n",
    "        overallAverage.append(np.average(coeffVals))\n",
    "    \n",
    "    print (\"Average clustering coefficent is: \", np.average(overallAverage))\n",
    "\n",
    "    ## <--- end of this\n",
    "    \n",
    "    \n",
    "    plt.figure()\n",
    "    nx.draw_networkx(LCC_strong)\n",
    "    plt.show()"
   ]
  },
  {
   "cell_type": "code",
   "execution_count": null,
   "metadata": {
    "scrolled": true
   },
   "outputs": [],
   "source": [
    "range_limit = 5\n",
    "for n in range(range_limit):\n",
    "    draw_strongly_connected(n)"
   ]
  },
  {
   "cell_type": "markdown",
   "metadata": {},
   "source": [
    "## end of strongly connected components\n",
    "- need to comment on interesting not necessarily for the size of the strong components but mostly because of the prominence of their members in other communities - look at that as part of the weakly connected components plus also the community"
   ]
  },
  {
   "cell_type": "code",
   "execution_count": null,
   "metadata": {
    "scrolled": true
   },
   "outputs": [],
   "source": [
    "# this returns a list of set of nodes belonging to the \n",
    "# different (weakly) connected components\n",
    "components = list(nx.weakly_connected_components(G))\n",
    "\n",
    "# sort the component according to their size\n",
    "components = list(sorted(components, key=lambda x:len(x), reverse=True))"
   ]
  },
  {
   "cell_type": "code",
   "execution_count": null,
   "metadata": {
    "scrolled": true
   },
   "outputs": [],
   "source": [
    "# make a list with the size of each component\n",
    "comp_sizes = []\n",
    "for comp in components:\n",
    "    comp_sizes.append(len(comp))"
   ]
  },
  {
   "cell_type": "code",
   "execution_count": null,
   "metadata": {
    "scrolled": true
   },
   "outputs": [],
   "source": [
    "# plot the histogram of component sizes\n",
    "hist = plt.hist(comp_sizes, bins=100)"
   ]
  },
  {
   "cell_type": "code",
   "execution_count": null,
   "metadata": {
    "scrolled": true
   },
   "outputs": [],
   "source": [
    "# histogram with logarithmic y scale\n",
    "hist = plt.hist(comp_sizes, bins=100, log=True)\n",
    "tx = plt.xlabel('component size')\n",
    "ty = plt.ylabel('number of components')"
   ]
  },
  {
   "cell_type": "code",
   "execution_count": null,
   "metadata": {
    "scrolled": true
   },
   "outputs": [],
   "source": [
    "# sizes of the ten largest components\n",
    "comp_sizes[:10]"
   ]
  },
  {
   "cell_type": "code",
   "execution_count": null,
   "metadata": {
    "scrolled": true
   },
   "outputs": [],
   "source": [
    "# let's make a new graph which is the subgraph of G corresponding to \n",
    "# the largest connected component\n",
    "# let's find the largest component\n",
    "largest_comp = components[2]\n",
    "LCC = G.subgraph(largest_comp)"
   ]
  },
  {
   "cell_type": "code",
   "execution_count": null,
   "metadata": {
    "scrolled": true
   },
   "outputs": [],
   "source": [
    "G.number_of_nodes()"
   ]
  },
  {
   "cell_type": "code",
   "execution_count": null,
   "metadata": {
    "scrolled": true
   },
   "outputs": [],
   "source": [
    "LCC.number_of_nodes()"
   ]
  },
  {
   "cell_type": "code",
   "execution_count": null,
   "metadata": {
    "scrolled": true
   },
   "outputs": [],
   "source": [
    "# let's plot the degree distribution inside the LCC\n",
    "degrees = [LCC.degree(n) for n in LCC.nodes()]\n",
    "degrees.sort(reverse=True)\n",
    "degrees"
   ]
  },
  {
   "cell_type": "code",
   "execution_count": null,
   "metadata": {
    "scrolled": false
   },
   "outputs": [],
   "source": [
    "plt.figure(figsize=(10,10))\n",
    "nx.draw_networkx(LCC)\n",
    "plt.show()"
   ]
  },
  {
   "cell_type": "code",
   "execution_count": null,
   "metadata": {
    "scrolled": true
   },
   "outputs": [],
   "source": [
    "\n",
    "degree_array = np.array(degrees)\n",
    "hist = plt.hist(degree_array, bins=100)"
   ]
  },
  {
   "cell_type": "code",
   "execution_count": null,
   "metadata": {
    "scrolled": true
   },
   "outputs": [],
   "source": [
    "\n",
    "# using logarithmic scales\n",
    "hist = plt.hist(degree_array, bins=100, log=True)\n",
    "plt.xscale('log')"
   ]
  },
  {
   "cell_type": "code",
   "execution_count": null,
   "metadata": {
    "scrolled": true
   },
   "outputs": [],
   "source": [
    "# logarithmic scale with logarithmic bins\n",
    "N, bins, patches = plt.hist(degree_array, bins=np.logspace(0,np.log10(degree_array.max()+1), 20), log=True)\n",
    "plt.xscale('log')\n",
    "tx = plt.xlabel('k - degree')\n",
    "ty= plt.ylabel('number of nodes')"
   ]
  },
  {
   "cell_type": "code",
   "execution_count": null,
   "metadata": {
    "scrolled": true
   },
   "outputs": [],
   "source": [
    "# Degree probability distribution (P(k))\n",
    "\n",
    "# since we have logarithmic bins, we need to\n",
    "# take into account the fact that the bins \n",
    "# have different lenghts when normalizing\n",
    "bin_lengths = np.diff(bins) # lenght of each bin\n",
    "\n",
    "summ = np.sum(N*bin_lengths)\n",
    "normalized_degree_dist = N/summ\n",
    "\n",
    "# check normalization:\n",
    "print(np.sum(normalized_degree_dist*bin_lengths))\n",
    "\n",
    "hist = plt.bar(bins[:-1], normalized_degree_dist, width=np.diff(bins))\n",
    "plt.xscale('log')\n",
    "plt.yscale('log')\n",
    "tx = plt.xlabel('k (degree)')\n",
    "ty = plt.ylabel('P(k)')"
   ]
  },
  {
   "cell_type": "markdown",
   "metadata": {},
   "source": [
    "## Find most important Tweeters using Page Rank\n",
    "PageRank is a generalisation of Google's websearch algorithm, which was originally a method for returning the most important web pages for a given search term. It defined importance as the page which - need to talk about teleporting and surfer stuff - reference this bloke: Gleich, D.F., 2015. PageRank beyond the web. Siam Review, 57(3), pp.321-363.\n",
    "\n",
    "Also then look at from the perspective of centrality as this tells us which nodes(pages) have most edges in or out\n",
    "\n"
   ]
  },
  {
   "cell_type": "code",
   "execution_count": null,
   "metadata": {
    "scrolled": true
   },
   "outputs": [],
   "source": [
    "#teleportation probability\n",
    "alpha = 0.15\n",
    "\n",
    "#adjacency matrix\n",
    "nodelist = list(G.nodes())\n",
    "A = nx.to_numpy_array(G, nodelist=nodelist)\n",
    "\n",
    "#diagonal matrix of out degrees\n",
    "deg_out_vect = np.array([float(max(G.out_degree(n),1)) for n in nodelist])\n",
    "D_out_inv = np.diag(1/deg_out_vect)\n",
    "\n",
    "# teleportation transition matrix\n",
    "N = A.shape[1]\n",
    "S = np.ones((N,N))*1/N\n",
    "\n",
    "# full transition matrix\n",
    "M = (1-alpha)*D_out_inv @ A + alpha*S\n",
    "\n",
    "# for dangling nodes (nodes without out-edges), we force the random teleportation\n",
    "dangling_nodes = np.where(A.sum(1) == 0)[0]\n",
    "M[dangling_nodes,:] = S[dangling_nodes,:]\n",
    "\n",
    "#initial walker distribution and 1st iteration\n",
    "p_last = np.ones(N)*1/N\n",
    "p = np.matmul(p_last, M)\n",
    "\n",
    "# iterate until sufficient convergence\n",
    "eps = 1.0e-8\n",
    "i = 1\n",
    "while np.linalg.norm(p - p_last, 2) > eps:\n",
    "        p_last = p\n",
    "        p = np.matmul(p, M)\n",
    "        i += 1\n",
    "\n",
    "print(i)"
   ]
  },
  {
   "cell_type": "code",
   "execution_count": null,
   "metadata": {
    "scrolled": true
   },
   "outputs": [],
   "source": [
    "pg_ranking = np.array(np.argsort(p)[::-1])\n",
    "\n",
    "pagerank_values = p[pg_ranking]\n",
    "nodes_pagerank = [nodelist[r] for r in pg_ranking]\n",
    "nodes_pagerank[:20]"
   ]
  },
  {
   "cell_type": "code",
   "execution_count": null,
   "metadata": {
    "scrolled": true
   },
   "outputs": [],
   "source": [
    "names_pagerank = [G.nodes[n]['name'] for n in nodes_pagerank]\n",
    "names_pagerank[:20]"
   ]
  },
  {
   "cell_type": "markdown",
   "metadata": {},
   "source": [
    "### Compare page rank with degree\n",
    "Top 20 nodes by degree:\n",
    "- ('KoolKat1025', 911)\n",
    "- ('LeoKearse', 629)\n",
    "- ('LeaveEUOfficial', 537)\n",
    "- ('SadiqKhan', 510)\n",
    "- ('MayorofLondon', 376)\n",
    "- ('BrexitBassist', 317)\n",
    "- ('PoliticsJOE_UK', 314)\n",
    "- ('mariannaspring', 294)\n",
    "- ('PoliticsForAlI', 240)\n",
    "- ('LBC', 235)\n",
    "- ('PrisonPlanet', 230)\n",
    "- ('NKrankie', 219)\n",
    "- ('talkRADIO', 210)\n",
    "- ('TJ_Knight', 192)\n",
    "- ('metpoliceuk', 171)\n",
    "- ('ashindestad', 170)\n",
    "- ('MickeyD44314901', 160)\n",
    "- ('DJBURNS_was', 160)\n",
    "- ('Independent', 160)\n",
    "- ('standardnews', 152)"
   ]
  },
  {
   "cell_type": "code",
   "execution_count": null,
   "metadata": {
    "scrolled": true
   },
   "outputs": [],
   "source": [
    "hist = plt.bar(np.arange(p.shape[0]),np.sort(p)[::-1])\n",
    "ty = plt.ylabel('PageRank value')\n",
    "tx = plt.xlabel('PageRank ranking')"
   ]
  },
  {
   "cell_type": "code",
   "execution_count": null,
   "metadata": {
    "scrolled": true
   },
   "outputs": [],
   "source": [
    "# pagerank is a probability density\n",
    "pagerank_values.sum()"
   ]
  },
  {
   "cell_type": "code",
   "execution_count": null,
   "metadata": {
    "scrolled": true
   },
   "outputs": [],
   "source": [
    "# draw the network of the top 5 nodes\n",
    "plt.figure(figsize=(10,10))\n",
    "nx.draw(G, nodelist=nodes_pagerank[:5], node_size=8000*pagerank_values[:5],width=0.5, arrows=False)\n",
    "plt.show()"
   ]
  },
  {
   "cell_type": "code",
   "execution_count": null,
   "metadata": {
    "scrolled": true
   },
   "outputs": [],
   "source": [
    "# First let's add the pagerank value as a node attribute\n",
    "for n, pr in zip(nodes_pagerank,pagerank_values):\n",
    "    if n in LCC:\n",
    "        LCC.nodes[n]['page_rank'] = pr"
   ]
  },
  {
   "cell_type": "code",
   "execution_count": null,
   "metadata": {
    "scrolled": true
   },
   "outputs": [],
   "source": [
    "nodes_pagerank[:5]"
   ]
  },
  {
   "cell_type": "code",
   "execution_count": null,
   "metadata": {
    "scrolled": true
   },
   "outputs": [],
   "source": []
  }
 ],
 "metadata": {
  "kernelspec": {
   "display_name": "Python 3",
   "language": "python",
   "name": "python3"
  },
  "language_info": {
   "codemirror_mode": {
    "name": "ipython",
    "version": 3
   },
   "file_extension": ".py",
   "mimetype": "text/x-python",
   "name": "python",
   "nbconvert_exporter": "python",
   "pygments_lexer": "ipython3",
   "version": "3.8.3"
  }
 },
 "nbformat": 4,
 "nbformat_minor": 4
}
