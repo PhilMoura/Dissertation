{
 "cells": [
  {
   "cell_type": "markdown",
   "metadata": {},
   "source": [
    "# Get Tweets\n",
    "\n",
    "## Code References:\n",
    "- Setting up keys, basic cursor logic and populating tweet data into pandas dataframe:\n",
    "https://www.earthdatascience.org/courses/use-data-open-source-python/intro-to-apis/twitter-data-in-python/\n",
    "- retweet and favourite counts, better dataframe creator using Tweepy - https://towardsdatascience.com/how-to-build-a-dataset-from-twitter-using-python-tweepy-861bdbc16fa5\n",
    "- Getting user and location - https://stackoverflow.com/questions/50366489/how-to-get-twitter-users-screen-name-or-userid-from-a-specific-geolocations\n",
    "- Cleaning tweet text and finding out if retweet - https://stackoverflow.com/questions/50052330/tweepy-check-if-a-tweet-is-a-retweet\n",
    "- geocordinates - https://stackoverflow.com/questions/46044445/not-able-to-scrape-geo-coordinate-with-tweets-lat-lon\n",
    "- avoiding twitter api rate limit - https://stackoverflow.com/questions/21308762/avoid-twitter-api-limitation-with-tweepy\n",
    "- keeping authentication details secret - https://www.digitalocean.com/community/tutorials/how-to-create-a-twitterbot-with-python-3-and-the-tweepy-library"
   ]
  },
  {
   "cell_type": "code",
   "execution_count": 82,
   "metadata": {},
   "outputs": [],
   "source": [
    "import os\n",
    "import tweepy\n",
    "import datetime\n",
    "import pandas as pd"
   ]
  },
  {
   "cell_type": "markdown",
   "metadata": {},
   "source": [
    "## 1. Get Twitter Data\n",
    "We have two choices to loading twitter data:\n",
    "- 1.1. use the Tweepy API (but this can take hours)\n",
    "- 1.2. load the previously saved Twitter data "
   ]
  },
  {
   "cell_type": "markdown",
   "metadata": {},
   "source": [
    "### 1.1. Load data from Twitter \n",
    "#### 1.1.1 Twitter credentials file\n",
    "I don't want to make my Twitter credentials public and so these are loaded from a credentials file and that file is not uploaded to github. \n",
    "\n",
    "To replicate this code, create a 'credentials.py' file with the following lines (using your own credential details):\n",
    "\n",
    "`consumer_key = 'your_consumer_key'\n",
    "consumer_secret = 'your_consumer_secret'\n",
    "access_token = 'your_access_token'\n",
    "access_token_secret = 'your_access_token_secret'`"
   ]
  },
  {
   "cell_type": "code",
   "execution_count": null,
   "metadata": {},
   "outputs": [],
   "source": [
    "from credentials import *\n",
    "\n",
    "auth = tweepy.OAuthHandler(consumer_key, consumer_secret)\n",
    "auth.set_access_token(access_token, access_token_secret)\n",
    "api = tweepy.API(auth, wait_on_rate_limit=True, wait_on_rate_limit_notify=True)"
   ]
  },
  {
   "cell_type": "markdown",
   "metadata": {},
   "source": [
    "####  1.1.2 Set date parameters\n",
    "Using search words, I want to get all tweets between today's date and a start date of July 1, 2019\n",
    "- The start date is just before the day the Mayor made his speech and today's date is used so I can collect as many tweets as possible"
   ]
  },
  {
   "cell_type": "code",
   "execution_count": null,
   "metadata": {},
   "outputs": [],
   "source": [
    "date_from = datetime.date(2019, 7, 1)\n",
    "date_from"
   ]
  },
  {
   "cell_type": "markdown",
   "metadata": {},
   "source": [
    "#### 1.1.3 Get tweets using a cursor\n",
    "- First we define our function to load tweets\n",
    "- Create search terms to query Twitter - return results as a list of dictionary items\n",
    "- Concatenate all returned results and then use this to create a pandas dataframe\n",
    "\n",
    "##### 1.1.3.1 define get_tweets"
   ]
  },
  {
   "cell_type": "code",
   "execution_count": null,
   "metadata": {},
   "outputs": [],
   "source": [
    "import time\n",
    "\n",
    "def get_tweets(search_words, my_api): \n",
    "    tic = time.perf_counter()\n",
    "    tweets = tweepy.Cursor(my_api.search,\n",
    "                       q=search_words,\n",
    "                       lang=\"en\",\n",
    "                       since=date_from).items()\n",
    "    \n",
    "    output = []\n",
    "    for tweet in tweets:\n",
    "        tweet_id = tweet.id\n",
    "        text = tweet.text\n",
    "        tweet_date = tweet.created_at\n",
    "        user_id_str = tweet.user.id_str\n",
    "        screen_name = tweet.user.screen_name\n",
    "        user_name = tweet.user.name\n",
    "        user_id = api.get_user(user_id_str)\n",
    "        user_location = user_id.location\n",
    "        user_coordinates = tweet.coordinates\n",
    "        favourite_count = tweet.favorite_count\n",
    "        retweet_count = tweet.retweet_count\n",
    "                \n",
    "        line = {'tweet_id' : tweet_id,\n",
    "                'tweet_date' : tweet_date,\n",
    "                'tweeter_id' : user_id_str,\n",
    "                'tweeter_user_name' : user_name,\n",
    "                'tweeter_screen_name' : screen_name,\n",
    "                'tweeter_location' : user_location,\n",
    "                'tweeter_coordinates' : user_coordinates,\n",
    "                'message_text' : text,\n",
    "                'favourite_count' : favourite_count, \n",
    "                'retweet_count' : retweet_count}\n",
    "        output.append(line)\n",
    "        \n",
    "        \n",
    "    toc = time.perf_counter()\n",
    "    time_taken = toc - tic\n",
    "    \n",
    "    print('Time taken to process search term : {} , was {:.2f}'.format(search_words, time_taken))\n",
    "    \n",
    "    return output"
   ]
  },
  {
   "cell_type": "markdown",
   "metadata": {},
   "source": [
    "##### 1.1.3.2 create list of search terms and iteratively get tweets using these terms"
   ]
  },
  {
   "cell_type": "code",
   "execution_count": null,
   "metadata": {
    "scrolled": true
   },
   "outputs": [],
   "source": [
    "search_terms = [\"London AND knife AND crime\",\n",
    "                \"Khan AND knife AND crime\",\n",
    "                \"London AND violent AND crime\",\n",
    "                \"youth AND violent AND crime\",\n",
    "                \"youth AND knife AND crime\",\n",
    "                \"london AND youthcrime\",\n",
    "                \"#knifecrime AND #khan\",\n",
    "                \"#knifecrime AND #london\",\n",
    "                \"#violence AND #khan\",\n",
    "                \"#london AND #unsafe\",\n",
    "                \"sadiq AND khan\"]\n",
    "\n",
    "all_tweets = []\n",
    "\n",
    "for search_term in search_terms:\n",
    "    current_tweets = get_tweets(search_term, api)\n",
    "    all_tweets.append(current_tweets)\n"
   ]
  },
  {
   "cell_type": "markdown",
   "metadata": {},
   "source": [
    "#### 1.1.4 create all_tweets_df dataframe"
   ]
  },
  {
   "cell_type": "code",
   "execution_count": null,
   "metadata": {},
   "outputs": [],
   "source": [
    "all_tweets_df = pd.DataFrame(columns=['tweet_id', \n",
    "                                      'tweet_date', \n",
    "                                      'tweeter_id', \n",
    "                                      'tweeter_user_name', \n",
    "                                      'tweeter_screen_name', \n",
    "                                      'tweeter_location',\n",
    "                                      'tweeter_coordinates',\n",
    "                                      'message_text',\n",
    "                                      'favourite_count',\n",
    "                                      'retweet_count'])\n",
    "\n",
    "for these_tweets in all_tweets:\n",
    "    df_tweets = pd.DataFrame(these_tweets)\n",
    "    all_tweets_df = all_tweets_df.append(df_tweets, ignore_index=True)\n",
    "    \n",
    "print(all_tweets_df.shape)\n",
    "all_tweets_df.head()\n",
    "\n",
    "all_tweets_df.to_csv('./DataSources/TwitterData/raw_tweets.csv', index=False)"
   ]
  },
  {
   "cell_type": "markdown",
   "metadata": {},
   "source": [
    "### 1.2. Load previously saved Twitter data"
   ]
  },
  {
   "cell_type": "code",
   "execution_count": 83,
   "metadata": {},
   "outputs": [
    {
     "name": "stdout",
     "output_type": "stream",
     "text": [
      "(12893, 10)\n"
     ]
    },
    {
     "data": {
      "text/html": [
       "<div>\n",
       "<style scoped>\n",
       "    .dataframe tbody tr th:only-of-type {\n",
       "        vertical-align: middle;\n",
       "    }\n",
       "\n",
       "    .dataframe tbody tr th {\n",
       "        vertical-align: top;\n",
       "    }\n",
       "\n",
       "    .dataframe thead th {\n",
       "        text-align: right;\n",
       "    }\n",
       "</style>\n",
       "<table border=\"1\" class=\"dataframe\">\n",
       "  <thead>\n",
       "    <tr style=\"text-align: right;\">\n",
       "      <th></th>\n",
       "      <th>tweet_id</th>\n",
       "      <th>tweet_date</th>\n",
       "      <th>tweeter_id</th>\n",
       "      <th>tweeter_user_name</th>\n",
       "      <th>tweeter_screen_name</th>\n",
       "      <th>tweeter_location</th>\n",
       "      <th>tweeter_coordinates</th>\n",
       "      <th>message_text</th>\n",
       "      <th>favourite_count</th>\n",
       "      <th>retweet_count</th>\n",
       "    </tr>\n",
       "  </thead>\n",
       "  <tbody>\n",
       "    <tr>\n",
       "      <th>0</th>\n",
       "      <td>1417823998335983616</td>\n",
       "      <td>2021-07-21 12:29:17</td>\n",
       "      <td>726740035</td>\n",
       "      <td>Cal Parrish</td>\n",
       "      <td>CalParrish</td>\n",
       "      <td>Stoney Stanton</td>\n",
       "      <td>NaN</td>\n",
       "      <td>RT @standardnews: Youth services funding has f...</td>\n",
       "      <td>0</td>\n",
       "      <td>1</td>\n",
       "    </tr>\n",
       "    <tr>\n",
       "      <th>1</th>\n",
       "      <td>1417823360000708609</td>\n",
       "      <td>2021-07-21 12:26:45</td>\n",
       "      <td>950473173077823489</td>\n",
       "      <td>Constantin St Helen’ll do🇬🇧🏴󠁧󠁢󠁥󠁮󠁧󠁿🇾🇪</td>\n",
       "      <td>ConstantinStHe1</td>\n",
       "      <td>Amongst the voting masses objecting to valuati...</td>\n",
       "      <td>NaN</td>\n",
       "      <td>RT @KhanMustGo: 🚨🚨BREAKING: Primary school boy...</td>\n",
       "      <td>0</td>\n",
       "      <td>10</td>\n",
       "    </tr>\n",
       "    <tr>\n",
       "      <th>2</th>\n",
       "      <td>1417823086225895425</td>\n",
       "      <td>2021-07-21 12:25:40</td>\n",
       "      <td>38142380</td>\n",
       "      <td>Evening Standard</td>\n",
       "      <td>standardnews</td>\n",
       "      <td>London</td>\n",
       "      <td>NaN</td>\n",
       "      <td>Youth services funding has fallen 70 per cent ...</td>\n",
       "      <td>1</td>\n",
       "      <td>1</td>\n",
       "    </tr>\n",
       "    <tr>\n",
       "      <th>3</th>\n",
       "      <td>1417821512862683142</td>\n",
       "      <td>2021-07-21 12:19:25</td>\n",
       "      <td>1871162396</td>\n",
       "      <td>David Cohen</td>\n",
       "      <td>cohenstandard</td>\n",
       "      <td>London</td>\n",
       "      <td>NaN</td>\n",
       "      <td>Our @standardnews Special Investigation reveal...</td>\n",
       "      <td>0</td>\n",
       "      <td>0</td>\n",
       "    </tr>\n",
       "    <tr>\n",
       "      <th>4</th>\n",
       "      <td>1417821022846439427</td>\n",
       "      <td>2021-07-21 12:17:28</td>\n",
       "      <td>1871162396</td>\n",
       "      <td>David Cohen</td>\n",
       "      <td>cohenstandard</td>\n",
       "      <td>London</td>\n",
       "      <td>NaN</td>\n",
       "      <td>A 7-year-old took knife into school. When knif...</td>\n",
       "      <td>0</td>\n",
       "      <td>0</td>\n",
       "    </tr>\n",
       "  </tbody>\n",
       "</table>\n",
       "</div>"
      ],
      "text/plain": [
       "              tweet_id           tweet_date          tweeter_id  \\\n",
       "0  1417823998335983616  2021-07-21 12:29:17           726740035   \n",
       "1  1417823360000708609  2021-07-21 12:26:45  950473173077823489   \n",
       "2  1417823086225895425  2021-07-21 12:25:40            38142380   \n",
       "3  1417821512862683142  2021-07-21 12:19:25          1871162396   \n",
       "4  1417821022846439427  2021-07-21 12:17:28          1871162396   \n",
       "\n",
       "                      tweeter_user_name tweeter_screen_name  \\\n",
       "0                           Cal Parrish          CalParrish   \n",
       "1  Constantin St Helen’ll do🇬🇧🏴󠁧󠁢󠁥󠁮󠁧󠁿🇾🇪     ConstantinStHe1   \n",
       "2                      Evening Standard        standardnews   \n",
       "3                           David Cohen       cohenstandard   \n",
       "4                           David Cohen       cohenstandard   \n",
       "\n",
       "                                    tweeter_location tweeter_coordinates  \\\n",
       "0                                     Stoney Stanton                 NaN   \n",
       "1  Amongst the voting masses objecting to valuati...                 NaN   \n",
       "2                                             London                 NaN   \n",
       "3                                             London                 NaN   \n",
       "4                                             London                 NaN   \n",
       "\n",
       "                                        message_text  favourite_count  \\\n",
       "0  RT @standardnews: Youth services funding has f...                0   \n",
       "1  RT @KhanMustGo: 🚨🚨BREAKING: Primary school boy...                0   \n",
       "2  Youth services funding has fallen 70 per cent ...                1   \n",
       "3  Our @standardnews Special Investigation reveal...                0   \n",
       "4  A 7-year-old took knife into school. When knif...                0   \n",
       "\n",
       "   retweet_count  \n",
       "0              1  \n",
       "1             10  \n",
       "2              1  \n",
       "3              0  \n",
       "4              0  "
      ]
     },
     "execution_count": 83,
     "metadata": {},
     "output_type": "execute_result"
    }
   ],
   "source": [
    "all_tweets_df_new = pd.read_csv(\"./DataSources/TwitterData/raw_tweets.csv\")\n",
    "print(all_tweets_df_new.shape)\n",
    "all_tweets_df_new.head()"
   ]
  },
  {
   "cell_type": "code",
   "execution_count": null,
   "metadata": {},
   "outputs": [],
   "source": []
  }
 ],
 "metadata": {
  "kernelspec": {
   "display_name": "Python 3",
   "language": "python",
   "name": "python3"
  },
  "language_info": {
   "codemirror_mode": {
    "name": "ipython",
    "version": 3
   },
   "file_extension": ".py",
   "mimetype": "text/x-python",
   "name": "python",
   "nbconvert_exporter": "python",
   "pygments_lexer": "ipython3",
   "version": "3.8.3"
  }
 },
 "nbformat": 4,
 "nbformat_minor": 4
}
